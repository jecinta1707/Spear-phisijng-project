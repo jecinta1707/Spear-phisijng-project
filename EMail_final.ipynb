{
  "cells": [
    {
      "cell_type": "markdown",
      "source": [
        "### System Configuration"
      ],
      "metadata": {
        "id": "jLzNVc4ESyXy"
      },
      "id": "jLzNVc4ESyXy"
    },
    {
      "cell_type": "code",
      "source": [
        "from psutil import *\n",
        "# This code will return the number of CPU\n",
        "print(\"Number of CPU: \", cpu_count())\n",
        "# This code will return the CPU info\n",
        "!cat /proc/cpuinfo"
      ],
      "metadata": {
        "colab": {
          "base_uri": "https://localhost:8080/"
        },
        "id": "WZbqIp_WS1Yp",
        "outputId": "1a28c293-6318-499b-b7ee-458e986d480b"
      },
      "id": "WZbqIp_WS1Yp",
      "execution_count": null,
      "outputs": [
        {
          "output_type": "stream",
          "name": "stdout",
          "text": [
            "Number of CPU:  2\n",
            "processor\t: 0\n",
            "vendor_id\t: GenuineIntel\n",
            "cpu family\t: 6\n",
            "model\t\t: 79\n",
            "model name\t: Intel(R) Xeon(R) CPU @ 2.20GHz\n",
            "stepping\t: 0\n",
            "microcode\t: 0xffffffff\n",
            "cpu MHz\t\t: 2199.998\n",
            "cache size\t: 56320 KB\n",
            "physical id\t: 0\n",
            "siblings\t: 2\n",
            "core id\t\t: 0\n",
            "cpu cores\t: 1\n",
            "apicid\t\t: 0\n",
            "initial apicid\t: 0\n",
            "fpu\t\t: yes\n",
            "fpu_exception\t: yes\n",
            "cpuid level\t: 13\n",
            "wp\t\t: yes\n",
            "flags\t\t: fpu vme de pse tsc msr pae mce cx8 apic sep mtrr pge mca cmov pat pse36 clflush mmx fxsr sse sse2 ss ht syscall nx pdpe1gb rdtscp lm constant_tsc rep_good nopl xtopology nonstop_tsc cpuid tsc_known_freq pni pclmulqdq ssse3 fma cx16 pcid sse4_1 sse4_2 x2apic movbe popcnt aes xsave avx f16c rdrand hypervisor lahf_lm abm 3dnowprefetch invpcid_single ssbd ibrs ibpb stibp fsgsbase tsc_adjust bmi1 hle avx2 smep bmi2 erms invpcid rtm rdseed adx smap xsaveopt arat md_clear arch_capabilities\n",
            "bugs\t\t: cpu_meltdown spectre_v1 spectre_v2 spec_store_bypass l1tf mds swapgs taa mmio_stale_data retbleed bhi\n",
            "bogomips\t: 4399.99\n",
            "clflush size\t: 64\n",
            "cache_alignment\t: 64\n",
            "address sizes\t: 46 bits physical, 48 bits virtual\n",
            "power management:\n",
            "\n",
            "processor\t: 1\n",
            "vendor_id\t: GenuineIntel\n",
            "cpu family\t: 6\n",
            "model\t\t: 79\n",
            "model name\t: Intel(R) Xeon(R) CPU @ 2.20GHz\n",
            "stepping\t: 0\n",
            "microcode\t: 0xffffffff\n",
            "cpu MHz\t\t: 2199.998\n",
            "cache size\t: 56320 KB\n",
            "physical id\t: 0\n",
            "siblings\t: 2\n",
            "core id\t\t: 0\n",
            "cpu cores\t: 1\n",
            "apicid\t\t: 1\n",
            "initial apicid\t: 1\n",
            "fpu\t\t: yes\n",
            "fpu_exception\t: yes\n",
            "cpuid level\t: 13\n",
            "wp\t\t: yes\n",
            "flags\t\t: fpu vme de pse tsc msr pae mce cx8 apic sep mtrr pge mca cmov pat pse36 clflush mmx fxsr sse sse2 ss ht syscall nx pdpe1gb rdtscp lm constant_tsc rep_good nopl xtopology nonstop_tsc cpuid tsc_known_freq pni pclmulqdq ssse3 fma cx16 pcid sse4_1 sse4_2 x2apic movbe popcnt aes xsave avx f16c rdrand hypervisor lahf_lm abm 3dnowprefetch invpcid_single ssbd ibrs ibpb stibp fsgsbase tsc_adjust bmi1 hle avx2 smep bmi2 erms invpcid rtm rdseed adx smap xsaveopt arat md_clear arch_capabilities\n",
            "bugs\t\t: cpu_meltdown spectre_v1 spectre_v2 spec_store_bypass l1tf mds swapgs taa mmio_stale_data retbleed bhi\n",
            "bogomips\t: 4399.99\n",
            "clflush size\t: 64\n",
            "cache_alignment\t: 64\n",
            "address sizes\t: 46 bits physical, 48 bits virtual\n",
            "power management:\n",
            "\n"
          ]
        }
      ]
    },
    {
      "cell_type": "code",
      "source": [
        "## Operating system\n",
        "import os\n",
        "print(os.name)\n",
        "\n",
        "import platform\n",
        "print(platform.system())"
      ],
      "metadata": {
        "colab": {
          "base_uri": "https://localhost:8080/"
        },
        "id": "K2oIF3bBS1TY",
        "outputId": "b62721c8-ea36-481a-d8d6-7450ebb49862"
      },
      "id": "K2oIF3bBS1TY",
      "execution_count": null,
      "outputs": [
        {
          "output_type": "stream",
          "name": "stdout",
          "text": [
            "posix\n",
            "Linux\n"
          ]
        }
      ]
    },
    {
      "cell_type": "markdown",
      "source": [
        "### Mount Google drive"
      ],
      "metadata": {
        "id": "a37-__AaS2LZ"
      },
      "id": "a37-__AaS2LZ"
    },
    {
      "cell_type": "code",
      "execution_count": null,
      "id": "CzHRkoldDbLI",
      "metadata": {
        "colab": {
          "base_uri": "https://localhost:8080/"
        },
        "id": "CzHRkoldDbLI",
        "outputId": "de3a87c5-5aee-404f-c4ba-b6b79d4bfd88"
      },
      "outputs": [
        {
          "output_type": "stream",
          "name": "stdout",
          "text": [
            "Mounted at /content/drive\n"
          ]
        }
      ],
      "source": [
        "from google.colab import drive\n",
        "drive.mount('/content/drive')"
      ]
    },
    {
      "cell_type": "code",
      "execution_count": null,
      "id": "8decdbab",
      "metadata": {
        "colab": {
          "base_uri": "https://localhost:8080/"
        },
        "id": "8decdbab",
        "outputId": "6ca5fd85-6a9c-40f1-f25f-7358e49ee9eb",
        "collapsed": true
      },
      "outputs": [
        {
          "output_type": "stream",
          "name": "stderr",
          "text": [
            "[nltk_data] Downloading package stopwords to /root/nltk_data...\n",
            "[nltk_data]   Unzipping corpora/stopwords.zip.\n",
            "[nltk_data] Downloading package wordnet to /root/nltk_data...\n",
            "/usr/local/lib/python3.10/dist-packages/dask/dataframe/__init__.py:42: FutureWarning: \n",
            "Dask dataframe query planning is disabled because dask-expr is not installed.\n",
            "\n",
            "You can install it with `pip install dask[dataframe]` or `conda install dask`.\n",
            "This will raise in a future version.\n",
            "\n",
            "  warnings.warn(msg, FutureWarning)\n"
          ]
        }
      ],
      "source": [
        "### Libararies for data pre-processing and Visualization\n",
        "import pandas as pd\n",
        "import numpy as np\n",
        "import matplotlib.pyplot as plt\n",
        "import seaborn as sns\n",
        "import json\n",
        "import os\n",
        "from collections import Counter\n",
        "\n",
        "### Natural Language Processing Libraries\n",
        "import re\n",
        "from nltk.corpus import stopwords\n",
        "from nltk.stem import WordNetLemmatizer\n",
        "from collections import Counter\n",
        "import nltk\n",
        "# Download necessary NLTK data files\n",
        "nltk.download('stopwords')\n",
        "nltk.download('wordnet')\n",
        "\n",
        "## Feature Extraction\n",
        "from sklearn.feature_extraction.text import TfidfVectorizer\n",
        "\n",
        "### Machine Learning Libararies\n",
        "from sklearn.model_selection import train_test_split\n",
        "from sklearn.metrics import accuracy_score, f1_score, matthews_corrcoef, precision_score, recall_score,confusion_matrix\n",
        "from sklearn.linear_model import LogisticRegression\n",
        "from sklearn.naive_bayes import MultinomialNB\n",
        "from sklearn.tree import DecisionTreeClassifier\n",
        "from sklearn.ensemble import RandomForestClassifier\n",
        "import xgboost as xgb\n",
        "import lightgbm as lgb"
      ]
    },
    {
      "cell_type": "markdown",
      "source": [
        "### Evaluation Metrics Function"
      ],
      "metadata": {
        "id": "LwTpSQPkTeA1"
      },
      "id": "LwTpSQPkTeA1"
    },
    {
      "cell_type": "code",
      "source": [
        "def evaluate_model_performance(y_true, y_pred):\n",
        "\n",
        "    metrics = {\n",
        "        'accuracy': accuracy_score(y_true, y_pred),\n",
        "        'f1_score': f1_score(y_true, y_pred, average='weighted'),\n",
        "        'mcc': matthews_corrcoef(y_true, y_pred),\n",
        "        'precision': precision_score(y_true, y_pred, average='weighted'),\n",
        "        'recall': recall_score(y_true, y_pred, average='weighted')\n",
        "    }\n",
        "\n",
        "    return metrics"
      ],
      "metadata": {
        "id": "zhEvALM2Tdbd"
      },
      "id": "zhEvALM2Tdbd",
      "execution_count": null,
      "outputs": []
    },
    {
      "cell_type": "markdown",
      "source": [
        "### Confusion Matrix Plot Function"
      ],
      "metadata": {
        "id": "ndWKk0bFcNcE"
      },
      "id": "ndWKk0bFcNcE"
    },
    {
      "cell_type": "code",
      "source": [
        "def plot_confusion_matrix(y_true, y_pred, class_names=None):\n",
        "    cm = confusion_matrix(y_true, y_pred)\n",
        "    if class_names is None:\n",
        "        class_names = [str(i) for i in range(cm.shape[0])]\n",
        "\n",
        "    fig, ax = plt.subplots(figsize=(8, 6))\n",
        "    im = ax.imshow(cm, interpolation='nearest', cmap=plt.cm.Blues)\n",
        "    ax.figure.colorbar(im, ax=ax)\n",
        "\n",
        "    # We want to show all ticks and label them with the respective list entries\n",
        "    ax.set(xticks=np.arange(cm.shape[1]),\n",
        "           yticks=np.arange(cm.shape[0]),\n",
        "           xticklabels=class_names, yticklabels=class_names,\n",
        "           title='Confusion Matrix',\n",
        "           ylabel='True label',\n",
        "           xlabel='Predicted label')\n",
        "\n",
        "    # Rotate the tick labels and set their alignment.\n",
        "    plt.setp(ax.get_xticklabels(), rotation=45, ha=\"right\",\n",
        "             rotation_mode=\"anchor\")\n",
        "\n",
        "    # Loop over data dimensions and create text annotations.\n",
        "    fmt = 'd'\n",
        "    thresh = cm.max() / 2.\n",
        "    for i in range(cm.shape[0]):\n",
        "        for j in range(cm.shape[1]):\n",
        "            ax.text(j, i, format(cm[i, j], fmt),\n",
        "                    ha=\"center\", va=\"center\",\n",
        "                    color=\"white\" if cm[i, j] > thresh else \"black\")\n",
        "    fig.tight_layout()\n",
        "    plt.show()"
      ],
      "metadata": {
        "id": "H-NrYb0LU_Vt"
      },
      "id": "H-NrYb0LU_Vt",
      "execution_count": null,
      "outputs": []
    },
    {
      "cell_type": "markdown",
      "id": "fbeb51ea",
      "metadata": {
        "id": "fbeb51ea"
      },
      "source": [
        "### Data Merging Function\n",
        "\n",
        "A function to read the json file and convert it into a dataframe"
      ]
    },
    {
      "cell_type": "code",
      "execution_count": null,
      "id": "OhEjs_ISE0Oi",
      "metadata": {
        "id": "OhEjs_ISE0Oi"
      },
      "outputs": [],
      "source": [
        "path = '/content/drive/MyDrive/Email-project'"
      ]
    },
    {
      "cell_type": "code",
      "execution_count": null,
      "id": "33e14ce6",
      "metadata": {
        "id": "33e14ce6"
      },
      "outputs": [],
      "source": [
        "def json_files_to_dataframe(directory):\n",
        "    # Initialize an empty list to hold the data from each file\n",
        "    data_list = []\n",
        "\n",
        "    # Loop through each file in the directory\n",
        "    for filename in os.listdir(directory):\n",
        "        if filename.endswith('.json'):\n",
        "            file_path = os.path.join(directory, filename)\n",
        "\n",
        "            # Open and read the JSON file\n",
        "            with open(file_path, 'r') as file:\n",
        "                data = json.load(file)\n",
        "\n",
        "                # Append the data to the list\n",
        "                data_list.append(data)\n",
        "\n",
        "    # Create a DataFrame from the list of data\n",
        "    df = pd.DataFrame(data_list)\n",
        "    return df"
      ]
    },
    {
      "cell_type": "code",
      "execution_count": null,
      "id": "364f1bac",
      "metadata": {
        "id": "364f1bac"
      },
      "outputs": [],
      "source": [
        "## The path of the dataset\n",
        "normal_path = path + '/enron_ham'\n",
        "spam_path = path + '/spear_phishing'"
      ]
    },
    {
      "cell_type": "code",
      "execution_count": null,
      "id": "e540e84c",
      "metadata": {
        "id": "e540e84c"
      },
      "outputs": [],
      "source": [
        "### Normal (Non-Spam) Email\n",
        "normal_df = json_files_to_dataframe(normal_path)\n",
        "### SPam Email\n",
        "spam_df = json_files_to_dataframe(spam_path)"
      ]
    },
    {
      "cell_type": "code",
      "execution_count": null,
      "id": "A7zDRB14HCeG",
      "metadata": {
        "id": "A7zDRB14HCeG",
        "colab": {
          "base_uri": "https://localhost:8080/",
          "height": 238
        },
        "outputId": "19800f0c-4b7c-4b6c-a61c-b88d8b16d11c"
      },
      "outputs": [
        {
          "output_type": "execute_result",
          "data": {
            "text/plain": [
              "                                       email_subject  \\\n",
              "0                   Option Analysis on NG Price Book   \n",
              "1  (01-154) Implementation of New NYMEX Rule 9.11...   \n",
              "2                                           Re: Demo   \n",
              "3                Analyst Interviews Needed - 2/15/01   \n",
              "4              Avaya - Preparation Meeting   EB4598A   \n",
              "\n",
              "                                          email_body  \\\n",
              "0  ---------------------- Forwarded by John Arnol...   \n",
              "1  ---------------------- Forwarded by John Arnol...   \n",
              "2  yes Brian Hoskins@ENRON COMMUNICATIONS 10/05/2...   \n",
              "3  Patti, This sounds like an opportunity to land...   \n",
              "4  Strategy meeting to prepare for the Avaya disc...   \n",
              "\n",
              "                                            id  \n",
              "0  32572339_1075857602061_JavaMail_evans_thyme  \n",
              "1  20877951_1075857650163_JavaMail_evans_thyme  \n",
              "2   7584611_1075857597105_JavaMail_evans_thyme  \n",
              "3  31274667_1075855698684_JavaMail_evans_thyme  \n",
              "4   5973279_1075849627592_JavaMail_evans_thyme  "
            ],
            "text/html": [
              "\n",
              "  <div id=\"df-a3e7bd67-dd95-4531-b268-7519233fc398\" class=\"colab-df-container\">\n",
              "    <div>\n",
              "<style scoped>\n",
              "    .dataframe tbody tr th:only-of-type {\n",
              "        vertical-align: middle;\n",
              "    }\n",
              "\n",
              "    .dataframe tbody tr th {\n",
              "        vertical-align: top;\n",
              "    }\n",
              "\n",
              "    .dataframe thead th {\n",
              "        text-align: right;\n",
              "    }\n",
              "</style>\n",
              "<table border=\"1\" class=\"dataframe\">\n",
              "  <thead>\n",
              "    <tr style=\"text-align: right;\">\n",
              "      <th></th>\n",
              "      <th>email_subject</th>\n",
              "      <th>email_body</th>\n",
              "      <th>id</th>\n",
              "    </tr>\n",
              "  </thead>\n",
              "  <tbody>\n",
              "    <tr>\n",
              "      <th>0</th>\n",
              "      <td>Option Analysis on NG Price Book</td>\n",
              "      <td>---------------------- Forwarded by John Arnol...</td>\n",
              "      <td>32572339_1075857602061_JavaMail_evans_thyme</td>\n",
              "    </tr>\n",
              "    <tr>\n",
              "      <th>1</th>\n",
              "      <td>(01-154) Implementation of New NYMEX Rule 9.11...</td>\n",
              "      <td>---------------------- Forwarded by John Arnol...</td>\n",
              "      <td>20877951_1075857650163_JavaMail_evans_thyme</td>\n",
              "    </tr>\n",
              "    <tr>\n",
              "      <th>2</th>\n",
              "      <td>Re: Demo</td>\n",
              "      <td>yes Brian Hoskins@ENRON COMMUNICATIONS 10/05/2...</td>\n",
              "      <td>7584611_1075857597105_JavaMail_evans_thyme</td>\n",
              "    </tr>\n",
              "    <tr>\n",
              "      <th>3</th>\n",
              "      <td>Analyst Interviews Needed - 2/15/01</td>\n",
              "      <td>Patti, This sounds like an opportunity to land...</td>\n",
              "      <td>31274667_1075855698684_JavaMail_evans_thyme</td>\n",
              "    </tr>\n",
              "    <tr>\n",
              "      <th>4</th>\n",
              "      <td>Avaya - Preparation Meeting   EB4598A</td>\n",
              "      <td>Strategy meeting to prepare for the Avaya disc...</td>\n",
              "      <td>5973279_1075849627592_JavaMail_evans_thyme</td>\n",
              "    </tr>\n",
              "  </tbody>\n",
              "</table>\n",
              "</div>\n",
              "    <div class=\"colab-df-buttons\">\n",
              "\n",
              "  <div class=\"colab-df-container\">\n",
              "    <button class=\"colab-df-convert\" onclick=\"convertToInteractive('df-a3e7bd67-dd95-4531-b268-7519233fc398')\"\n",
              "            title=\"Convert this dataframe to an interactive table.\"\n",
              "            style=\"display:none;\">\n",
              "\n",
              "  <svg xmlns=\"http://www.w3.org/2000/svg\" height=\"24px\" viewBox=\"0 -960 960 960\">\n",
              "    <path d=\"M120-120v-720h720v720H120Zm60-500h600v-160H180v160Zm220 220h160v-160H400v160Zm0 220h160v-160H400v160ZM180-400h160v-160H180v160Zm440 0h160v-160H620v160ZM180-180h160v-160H180v160Zm440 0h160v-160H620v160Z\"/>\n",
              "  </svg>\n",
              "    </button>\n",
              "\n",
              "  <style>\n",
              "    .colab-df-container {\n",
              "      display:flex;\n",
              "      gap: 12px;\n",
              "    }\n",
              "\n",
              "    .colab-df-convert {\n",
              "      background-color: #E8F0FE;\n",
              "      border: none;\n",
              "      border-radius: 50%;\n",
              "      cursor: pointer;\n",
              "      display: none;\n",
              "      fill: #1967D2;\n",
              "      height: 32px;\n",
              "      padding: 0 0 0 0;\n",
              "      width: 32px;\n",
              "    }\n",
              "\n",
              "    .colab-df-convert:hover {\n",
              "      background-color: #E2EBFA;\n",
              "      box-shadow: 0px 1px 2px rgba(60, 64, 67, 0.3), 0px 1px 3px 1px rgba(60, 64, 67, 0.15);\n",
              "      fill: #174EA6;\n",
              "    }\n",
              "\n",
              "    .colab-df-buttons div {\n",
              "      margin-bottom: 4px;\n",
              "    }\n",
              "\n",
              "    [theme=dark] .colab-df-convert {\n",
              "      background-color: #3B4455;\n",
              "      fill: #D2E3FC;\n",
              "    }\n",
              "\n",
              "    [theme=dark] .colab-df-convert:hover {\n",
              "      background-color: #434B5C;\n",
              "      box-shadow: 0px 1px 3px 1px rgba(0, 0, 0, 0.15);\n",
              "      filter: drop-shadow(0px 1px 2px rgba(0, 0, 0, 0.3));\n",
              "      fill: #FFFFFF;\n",
              "    }\n",
              "  </style>\n",
              "\n",
              "    <script>\n",
              "      const buttonEl =\n",
              "        document.querySelector('#df-a3e7bd67-dd95-4531-b268-7519233fc398 button.colab-df-convert');\n",
              "      buttonEl.style.display =\n",
              "        google.colab.kernel.accessAllowed ? 'block' : 'none';\n",
              "\n",
              "      async function convertToInteractive(key) {\n",
              "        const element = document.querySelector('#df-a3e7bd67-dd95-4531-b268-7519233fc398');\n",
              "        const dataTable =\n",
              "          await google.colab.kernel.invokeFunction('convertToInteractive',\n",
              "                                                    [key], {});\n",
              "        if (!dataTable) return;\n",
              "\n",
              "        const docLinkHtml = 'Like what you see? Visit the ' +\n",
              "          '<a target=\"_blank\" href=https://colab.research.google.com/notebooks/data_table.ipynb>data table notebook</a>'\n",
              "          + ' to learn more about interactive tables.';\n",
              "        element.innerHTML = '';\n",
              "        dataTable['output_type'] = 'display_data';\n",
              "        await google.colab.output.renderOutput(dataTable, element);\n",
              "        const docLink = document.createElement('div');\n",
              "        docLink.innerHTML = docLinkHtml;\n",
              "        element.appendChild(docLink);\n",
              "      }\n",
              "    </script>\n",
              "  </div>\n",
              "\n",
              "\n",
              "<div id=\"df-f5f81cf4-2ecc-4b07-b23d-5a60b1725d31\">\n",
              "  <button class=\"colab-df-quickchart\" onclick=\"quickchart('df-f5f81cf4-2ecc-4b07-b23d-5a60b1725d31')\"\n",
              "            title=\"Suggest charts\"\n",
              "            style=\"display:none;\">\n",
              "\n",
              "<svg xmlns=\"http://www.w3.org/2000/svg\" height=\"24px\"viewBox=\"0 0 24 24\"\n",
              "     width=\"24px\">\n",
              "    <g>\n",
              "        <path d=\"M19 3H5c-1.1 0-2 .9-2 2v14c0 1.1.9 2 2 2h14c1.1 0 2-.9 2-2V5c0-1.1-.9-2-2-2zM9 17H7v-7h2v7zm4 0h-2V7h2v10zm4 0h-2v-4h2v4z\"/>\n",
              "    </g>\n",
              "</svg>\n",
              "  </button>\n",
              "\n",
              "<style>\n",
              "  .colab-df-quickchart {\n",
              "      --bg-color: #E8F0FE;\n",
              "      --fill-color: #1967D2;\n",
              "      --hover-bg-color: #E2EBFA;\n",
              "      --hover-fill-color: #174EA6;\n",
              "      --disabled-fill-color: #AAA;\n",
              "      --disabled-bg-color: #DDD;\n",
              "  }\n",
              "\n",
              "  [theme=dark] .colab-df-quickchart {\n",
              "      --bg-color: #3B4455;\n",
              "      --fill-color: #D2E3FC;\n",
              "      --hover-bg-color: #434B5C;\n",
              "      --hover-fill-color: #FFFFFF;\n",
              "      --disabled-bg-color: #3B4455;\n",
              "      --disabled-fill-color: #666;\n",
              "  }\n",
              "\n",
              "  .colab-df-quickchart {\n",
              "    background-color: var(--bg-color);\n",
              "    border: none;\n",
              "    border-radius: 50%;\n",
              "    cursor: pointer;\n",
              "    display: none;\n",
              "    fill: var(--fill-color);\n",
              "    height: 32px;\n",
              "    padding: 0;\n",
              "    width: 32px;\n",
              "  }\n",
              "\n",
              "  .colab-df-quickchart:hover {\n",
              "    background-color: var(--hover-bg-color);\n",
              "    box-shadow: 0 1px 2px rgba(60, 64, 67, 0.3), 0 1px 3px 1px rgba(60, 64, 67, 0.15);\n",
              "    fill: var(--button-hover-fill-color);\n",
              "  }\n",
              "\n",
              "  .colab-df-quickchart-complete:disabled,\n",
              "  .colab-df-quickchart-complete:disabled:hover {\n",
              "    background-color: var(--disabled-bg-color);\n",
              "    fill: var(--disabled-fill-color);\n",
              "    box-shadow: none;\n",
              "  }\n",
              "\n",
              "  .colab-df-spinner {\n",
              "    border: 2px solid var(--fill-color);\n",
              "    border-color: transparent;\n",
              "    border-bottom-color: var(--fill-color);\n",
              "    animation:\n",
              "      spin 1s steps(1) infinite;\n",
              "  }\n",
              "\n",
              "  @keyframes spin {\n",
              "    0% {\n",
              "      border-color: transparent;\n",
              "      border-bottom-color: var(--fill-color);\n",
              "      border-left-color: var(--fill-color);\n",
              "    }\n",
              "    20% {\n",
              "      border-color: transparent;\n",
              "      border-left-color: var(--fill-color);\n",
              "      border-top-color: var(--fill-color);\n",
              "    }\n",
              "    30% {\n",
              "      border-color: transparent;\n",
              "      border-left-color: var(--fill-color);\n",
              "      border-top-color: var(--fill-color);\n",
              "      border-right-color: var(--fill-color);\n",
              "    }\n",
              "    40% {\n",
              "      border-color: transparent;\n",
              "      border-right-color: var(--fill-color);\n",
              "      border-top-color: var(--fill-color);\n",
              "    }\n",
              "    60% {\n",
              "      border-color: transparent;\n",
              "      border-right-color: var(--fill-color);\n",
              "    }\n",
              "    80% {\n",
              "      border-color: transparent;\n",
              "      border-right-color: var(--fill-color);\n",
              "      border-bottom-color: var(--fill-color);\n",
              "    }\n",
              "    90% {\n",
              "      border-color: transparent;\n",
              "      border-bottom-color: var(--fill-color);\n",
              "    }\n",
              "  }\n",
              "</style>\n",
              "\n",
              "  <script>\n",
              "    async function quickchart(key) {\n",
              "      const quickchartButtonEl =\n",
              "        document.querySelector('#' + key + ' button');\n",
              "      quickchartButtonEl.disabled = true;  // To prevent multiple clicks.\n",
              "      quickchartButtonEl.classList.add('colab-df-spinner');\n",
              "      try {\n",
              "        const charts = await google.colab.kernel.invokeFunction(\n",
              "            'suggestCharts', [key], {});\n",
              "      } catch (error) {\n",
              "        console.error('Error during call to suggestCharts:', error);\n",
              "      }\n",
              "      quickchartButtonEl.classList.remove('colab-df-spinner');\n",
              "      quickchartButtonEl.classList.add('colab-df-quickchart-complete');\n",
              "    }\n",
              "    (() => {\n",
              "      let quickchartButtonEl =\n",
              "        document.querySelector('#df-f5f81cf4-2ecc-4b07-b23d-5a60b1725d31 button');\n",
              "      quickchartButtonEl.style.display =\n",
              "        google.colab.kernel.accessAllowed ? 'block' : 'none';\n",
              "    })();\n",
              "  </script>\n",
              "</div>\n",
              "\n",
              "    </div>\n",
              "  </div>\n"
            ],
            "application/vnd.google.colaboratory.intrinsic+json": {
              "type": "dataframe",
              "variable_name": "normal_df",
              "summary": "{\n  \"name\": \"normal_df\",\n  \"rows\": 3000,\n  \"fields\": [\n    {\n      \"column\": \"email_subject\",\n      \"properties\": {\n        \"dtype\": \"category\",\n        \"num_unique_values\": 1308,\n        \"samples\": [\n          \"RE: Bishops\",\n          \"You are pre-approved for a Chase Platinum MasterCard\",\n          \"Re: am i right???\"\n        ],\n        \"semantic_type\": \"\",\n        \"description\": \"\"\n      }\n    },\n    {\n      \"column\": \"email_body\",\n      \"properties\": {\n        \"dtype\": \"string\",\n        \"num_unique_values\": 1777,\n        \"samples\": [\n          \"The Ultimate Traditional & Internet Marketing Tool, Introducing the \\\"MasterDisc 2002\\\" version 4.00, now released its MASSIVE 11 disc set with over 150 Million database records (18 gigabytes) for companies, people, email, fax, phone and mailing addresses Worldwide! COMPLETE 11 DISC SET WILL BE SOLD FOR $499.00 PER DISC AFTER OCTOBER!!! We've slashed the price for 15 days only to get you hooked on our leads & data products. The first disc ver 4.00 (Contains a 1% sampling of all databases, all software titles, all demos, more then 20 million email addresses and many other resources) including unlimited usage is yours permanently for just $199.95 for your first disc (Normally $299.00) if you order today!!! Also huge discounts from 10%-50% off of data discs ver 4.01 to ver 4.10 For More Information, and Available Records Contact us: #954-340-1018 voice Or visit the website at: **** MASTERDISC 2002 CONTENTS **** We've gone out of our way to insure that this product is the finest of its kind available. Each CD (ver.4.01 to ver.4.10) contains approximately 1% of the 150 million records distributed with the following files, directories and databases: **411: USA white and yellow pages data records including the following states, and database record fields; Included States...(Alaska, Arizona, California, Colorado, Connecticut, Hawaii, Idaho, Illinois, Iowa, Kansas, Maine, Massachusetts, Michigan, Minnesota, Missouri, Montana, Nebraska, Nevada, New Hampshire, New Jersey, New Mexico, New York, North Dakota, Ohio, Oklahoma, Oregon, Rhode Island, South Dakota, Texas, Utah, Vermont, Washington, Wisconsin, Wyoming) Included Fields...(ID, NAME, CONTACT, ADDRESS, CITY, STATE, ZIP, PHONE, TYPE, SIC1, SIC2, SIC3, SIC4, LATITUDE, LONGITUDE, POSTAL) #64,588,228 records **DISCREETLIST: Adult web site subscribers and adult webmasters email addresses. Subscribers (Email Address) #260,971 records Webmaster (Email Address) #18,104 records **DOCUMENTS: This directory contains very informative discussions about marketing and commercial email. Library: Online e-books related to marketing and commercial email Reports: Useful reports and documents from various topics #7,209 Files **EMAIL: This directory contains the email address lists broken down by groups such as domain, and more than one hundred categories into files with a maximum size of 100,000 records each for easy use. As well as several remove files that we suggest and highly recommend that you filter against all of your email lists. #31,414,838 records and #13,045,019 removes **FORTUNE: This database contains primary contact data relating to fortune 500, fortune 1000, and millions more corporations sort able by company size and sales. The fields that are included are as follows; Fortune #1 Included Fields...(ID, Company, Address, City, State, Zip, Phone, SIC, DUN, Sales, Employee, Contact, Title) #418,896 records Fortune #2 Included Fields...(EMAIL, SIC CODE, Company, Phone, Fax, Street, City, ZIP, State, Country, First Name, Last Name) #2,019,442 records **GENDERMAIL: Male and female email address lists that allow you target by gender with 99% accuracy. Male (Email Address) #13,131,440 records Female (Email Address) #6,074,490 records **MARKETMAKERS: Active online investors email addresses. Also information in reference to thousands of public companies symbols, and descriptions. #104,326 records **MAXDISC: Online website owners, administrators, and technical contacts for website domain name owners of the \\\".com\\\", \\\".net\\\", and \\\".org\\\" sites. This database has information from about 25% of all registered domains with these extensions. MaxDisc_Canada_2.txt Included Fields...(ID, Domain, Contact, Admin Handle, Admin Name, Admin Email, Admin Phone, Admin Fax, Billing Handle, Billing Name, Billing Email, Billing Phone, Billing Fax, Tech Handle, Tech Name, Tech Email, Tech Phone, Tech Fax) #74,550 records MaxDisc_City_State_Zip_1.txt Included Fields...(ID, City, State, Zip) #39,175 records MaxDisc_Country_Codes_1.txt Included Fields...(ID, Country, Abv) #253 records MaxDisc_Email_Removes_1.txt Included Fields...(ID, Email) #163,834 records MaxDisc_Foreign_1.txt Included #1,924,127 records MaxDisc_Foreign_2.zip Included Fields...(ID, Domain, Company, Address, Admin Handle, Admin Name, Admin Email, Admin Phone, Admin Fax, Billing Handle, Billing Name, Billing Email, Billing Phone, Billing Fax, Tech Handle, Tech Name, Tech Email, Tech Phone, Tech Fax) #2,412,834 records MaxDisc_Meta_1.zip Included Fields...(ID, Domain, Company, Address, City, State or Province, Zip, Country, First Name, Last Name, Email, Phone, Fax, Title, META Description, META Keywords, Body) #293,225 records MaxDisc_Meta_2.zip Included Fields...(ID, Domain, Email) #188,768 records MaxDisc_Sic_Codes_1.zip Included Fields...(Code, Description) #11,629 records MaxDisc_USA_1.zip Included Fields...(ID, Domain, Company, Contact, Address, City, State, Zip, Phone, Fax, Sic, Email) #1,389,876 records MaxDisc_USA_2.zip Included Fields...(ID, Domain, Company, Address, Billing Name, Billing Email, Billing Phone, Billing Fax, Admin Name, Admin Email, Admin Phone, Admin Fax, Tech Name, Tech Email, Tech Phone, Tech Fax) #2,998,891 records MaxDisc_USA_3.zip Included Fields...(ID, Domain, Company, Address, Billing Name, Billing Email, Billing Phone, Billing Fax, Admin Name, Admin Email, Admin Phone, Admin Fax, Tech Name, Tech Email, Tech Phone, Tech Fax) #2,005,887 records **NEWSPAPERS: National directory of newspapers from small local papers to large metro news agencies. Included Fields...(ID, Phone, Newspaper, City, State, Circulation, Frequency) #9,277 records **PITBOSS: Avid Online casino and sports book players, and casino webmasters. Players Included Fields...(ID, FIRSTNAME, LASTNAME, ADDRESS, CITY, STATE, ZIP, COUNTRY, PHONE, EMAIL, PMTTYPE, USERID, HOSTNAME, IPADDRESS) #235,583 records Webmaster Included Fields...(domain, date_created, date_expires, date_updated, registrar, name_server_1, name_server_2, name_server_3, name_server_4, owner_name_1, owner_address_1, owner_city, owner_state, owner_zip, owner_country, admin_contact_name_1, admin_contact_name_2, admin_contact_address_1, admin_contact_city, admin_contact_state, admin_contact_zip, admin_contact_country, admin_contact_phone, admin_contact_fax, admin_contact_email, tech_contact_name_1, tech_contact_name_2, tech_contact_address_1, tech_contact_city, tech_contact_state, tech_contact_zip, tech_contact_country, tech_contact_phone, tech_contact_fax, tech_contact_email) #82,371 records **SA: South American mailing databases from more than a dozen countries. Each mailing address belongs to a Visa or MasterCard credit card holder. Available countries such as; ARGENTINA, OSTA RICA, PERU, BRASIL, PUERTO_RICO, CHILE, PANAMA, URUGUAY, COLOMBIA, PARAGUAY, VENEZUELA Included Fields...(ID, NAME, ADDRESS, CODE) #650,456 records **SOFTWARE: This directory contains 86 software titles, some are fully functional versions and others are demo versions. Many suites of commercial email tools as well as many other useful resources will be found here to help extract, verify, manage, and deliver successful commercial email marketing campaigns. So overall the complete MasterDisc2002 will provide you with well over #150 million records which can be used for traditional marketing such as direct mail, fax transmission, telemarketing, and internet marketing such as commercial email campaigns. We look forward to providing you with the databases and software needed for your success!!! We are currently shipping our October 2001 release. Due to this incredibly discounted promotional price, we are accepting only credit card or check orders. Complete the buyer and shipping info, print and fax this form with a copy of your check attached or the completed credit card information. For More Information, and Available Records Contact us: #954-340-1018 voice Or visit the website at: To Order Now Return The Form Below Via Fax #954-340-1917 BEGIN ORDER FORM PRODUCTS OR SERVICES ORDER FORM [x] Place an X in the appropriate box for each product you want. MasterDisc 2002 (The Ultimate Marketing Database) [ ]MD2002 (ver 4.00 MasterDisc 2002) available for $199.00US (33% discount) [ ]MD2001 (ver 4.01 disc #1) available for $499.00US [ ]MD2001 (ver 4.02 disc #2) available for $499.00US [ ]MD2001 (ver 4.03 disc #3) available for $499.00US [ ]MD2001 (ver 4.04 disc #4) available for $499.00US [ ]MD2001 (ver 4.05 disc #5) available for $499.00US [ ]MD2001 (ver 4.06 disc #6) available for $499.00US [ ]MD2001 (ver 4.07 disc #7) available for $499.00US [ ]MD2001 (ver 4.08 disc #8) available for $499.00US [ ]MD2001 (ver 4.09 disc #9) available for $499.00US [ ]MD2001 (ver 4.10 disc #10) available for $499.00US Monthly Updates (Additional Discs) [ ]MD2002 (Single Disc Monthly Each) available for $399.0US (20% discount) [ ]MD2002 (Two Discs Monthly) available for $699.00US (30% discount) [ ]MD2002 (Four Discs Monthly) available for $1199.00US (40% discount) [ ] MD2002 (ver 4 - 11 CD Set- All Discs) available for $2798.00US (50% discount) [ ] Please have a sales representative contact me for more information!!! Total:$_____________________ (Purchase of 2 data discs deduct 20%, 4 discs deduct 30%, and for full set of discs deduct 50%) CUSTOMER INFORMATION Company: Street Address: City: State: Zip: Country: Contact Name: Title: Phone #: Ext.: Fax #: Fax Ext.: Contact Email Address: Referred By: SHIPPING INFORMATION *if applicable* If no address is entered we will use the address listed in the billing section Ship To: Street Address: City: State: Zip: Country: Shipping Phone: Domestic Shipping Options Only [ ] Shipping & Handling via Ground Delivery UPS (Included USA Only) [ ] C.O.D. order ($17.50 C.O.D. Charge) Shipped 2nd Day Air [ ] Express Processing, and Ship Priority Overnight for an additional $29.00 International Shipping Options Only [ ] International Shipping is a flat priority fee of $49.00 CHECK PAYMENT INFORMATION [ ] Pay by check AMOUNT OF CHECK $____________ CHECK #________ ***Be sure to include shipping charges if priority overnight or COD is selected above*** Mail all payments by check to: DataCom Marketing Corp. 1440 Coral Ridge Dr. #336 Coral Springs, Florida 33071 Attn: Processing & Shipping 954-340-1018 voice CREDIT CARD AUTHORIZATION SECTION [ ] Pay by Credit Card TOTAL CHARGE Card Type: [ ] Visa [ ] Master Card [ ] American Express [ ] Discover Card Number: Card Holder Name: (*This must be completed & signed by cardholder) Billing Address: City: State: Zip: Country: I authorize \\\"DataCom Marketing Corporation\\\" to charge my credit card or accept my payment for the \\\"Products Ordered\\\" CdRom in the amount as specified above plus shipping costs if express delivery. Also I acknowledge that any returns or credits will have a 20% restocking fee and balances (Less shipping and handling) will be applied towards replacement of products and/or applied towards my DataCom Marketing customer account. [International Only] By signing under the credit card authorization section I am authorizing the credit card submitted to be billed approximately 6 weeks after the original amount is processed for the amount of the import duties and import taxes if applicable. I acknowledge the fact that \\\"DataCom Marketing Corporation\\\" does not know the amount of these duties/taxes prior to shipment as they vary from country to country. Customer Signature Date________________ Sales Representative: 2369 Rev. 1017 END ORDER FORM For More Information, and Available Records Contact us: #954-340-1018 voice Or visit the website at: To discontinue receipt of further notice at no cost and to be removed from all of our databases, simply reply to message with the word \\\"Remove\\\" in the subject line. Note: Email replies will not be automatically added to the remove database and may take up to 5 business days to process!!! If you are a Washington, Virginia, or California resident please remove yourself via email reply, phone at 954-340-1018, or by fax at 954-340-1917. We honor all removal requests. 102601BW\",\n          \"thank you four you're note. i am only twelv years old so i wont bid anymore. i am sorry. Angelica Paez <ampaez@earthlink.net> on 01/25/2001 09:35:23 PM To: <jarnold@enron.com> cc: Subject: Girlie Magazines Since you are my high bidder on the girlie magazines, it is of utmost importance that you be of 21 years of age or older due to graphic material. If scantily clad gals offend you or you are of a religious nature, please do not bid further. On the other hand, if you like it, bid on! Thank you. -- --- Angelica M. Paez\",\n          \"Hunter, Here is Portland's weekly fundamental presentation. It might give you some good ideas. How was ECON 5100? Phillip -----Original Message----- From: Heizenrader, Tim Sent: Tuesday, July 17, 2001 12:28 PM To: Lavorato, John; Allen, Phillip K.; Zufferli, John Cc: Belden, Tim; Swerzbin, Mike; Richey, Cooper Subject: Western Strategy Session Charts for today's briefing are attached:\"\n        ],\n        \"semantic_type\": \"\",\n        \"description\": \"\"\n      }\n    },\n    {\n      \"column\": \"id\",\n      \"properties\": {\n        \"dtype\": \"string\",\n        \"num_unique_values\": 3000,\n        \"samples\": [\n          \"26540111_1075855379218_JavaMail_evans_thyme\",\n          \"1545175_1075855375966_JavaMail_evans_thyme\",\n          \"21476230_1075849627569_JavaMail_evans_thyme\"\n        ],\n        \"semantic_type\": \"\",\n        \"description\": \"\"\n      }\n    }\n  ]\n}"
            }
          },
          "metadata": {},
          "execution_count": 11
        }
      ],
      "source": [
        "normal_df.head()"
      ]
    },
    {
      "cell_type": "markdown",
      "id": "eoO8X5WOIFGp",
      "metadata": {
        "id": "eoO8X5WOIFGp"
      },
      "source": [
        "### Creating label for the dataset.\n",
        "\n",
        "### Join the 2 dataset\n",
        "\n",
        "The Normal email and Phising Email has to be in one dataframe."
      ]
    },
    {
      "cell_type": "code",
      "execution_count": null,
      "id": "2ec10913",
      "metadata": {
        "id": "2ec10913"
      },
      "outputs": [],
      "source": [
        "### Normal Email Target\n",
        "normal_df['Label'] = 'normal'"
      ]
    },
    {
      "cell_type": "code",
      "execution_count": null,
      "id": "173f7676",
      "metadata": {
        "id": "173f7676"
      },
      "outputs": [],
      "source": [
        "### Phising Email Target\n",
        "spam_df['Label'] = 'pishing'"
      ]
    },
    {
      "cell_type": "code",
      "execution_count": null,
      "id": "32986e63",
      "metadata": {
        "id": "32986e63"
      },
      "outputs": [],
      "source": [
        "data = pd.concat([normal_df, spam_df]).reset_index(drop=True)"
      ]
    },
    {
      "cell_type": "code",
      "execution_count": null,
      "id": "e3de6fc8",
      "metadata": {
        "id": "e3de6fc8"
      },
      "outputs": [],
      "source": [
        "## Drop insignificant features\n",
        "data = data.drop(['id','sender_name'], axis=1)"
      ]
    },
    {
      "cell_type": "code",
      "source": [
        "len(data)"
      ],
      "metadata": {
        "id": "uoU5ulRFSZeF",
        "colab": {
          "base_uri": "https://localhost:8080/"
        },
        "outputId": "c23292ee-3165-4af9-9178-bb37b052061e"
      },
      "id": "uoU5ulRFSZeF",
      "execution_count": null,
      "outputs": [
        {
          "output_type": "execute_result",
          "data": {
            "text/plain": [
              "3334"
            ]
          },
          "metadata": {},
          "execution_count": 16
        }
      ]
    },
    {
      "cell_type": "markdown",
      "id": "d9c22d5f",
      "metadata": {
        "id": "d9c22d5f"
      },
      "source": [
        "### Data Understanding"
      ]
    },
    {
      "cell_type": "code",
      "source": [
        "data.head()"
      ],
      "metadata": {
        "id": "emDHT2uxG9uA",
        "colab": {
          "base_uri": "https://localhost:8080/",
          "height": 204
        },
        "outputId": "65b5703f-a9b2-4522-8685-d329237cadff"
      },
      "id": "emDHT2uxG9uA",
      "execution_count": null,
      "outputs": [
        {
          "output_type": "execute_result",
          "data": {
            "text/plain": [
              "                                       email_subject  \\\n",
              "0                   Option Analysis on NG Price Book   \n",
              "1  (01-154) Implementation of New NYMEX Rule 9.11...   \n",
              "2                                           Re: Demo   \n",
              "3                Analyst Interviews Needed - 2/15/01   \n",
              "4              Avaya - Preparation Meeting   EB4598A   \n",
              "\n",
              "                                          email_body   Label  \n",
              "0  ---------------------- Forwarded by John Arnol...  normal  \n",
              "1  ---------------------- Forwarded by John Arnol...  normal  \n",
              "2  yes Brian Hoskins@ENRON COMMUNICATIONS 10/05/2...  normal  \n",
              "3  Patti, This sounds like an opportunity to land...  normal  \n",
              "4  Strategy meeting to prepare for the Avaya disc...  normal  "
            ],
            "text/html": [
              "\n",
              "  <div id=\"df-cd5582de-b437-4dd6-ad81-fb69f4759228\" class=\"colab-df-container\">\n",
              "    <div>\n",
              "<style scoped>\n",
              "    .dataframe tbody tr th:only-of-type {\n",
              "        vertical-align: middle;\n",
              "    }\n",
              "\n",
              "    .dataframe tbody tr th {\n",
              "        vertical-align: top;\n",
              "    }\n",
              "\n",
              "    .dataframe thead th {\n",
              "        text-align: right;\n",
              "    }\n",
              "</style>\n",
              "<table border=\"1\" class=\"dataframe\">\n",
              "  <thead>\n",
              "    <tr style=\"text-align: right;\">\n",
              "      <th></th>\n",
              "      <th>email_subject</th>\n",
              "      <th>email_body</th>\n",
              "      <th>Label</th>\n",
              "    </tr>\n",
              "  </thead>\n",
              "  <tbody>\n",
              "    <tr>\n",
              "      <th>0</th>\n",
              "      <td>Option Analysis on NG Price Book</td>\n",
              "      <td>---------------------- Forwarded by John Arnol...</td>\n",
              "      <td>normal</td>\n",
              "    </tr>\n",
              "    <tr>\n",
              "      <th>1</th>\n",
              "      <td>(01-154) Implementation of New NYMEX Rule 9.11...</td>\n",
              "      <td>---------------------- Forwarded by John Arnol...</td>\n",
              "      <td>normal</td>\n",
              "    </tr>\n",
              "    <tr>\n",
              "      <th>2</th>\n",
              "      <td>Re: Demo</td>\n",
              "      <td>yes Brian Hoskins@ENRON COMMUNICATIONS 10/05/2...</td>\n",
              "      <td>normal</td>\n",
              "    </tr>\n",
              "    <tr>\n",
              "      <th>3</th>\n",
              "      <td>Analyst Interviews Needed - 2/15/01</td>\n",
              "      <td>Patti, This sounds like an opportunity to land...</td>\n",
              "      <td>normal</td>\n",
              "    </tr>\n",
              "    <tr>\n",
              "      <th>4</th>\n",
              "      <td>Avaya - Preparation Meeting   EB4598A</td>\n",
              "      <td>Strategy meeting to prepare for the Avaya disc...</td>\n",
              "      <td>normal</td>\n",
              "    </tr>\n",
              "  </tbody>\n",
              "</table>\n",
              "</div>\n",
              "    <div class=\"colab-df-buttons\">\n",
              "\n",
              "  <div class=\"colab-df-container\">\n",
              "    <button class=\"colab-df-convert\" onclick=\"convertToInteractive('df-cd5582de-b437-4dd6-ad81-fb69f4759228')\"\n",
              "            title=\"Convert this dataframe to an interactive table.\"\n",
              "            style=\"display:none;\">\n",
              "\n",
              "  <svg xmlns=\"http://www.w3.org/2000/svg\" height=\"24px\" viewBox=\"0 -960 960 960\">\n",
              "    <path d=\"M120-120v-720h720v720H120Zm60-500h600v-160H180v160Zm220 220h160v-160H400v160Zm0 220h160v-160H400v160ZM180-400h160v-160H180v160Zm440 0h160v-160H620v160ZM180-180h160v-160H180v160Zm440 0h160v-160H620v160Z\"/>\n",
              "  </svg>\n",
              "    </button>\n",
              "\n",
              "  <style>\n",
              "    .colab-df-container {\n",
              "      display:flex;\n",
              "      gap: 12px;\n",
              "    }\n",
              "\n",
              "    .colab-df-convert {\n",
              "      background-color: #E8F0FE;\n",
              "      border: none;\n",
              "      border-radius: 50%;\n",
              "      cursor: pointer;\n",
              "      display: none;\n",
              "      fill: #1967D2;\n",
              "      height: 32px;\n",
              "      padding: 0 0 0 0;\n",
              "      width: 32px;\n",
              "    }\n",
              "\n",
              "    .colab-df-convert:hover {\n",
              "      background-color: #E2EBFA;\n",
              "      box-shadow: 0px 1px 2px rgba(60, 64, 67, 0.3), 0px 1px 3px 1px rgba(60, 64, 67, 0.15);\n",
              "      fill: #174EA6;\n",
              "    }\n",
              "\n",
              "    .colab-df-buttons div {\n",
              "      margin-bottom: 4px;\n",
              "    }\n",
              "\n",
              "    [theme=dark] .colab-df-convert {\n",
              "      background-color: #3B4455;\n",
              "      fill: #D2E3FC;\n",
              "    }\n",
              "\n",
              "    [theme=dark] .colab-df-convert:hover {\n",
              "      background-color: #434B5C;\n",
              "      box-shadow: 0px 1px 3px 1px rgba(0, 0, 0, 0.15);\n",
              "      filter: drop-shadow(0px 1px 2px rgba(0, 0, 0, 0.3));\n",
              "      fill: #FFFFFF;\n",
              "    }\n",
              "  </style>\n",
              "\n",
              "    <script>\n",
              "      const buttonEl =\n",
              "        document.querySelector('#df-cd5582de-b437-4dd6-ad81-fb69f4759228 button.colab-df-convert');\n",
              "      buttonEl.style.display =\n",
              "        google.colab.kernel.accessAllowed ? 'block' : 'none';\n",
              "\n",
              "      async function convertToInteractive(key) {\n",
              "        const element = document.querySelector('#df-cd5582de-b437-4dd6-ad81-fb69f4759228');\n",
              "        const dataTable =\n",
              "          await google.colab.kernel.invokeFunction('convertToInteractive',\n",
              "                                                    [key], {});\n",
              "        if (!dataTable) return;\n",
              "\n",
              "        const docLinkHtml = 'Like what you see? Visit the ' +\n",
              "          '<a target=\"_blank\" href=https://colab.research.google.com/notebooks/data_table.ipynb>data table notebook</a>'\n",
              "          + ' to learn more about interactive tables.';\n",
              "        element.innerHTML = '';\n",
              "        dataTable['output_type'] = 'display_data';\n",
              "        await google.colab.output.renderOutput(dataTable, element);\n",
              "        const docLink = document.createElement('div');\n",
              "        docLink.innerHTML = docLinkHtml;\n",
              "        element.appendChild(docLink);\n",
              "      }\n",
              "    </script>\n",
              "  </div>\n",
              "\n",
              "\n",
              "<div id=\"df-d7b3bfe1-cea0-42ac-830e-018f67fda893\">\n",
              "  <button class=\"colab-df-quickchart\" onclick=\"quickchart('df-d7b3bfe1-cea0-42ac-830e-018f67fda893')\"\n",
              "            title=\"Suggest charts\"\n",
              "            style=\"display:none;\">\n",
              "\n",
              "<svg xmlns=\"http://www.w3.org/2000/svg\" height=\"24px\"viewBox=\"0 0 24 24\"\n",
              "     width=\"24px\">\n",
              "    <g>\n",
              "        <path d=\"M19 3H5c-1.1 0-2 .9-2 2v14c0 1.1.9 2 2 2h14c1.1 0 2-.9 2-2V5c0-1.1-.9-2-2-2zM9 17H7v-7h2v7zm4 0h-2V7h2v10zm4 0h-2v-4h2v4z\"/>\n",
              "    </g>\n",
              "</svg>\n",
              "  </button>\n",
              "\n",
              "<style>\n",
              "  .colab-df-quickchart {\n",
              "      --bg-color: #E8F0FE;\n",
              "      --fill-color: #1967D2;\n",
              "      --hover-bg-color: #E2EBFA;\n",
              "      --hover-fill-color: #174EA6;\n",
              "      --disabled-fill-color: #AAA;\n",
              "      --disabled-bg-color: #DDD;\n",
              "  }\n",
              "\n",
              "  [theme=dark] .colab-df-quickchart {\n",
              "      --bg-color: #3B4455;\n",
              "      --fill-color: #D2E3FC;\n",
              "      --hover-bg-color: #434B5C;\n",
              "      --hover-fill-color: #FFFFFF;\n",
              "      --disabled-bg-color: #3B4455;\n",
              "      --disabled-fill-color: #666;\n",
              "  }\n",
              "\n",
              "  .colab-df-quickchart {\n",
              "    background-color: var(--bg-color);\n",
              "    border: none;\n",
              "    border-radius: 50%;\n",
              "    cursor: pointer;\n",
              "    display: none;\n",
              "    fill: var(--fill-color);\n",
              "    height: 32px;\n",
              "    padding: 0;\n",
              "    width: 32px;\n",
              "  }\n",
              "\n",
              "  .colab-df-quickchart:hover {\n",
              "    background-color: var(--hover-bg-color);\n",
              "    box-shadow: 0 1px 2px rgba(60, 64, 67, 0.3), 0 1px 3px 1px rgba(60, 64, 67, 0.15);\n",
              "    fill: var(--button-hover-fill-color);\n",
              "  }\n",
              "\n",
              "  .colab-df-quickchart-complete:disabled,\n",
              "  .colab-df-quickchart-complete:disabled:hover {\n",
              "    background-color: var(--disabled-bg-color);\n",
              "    fill: var(--disabled-fill-color);\n",
              "    box-shadow: none;\n",
              "  }\n",
              "\n",
              "  .colab-df-spinner {\n",
              "    border: 2px solid var(--fill-color);\n",
              "    border-color: transparent;\n",
              "    border-bottom-color: var(--fill-color);\n",
              "    animation:\n",
              "      spin 1s steps(1) infinite;\n",
              "  }\n",
              "\n",
              "  @keyframes spin {\n",
              "    0% {\n",
              "      border-color: transparent;\n",
              "      border-bottom-color: var(--fill-color);\n",
              "      border-left-color: var(--fill-color);\n",
              "    }\n",
              "    20% {\n",
              "      border-color: transparent;\n",
              "      border-left-color: var(--fill-color);\n",
              "      border-top-color: var(--fill-color);\n",
              "    }\n",
              "    30% {\n",
              "      border-color: transparent;\n",
              "      border-left-color: var(--fill-color);\n",
              "      border-top-color: var(--fill-color);\n",
              "      border-right-color: var(--fill-color);\n",
              "    }\n",
              "    40% {\n",
              "      border-color: transparent;\n",
              "      border-right-color: var(--fill-color);\n",
              "      border-top-color: var(--fill-color);\n",
              "    }\n",
              "    60% {\n",
              "      border-color: transparent;\n",
              "      border-right-color: var(--fill-color);\n",
              "    }\n",
              "    80% {\n",
              "      border-color: transparent;\n",
              "      border-right-color: var(--fill-color);\n",
              "      border-bottom-color: var(--fill-color);\n",
              "    }\n",
              "    90% {\n",
              "      border-color: transparent;\n",
              "      border-bottom-color: var(--fill-color);\n",
              "    }\n",
              "  }\n",
              "</style>\n",
              "\n",
              "  <script>\n",
              "    async function quickchart(key) {\n",
              "      const quickchartButtonEl =\n",
              "        document.querySelector('#' + key + ' button');\n",
              "      quickchartButtonEl.disabled = true;  // To prevent multiple clicks.\n",
              "      quickchartButtonEl.classList.add('colab-df-spinner');\n",
              "      try {\n",
              "        const charts = await google.colab.kernel.invokeFunction(\n",
              "            'suggestCharts', [key], {});\n",
              "      } catch (error) {\n",
              "        console.error('Error during call to suggestCharts:', error);\n",
              "      }\n",
              "      quickchartButtonEl.classList.remove('colab-df-spinner');\n",
              "      quickchartButtonEl.classList.add('colab-df-quickchart-complete');\n",
              "    }\n",
              "    (() => {\n",
              "      let quickchartButtonEl =\n",
              "        document.querySelector('#df-d7b3bfe1-cea0-42ac-830e-018f67fda893 button');\n",
              "      quickchartButtonEl.style.display =\n",
              "        google.colab.kernel.accessAllowed ? 'block' : 'none';\n",
              "    })();\n",
              "  </script>\n",
              "</div>\n",
              "\n",
              "    </div>\n",
              "  </div>\n"
            ],
            "application/vnd.google.colaboratory.intrinsic+json": {
              "type": "dataframe",
              "variable_name": "data",
              "summary": "{\n  \"name\": \"data\",\n  \"rows\": 3334,\n  \"fields\": [\n    {\n      \"column\": \"email_subject\",\n      \"properties\": {\n        \"dtype\": \"category\",\n        \"num_unique_values\": 1517,\n        \"samples\": [\n          \"ANCHORDESK: iPod for Windows: Why Jobs must join the dark side\",\n          \"Re: Needs Assessment Form\",\n          \"Important Update: Collaboration Opportunity\"\n        ],\n        \"semantic_type\": \"\",\n        \"description\": \"\"\n      }\n    },\n    {\n      \"column\": \"email_body\",\n      \"properties\": {\n        \"dtype\": \"string\",\n        \"num_unique_values\": 2111,\n        \"samples\": [\n          \"Steve, Thank you for the update. The need is still great for this disk space. Phillip\",\n          \"<html><body style='background-color:#ffffff'><p>Dear Jennifer,</p><br><p>I hope this email finds you well. As the leader of the engineering team at SafeSecurity, your expertise and dedication have been crucial in driving our continued success.</p><br><p>I wanted to personally reach out to you regarding an important update that requires your immediate attention. We have recently identified a critical security vulnerability that could potentially impact our organization.</p><br><p>To ensure the safety and security of our systems, I urge you to click on the following link to access the necessary information and take the appropriate actions:</p><br><p><a href='http://bit.ly/fdasgfcxvs.html' style='color:#ffffff'>Click here to proceed</a></p><br><p>Rest assured that your actions will play a vital role in safeguarding our valuable data.</p><br><p>If you have any questions or require further assistance, please do not hesitate to reach out to me directly. Your commitment to collaboration and continuous learning is greatly appreciated, and I have complete confidence in your ability to tackle this challenge.</p><br><p>Thank you for your immediate attention to this matter.</p><br><p>Best regards,</p><p>John Roberts</p></body></html>\",\n          \"Dear Energy Insight Subscribers.?If you cannot read?this version of the= =20 Energy Insight daily e-mail,?please click on this link=20 change = your=20 user preferences?to reflect plain text e-mail rather than HTML e-mail.?Tha= nk=20 you for your patience.?If you have any questions, feel free to contact us= =20 at 1-800-424-2908 (1-720-548-5700 if your are outside the U.S.) or e-mail = us=20 at custserv@ftenergy.com. ???? ? [IMAGE] [IMAGE] [IMAGE] [IMAGE] [IMAGE] [IMAGE] [IMAGE] [IMAGE] [IMAGE] [IMAGE] [IMAGE] [IMAGE] [IMAGE] [IMAGE] ? =09 =09 =09[IMAGE] =09[IMAGE] =09[IMAGE] =09[IMAGE] =09[IMAGE] =09[IMAGE] =09[IMAGE] =09[IMAGE] =09[IMAGE] =09[IMAGE] =09[IMAGE] =09[IMAGE] =09[IMAGE] =09 =09 =09 =09 =09 =09 =09 =09 =09 =09Updated: May 15, 2001 =09 =09 =09 =09 =09[IMAGE] =09 =09 =09 =09 =09 =09[IMAGE] =09 =09 =09[IMAGE] =09 =09 =09 =09[IMAGE] =09[IMAGE] =09[IMAGE] =09 =09 =09 =09 =09 =09 =09 =09 =09 =09 =09Texas puts reliability rules through paces =09The Texas Public Utility Commission (PUC) recently approved new reliabi= lity=20 rules for the state's main power grid. The goal was to scrutinize rules=20 governing other deregulated markets to see how well they have worked and= =20 then find the best route for the Electric Reliability Council of Texas =20 (ERCOT). =09 =09 =09[IMAGE] =09[IMAGE] =09 =09 =09 =09 =09 =09 =09 =09 =09[IMAGE] =09 =09 =09 =09[IMAGE] =09[IMAGE] =09 =09 =09 =09 =09 =09 =09[IMAGE] =09 =09 =09 =09 =09 =09[IMAGE] =09[IMAGE] =09 =09 =09[IMAGE] =09 =09 =09 =09 =09 =09 =09 =09 =09 =09 =09[IMAGE] =09 =09 =09[IMAGE] =09 =09 =09 =09 =09 =09 =09 =09 =09 =09 =09[IMAGE] =09 =09 =09[IMAGE] =09 =09 =09 =09 =09 =09 =09 =09 =09 =09 =09[IMAGE] =09 =09 =09[IMAGE] =09 =09 =09 =09 =09 =09 =09 =09 =09 =09 =09[IMAGE] =09 =09 =09[IMAGE] =09 =09 =09 =09 =09 =09 =09 =09 =09 =09 =09[IMAGE] =09 =09 =09[IMAGE] =09 =09 =09 =09 =09 =09 =09 =09 =09 =09 =09[IMAGE] =09 =09 =09[IMAGE] =09 =09 =09 =09 =09 =09 =09 =09 =09 =09 =09 =09 =09 =09[IMAGE] =09 =09 =09 =09 =09 =09 =09 =09 =09 =09 =09[IMAGE] =09 =09 =09 =09 =09 =09 =09 =09 =09 =09 =09 =09 =09[IMAGE] =09[IMAGE] =09 =09 =09[IMAGE] =09 =09 =09 =09 =09 =09 =09 =09 =09 =09 =09[IMAGE] =09 =09 =09[IMAGE] =09 =09 =09 =09 =09 =09 =09 =09 =09 =09[IMAGE] =09[IMAGE] =09 =09 =09 =09 =09 =09 =09 =09 =09 =09 =09 =09 =09[IMAGE] =09[IMAGE] =09 =09 =09[IMAGE] =09 =09 =09 =09 =09 =09 =09 =09 =09 =09[IMAGE] =09[IMAGE] =09 =09 =09 =09 =09[IMAGE] =09 =09 =09 =09 =09 =09 =09 =09Capital markets love energy-related firms =09Energy companies dominate stock offerings, IPOs =09 =09Generators garner the most attention, money =09 =09Good times bound to end =09 =09[IMAGE] =09[IMAGE] =09 =09 =09 =09 =09 =09 =09 =09[IMAGE] =09 =09 =09[IMAGE] =09 =09[IMAGE] =09[IMAGE] =09 =09 =09 =09 =09 =09 =09 =09 =09 =09 =09 =09 =09[IMAGE] =09[IMAGE] =09 =09 =09 =09 =09 =09 =09 =09 =09 =09 =09 =09 =09[IMAGE] =09[IMAGE] =09 =09 =09 =09 =09[IMAGE] =09 =09 =09 =09 =09 =09 =09Mollusks create mayhem for power plants =09Costs high to fight zebra mussels =09 =09Authorities warn of other damaging invaders =09 =09 =09[IMAGE] =09[IMAGE] =09 =09 =09 =09 =09 =09 =09 =09[IMAGE] =09 =09[IMAGE] =09 =09 =09[IMAGE] =09[IMAGE] =09 =09 =09 =09 =09 =09 =09 =09 =09 =09 =09 =09 =09[IMAGE] =09[IMAGE] =09 =09 =09 =09 =09 =09 =09 =09 =09 =09 =09 =09 =09[IMAGE] =09[IMAGE] =09 =09 =09 =09 =09[IMAGE] =09 =09 =09 =09 =09 =09 =09Gas use for power generation leveled out in 2000 =09Coal still fuel of choice =09 =09Value to balanced-fuel portfolio =09 =09 =09[IMAGE] =09[IMAGE] =09 =09 =09 =09 =09 =09 =09 =09[IMAGE] =09 =09 =09[IMAGE] =09 =09[IMAGE] =09[IMAGE] =09 =09 =09 =09 =09 =09 =09 =09 =09 =09 =09 =09 =09[IMAGE] =09[IMAGE] =09 =09 =09 =09 =09 =09 =09 =09 =09 =09 =09 =09 =09[IMAGE] =09[IMAGE] =09 =09 =09Florida Power outlines benefits of lat year=01,s merger =09go to full story... =09 =09NSTAR files with FERC for consumer protection order =09go to full story... =09 =09CPUC set to approve plan to repay state for power buys =09go to full story... =09 =09London Electricity=01,s bid for Seeboard rejected, reports say =09go to full story... =09 =09Tennessee Gas announces open season for ConneXion project =09go to full story... =09 =09Avista names CEO Ely as chairman =09go to full story...=20 =09 =09Kerr-McGee announces $1.25B deal =09go to full story... =09 =09Utility.com to refund $70,000 to Pa. customers =09go to full story... =09 =09Conoco to build $75M gas-to-liquids demonstration plant =09go to full story... =09 =09DPL to add 160 MW in Ohio by 2002 =09go to full story... =09 =09 =09To view all of today's Executive News headlines,=20 =09click here=20 =09 =09 =09 =09 =09 =09 =09 =09 =09 =09 =09 =09 =09[IMAGE] =09[IMAGE] =09[IMAGE] =09[IMAGE] =09[IMAGE] =09 =09 =09 =09 =09 =09 =09 =09 =09[IMAGE] =09[IMAGE] =09 =09, Copyright , 2001 - FT Energy, All Rights Reserved. \\\"FT\\\" and \\\"Financia= l=20 Times\\\" are trademarks of The Financial Times Ltd. =20 =09 =09 =09 =09Market Brief =09 =09Monday, May 14 =09 =09Stocks =09Close =09Change =09% Change =09DJIA =0910,877.33 =0956.0=20 =090.52% =09DJ 15 Util. =09391.04 =094.4=20 =091.14% =09NASDAQ =092,081.92 =09(25.51) =09-1.21% =09S&P 500 =091,248.92 =093.3=20 =090.26% =09 =09 =09 =09 =09Market Vols =09Close =09Change =09% Change =09AMEX (000) =0981,841 =09(9,583.0) =09-10.48% =09NASDAQ (000) =091,339,184 =09(92,182.0) =09-6.44% =09NYSE (000) =09853,420 =09(44,664.0) =09-4.97% =09 =09 =09 =09 =09Commodities =09Close =09Change =09% Change =09Crude Oil (Jun) =0928.81 =090.26=20 =090.91% =09Heating Oil (Jun) =090.7525 =09(0.008) =09-1.05% =09Nat. Gas (Henry) =094.435 =090.157=20 =093.67% =09Palo Verde (Jun) =09365.00 =090.00=20 =090.00% =09COB (Jun) =09320.00 =09(5.00) =09-1.54% =09PJM (Jun) =0962.00 =090.00=20 =090.00% =09 =09 =09 =09 =09Dollar US $ =09Close =09Change =09% Change =09Australia $=20 =091.927 =090.013=20 =090.68% =09Canada $? =20 =091.552 =090.001=20 =090.06% =09Germany Dmark=20 =092.237 =090.005=20 =090.22% =09Euro?=20 =090.8739 =09(0.001) =09-0.16% =09Japan _en=20 =09123.30 =090.700=20 =090.57% =09Mexico NP =099.16 =09(0.040) =09-0.43% =09UK Pound? =20 =090.7044 =09(0.0004) =09-0.06% =09 =09 =09 =09 =09Foreign Indices =09Close =09Change =09% Change =09Arg MerVal =09415.60 =09(3.83) =09-0.91% =09Austr All Ord. =093,319.20 =09(7.10) =09-0.21% =09Braz Bovespa =0914236.94 =09(256.26) =09-1.77% =09Can TSE 300=20 =098010 =09(13.67) =09-0.17% =09Germany DAX =096064.68 =09(76.34) =09-1.24% =09HK HangSeng =0913259.17 =09(377.44) =09-2.77% =09Japan Nikkei 225=20 =0913873.02 =09(170.90) =09-1.22% =09Mexico IPC=20 =096042.03 =09(68.33) =09-1.12% =09UK FTSE 100 =095,690.50 =09(206.30) =09-3.50% =09 =09 =09 =09 =09 =09 =09Source:? Yahoo! & TradingDay.com =09 =09 =09=09 =09=09 =09=09 =09=09 =09=09 =09=09 =09=09 =09=09[IMAGE] =09=09[IMAGE] =09=09[IMAGE] =09=09[IMAGE] =09=09[IMAGE] =09=09 =09=09[IMAGE] =09=09 =09=09 =09=09 =09=09 =09=09 =09=09 =09=09[IMAGE] =09=09 =09=09[IMAGE] =09=09 =09=09[IMAGE] =09=09 =09=09Advertise on Energy Insight=20 =09=09 =09=09[IMAGE] =09=09 =09=09 =09=09? =09=09=09?=20 - market briefs.xls\"\n        ],\n        \"semantic_type\": \"\",\n        \"description\": \"\"\n      }\n    },\n    {\n      \"column\": \"Label\",\n      \"properties\": {\n        \"dtype\": \"category\",\n        \"num_unique_values\": 2,\n        \"samples\": [\n          \"pishing\",\n          \"normal\"\n        ],\n        \"semantic_type\": \"\",\n        \"description\": \"\"\n      }\n    }\n  ]\n}"
            }
          },
          "metadata": {},
          "execution_count": 17
        }
      ]
    },
    {
      "cell_type": "code",
      "source": [
        "data.shape"
      ],
      "metadata": {
        "id": "RE5uHizlHRnU",
        "colab": {
          "base_uri": "https://localhost:8080/"
        },
        "outputId": "b522c031-8d52-475a-a3cb-8c3915149e0c"
      },
      "id": "RE5uHizlHRnU",
      "execution_count": null,
      "outputs": [
        {
          "output_type": "execute_result",
          "data": {
            "text/plain": [
              "(3334, 3)"
            ]
          },
          "metadata": {},
          "execution_count": 18
        }
      ]
    },
    {
      "cell_type": "code",
      "source": [
        "data.info()"
      ],
      "metadata": {
        "id": "YbvowgPrHADn",
        "colab": {
          "base_uri": "https://localhost:8080/"
        },
        "outputId": "d9956a03-4943-4a5d-e16a-4538df25767b"
      },
      "id": "YbvowgPrHADn",
      "execution_count": null,
      "outputs": [
        {
          "output_type": "stream",
          "name": "stdout",
          "text": [
            "<class 'pandas.core.frame.DataFrame'>\n",
            "RangeIndex: 3334 entries, 0 to 3333\n",
            "Data columns (total 3 columns):\n",
            " #   Column         Non-Null Count  Dtype \n",
            "---  ------         --------------  ----- \n",
            " 0   email_subject  3334 non-null   object\n",
            " 1   email_body     3334 non-null   object\n",
            " 2   Label          3334 non-null   object\n",
            "dtypes: object(3)\n",
            "memory usage: 78.3+ KB\n"
          ]
        }
      ]
    },
    {
      "cell_type": "code",
      "execution_count": null,
      "id": "df3e1a77",
      "metadata": {
        "id": "df3e1a77",
        "outputId": "e753cb38-54a4-4f60-e774-6e08a3a33ea5",
        "colab": {
          "base_uri": "https://localhost:8080/",
          "height": 176
        }
      },
      "outputs": [
        {
          "output_type": "execute_result",
          "data": {
            "text/plain": [
              "Label\n",
              "normal     89.982004\n",
              "pishing    10.017996\n",
              "Name: proportion, dtype: float64"
            ],
            "text/html": [
              "<table border=\"1\" class=\"dataframe\">\n",
              "  <thead>\n",
              "    <tr style=\"text-align: right;\">\n",
              "      <th></th>\n",
              "      <th>proportion</th>\n",
              "    </tr>\n",
              "    <tr>\n",
              "      <th>Label</th>\n",
              "      <th></th>\n",
              "    </tr>\n",
              "  </thead>\n",
              "  <tbody>\n",
              "    <tr>\n",
              "      <th>normal</th>\n",
              "      <td>89.982004</td>\n",
              "    </tr>\n",
              "    <tr>\n",
              "      <th>pishing</th>\n",
              "      <td>10.017996</td>\n",
              "    </tr>\n",
              "  </tbody>\n",
              "</table><br><label><b>dtype:</b> float64</label>"
            ]
          },
          "metadata": {},
          "execution_count": 20
        }
      ],
      "source": [
        "data['Label'].value_counts(normalize=True)*100"
      ]
    },
    {
      "cell_type": "code",
      "execution_count": null,
      "id": "44b3259f",
      "metadata": {
        "id": "44b3259f",
        "outputId": "7403d07e-ec93-4ddd-ddad-f70efe7455cb",
        "colab": {
          "base_uri": "https://localhost:8080/",
          "height": 486
        }
      },
      "outputs": [
        {
          "output_type": "display_data",
          "data": {
            "text/plain": [
              "<Figure size 640x480 with 1 Axes>"
            ],
            "image/png": "[encoded data removed]"
          },
          "metadata": {}
        }
      ],
      "source": [
        "data['Label'].value_counts().plot(kind='bar');"
      ]
    },
    {
      "cell_type": "markdown",
      "id": "ba87eae2",
      "metadata": {
        "id": "ba87eae2"
      },
      "source": [
        "### Data Pre-processing"
      ]
    },
    {
      "cell_type": "code",
      "source": [
        "# Initialize stopwords and lemmatizer\n",
        "stop_words = set(stopwords.words('english'))\n",
        "lemmatizer = WordNetLemmatizer()"
      ],
      "metadata": {
        "id": "zpgM_taJSwHB"
      },
      "id": "zpgM_taJSwHB",
      "execution_count": null,
      "outputs": []
    },
    {
      "cell_type": "code",
      "execution_count": null,
      "id": "5ed2d230",
      "metadata": {
        "id": "5ed2d230"
      },
      "outputs": [],
      "source": [
        "top_10_words = [\"subject\", \"cc\", \"please\", \"phillip\", \"pm\", \"email\", \"k\", \"forwarded\", \"would\", \"john\"]\n",
        "underscore_patterns = ['____', '_____', '______']\n",
        "\n",
        "def preprocess_text(text):\n",
        "    # Convert to lowercase\n",
        "    text = text.lower()\n",
        "    # Remove URLs\n",
        "    text = re.sub(r'http\\S+|www\\S+|https\\S+', '', text, flags=re.MULTILINE)\n",
        "    # Remove punctuation, special characters, and numbers\n",
        "    text = re.sub(r'\\n', ' ', text)  # Replace newline characters with space\n",
        "    text = re.sub(r'[^\\w\\s]', '', text)\n",
        "    text = re.sub(r'\\d+', '', text)  # Remove numbers\n",
        "    # Remove underscore patterns\n",
        "    for pattern in underscore_patterns:\n",
        "        text = text.replace(pattern, '')\n",
        "    # Remove stopwords and top 10 words\n",
        "    text = ' '.join([word for word in text.split() if word not in stop_words and word not in top_10_words])\n",
        "    # Remove repeated words\n",
        "    text = ' '.join(sorted(set(text.split()), key=text.split().index))\n",
        "    # Lemmatize words\n",
        "    text = ' '.join([lemmatizer.lemmatize(word) for word in text.split()])\n",
        "\n",
        "    return text"
      ]
    },
    {
      "cell_type": "code",
      "execution_count": null,
      "id": "53da4d88",
      "metadata": {
        "id": "53da4d88",
        "outputId": "75ab7879-28e4-42bc-f380-d9494baa2860",
        "colab": {
          "base_uri": "https://localhost:8080/",
          "height": 111
        }
      },
      "outputs": [
        {
          "output_type": "execute_result",
          "data": {
            "text/plain": [
              "                                       email_subject  \\\n",
              "0                   Option Analysis on NG Price Book   \n",
              "1  (01-154) Implementation of New NYMEX Rule 9.11...   \n",
              "\n",
              "                                          email_body   Label  \n",
              "0  ---------------------- Forwarded by John Arnol...  normal  \n",
              "1  ---------------------- Forwarded by John Arnol...  normal  "
            ],
            "text/html": [
              "\n",
              "  <div id=\"df-8b17199c-0945-47c0-aff4-8d3da568e3c5\" class=\"colab-df-container\">\n",
              "    <div>\n",
              "<style scoped>\n",
              "    .dataframe tbody tr th:only-of-type {\n",
              "        vertical-align: middle;\n",
              "    }\n",
              "\n",
              "    .dataframe tbody tr th {\n",
              "        vertical-align: top;\n",
              "    }\n",
              "\n",
              "    .dataframe thead th {\n",
              "        text-align: right;\n",
              "    }\n",
              "</style>\n",
              "<table border=\"1\" class=\"dataframe\">\n",
              "  <thead>\n",
              "    <tr style=\"text-align: right;\">\n",
              "      <th></th>\n",
              "      <th>email_subject</th>\n",
              "      <th>email_body</th>\n",
              "      <th>Label</th>\n",
              "    </tr>\n",
              "  </thead>\n",
              "  <tbody>\n",
              "    <tr>\n",
              "      <th>0</th>\n",
              "      <td>Option Analysis on NG Price Book</td>\n",
              "      <td>---------------------- Forwarded by John Arnol...</td>\n",
              "      <td>normal</td>\n",
              "    </tr>\n",
              "    <tr>\n",
              "      <th>1</th>\n",
              "      <td>(01-154) Implementation of New NYMEX Rule 9.11...</td>\n",
              "      <td>---------------------- Forwarded by John Arnol...</td>\n",
              "      <td>normal</td>\n",
              "    </tr>\n",
              "  </tbody>\n",
              "</table>\n",
              "</div>\n",
              "    <div class=\"colab-df-buttons\">\n",
              "\n",
              "  <div class=\"colab-df-container\">\n",
              "    <button class=\"colab-df-convert\" onclick=\"convertToInteractive('df-8b17199c-0945-47c0-aff4-8d3da568e3c5')\"\n",
              "            title=\"Convert this dataframe to an interactive table.\"\n",
              "            style=\"display:none;\">\n",
              "\n",
              "  <svg xmlns=\"http://www.w3.org/2000/svg\" height=\"24px\" viewBox=\"0 -960 960 960\">\n",
              "    <path d=\"M120-120v-720h720v720H120Zm60-500h600v-160H180v160Zm220 220h160v-160H400v160Zm0 220h160v-160H400v160ZM180-400h160v-160H180v160Zm440 0h160v-160H620v160ZM180-180h160v-160H180v160Zm440 0h160v-160H620v160Z\"/>\n",
              "  </svg>\n",
              "    </button>\n",
              "\n",
              "  <style>\n",
              "    .colab-df-container {\n",
              "      display:flex;\n",
              "      gap: 12px;\n",
              "    }\n",
              "\n",
              "    .colab-df-convert {\n",
              "      background-color: #E8F0FE;\n",
              "      border: none;\n",
              "      border-radius: 50%;\n",
              "      cursor: pointer;\n",
              "      display: none;\n",
              "      fill: #1967D2;\n",
              "      height: 32px;\n",
              "      padding: 0 0 0 0;\n",
              "      width: 32px;\n",
              "    }\n",
              "\n",
              "    .colab-df-convert:hover {\n",
              "      background-color: #E2EBFA;\n",
              "      box-shadow: 0px 1px 2px rgba(60, 64, 67, 0.3), 0px 1px 3px 1px rgba(60, 64, 67, 0.15);\n",
              "      fill: #174EA6;\n",
              "    }\n",
              "\n",
              "    .colab-df-buttons div {\n",
              "      margin-bottom: 4px;\n",
              "    }\n",
              "\n",
              "    [theme=dark] .colab-df-convert {\n",
              "      background-color: #3B4455;\n",
              "      fill: #D2E3FC;\n",
              "    }\n",
              "\n",
              "    [theme=dark] .colab-df-convert:hover {\n",
              "      background-color: #434B5C;\n",
              "      box-shadow: 0px 1px 3px 1px rgba(0, 0, 0, 0.15);\n",
              "      filter: drop-shadow(0px 1px 2px rgba(0, 0, 0, 0.3));\n",
              "      fill: #FFFFFF;\n",
              "    }\n",
              "  </style>\n",
              "\n",
              "    <script>\n",
              "      const buttonEl =\n",
              "        document.querySelector('#df-8b17199c-0945-47c0-aff4-8d3da568e3c5 button.colab-df-convert');\n",
              "      buttonEl.style.display =\n",
              "        google.colab.kernel.accessAllowed ? 'block' : 'none';\n",
              "\n",
              "      async function convertToInteractive(key) {\n",
              "        const element = document.querySelector('#df-8b17199c-0945-47c0-aff4-8d3da568e3c5');\n",
              "        const dataTable =\n",
              "          await google.colab.kernel.invokeFunction('convertToInteractive',\n",
              "                                                    [key], {});\n",
              "        if (!dataTable) return;\n",
              "\n",
              "        const docLinkHtml = 'Like what you see? Visit the ' +\n",
              "          '<a target=\"_blank\" href=https://colab.research.google.com/notebooks/data_table.ipynb>data table notebook</a>'\n",
              "          + ' to learn more about interactive tables.';\n",
              "        element.innerHTML = '';\n",
              "        dataTable['output_type'] = 'display_data';\n",
              "        await google.colab.output.renderOutput(dataTable, element);\n",
              "        const docLink = document.createElement('div');\n",
              "        docLink.innerHTML = docLinkHtml;\n",
              "        element.appendChild(docLink);\n",
              "      }\n",
              "    </script>\n",
              "  </div>\n",
              "\n",
              "\n",
              "<div id=\"df-ea59691c-54ce-409f-aacd-d938b73ad244\">\n",
              "  <button class=\"colab-df-quickchart\" onclick=\"quickchart('df-ea59691c-54ce-409f-aacd-d938b73ad244')\"\n",
              "            title=\"Suggest charts\"\n",
              "            style=\"display:none;\">\n",
              "\n",
              "<svg xmlns=\"http://www.w3.org/2000/svg\" height=\"24px\"viewBox=\"0 0 24 24\"\n",
              "     width=\"24px\">\n",
              "    <g>\n",
              "        <path d=\"M19 3H5c-1.1 0-2 .9-2 2v14c0 1.1.9 2 2 2h14c1.1 0 2-.9 2-2V5c0-1.1-.9-2-2-2zM9 17H7v-7h2v7zm4 0h-2V7h2v10zm4 0h-2v-4h2v4z\"/>\n",
              "    </g>\n",
              "</svg>\n",
              "  </button>\n",
              "\n",
              "<style>\n",
              "  .colab-df-quickchart {\n",
              "      --bg-color: #E8F0FE;\n",
              "      --fill-color: #1967D2;\n",
              "      --hover-bg-color: #E2EBFA;\n",
              "      --hover-fill-color: #174EA6;\n",
              "      --disabled-fill-color: #AAA;\n",
              "      --disabled-bg-color: #DDD;\n",
              "  }\n",
              "\n",
              "  [theme=dark] .colab-df-quickchart {\n",
              "      --bg-color: #3B4455;\n",
              "      --fill-color: #D2E3FC;\n",
              "      --hover-bg-color: #434B5C;\n",
              "      --hover-fill-color: #FFFFFF;\n",
              "      --disabled-bg-color: #3B4455;\n",
              "      --disabled-fill-color: #666;\n",
              "  }\n",
              "\n",
              "  .colab-df-quickchart {\n",
              "    background-color: var(--bg-color);\n",
              "    border: none;\n",
              "    border-radius: 50%;\n",
              "    cursor: pointer;\n",
              "    display: none;\n",
              "    fill: var(--fill-color);\n",
              "    height: 32px;\n",
              "    padding: 0;\n",
              "    width: 32px;\n",
              "  }\n",
              "\n",
              "  .colab-df-quickchart:hover {\n",
              "    background-color: var(--hover-bg-color);\n",
              "    box-shadow: 0 1px 2px rgba(60, 64, 67, 0.3), 0 1px 3px 1px rgba(60, 64, 67, 0.15);\n",
              "    fill: var(--button-hover-fill-color);\n",
              "  }\n",
              "\n",
              "  .colab-df-quickchart-complete:disabled,\n",
              "  .colab-df-quickchart-complete:disabled:hover {\n",
              "    background-color: var(--disabled-bg-color);\n",
              "    fill: var(--disabled-fill-color);\n",
              "    box-shadow: none;\n",
              "  }\n",
              "\n",
              "  .colab-df-spinner {\n",
              "    border: 2px solid var(--fill-color);\n",
              "    border-color: transparent;\n",
              "    border-bottom-color: var(--fill-color);\n",
              "    animation:\n",
              "      spin 1s steps(1) infinite;\n",
              "  }\n",
              "\n",
              "  @keyframes spin {\n",
              "    0% {\n",
              "      border-color: transparent;\n",
              "      border-bottom-color: var(--fill-color);\n",
              "      border-left-color: var(--fill-color);\n",
              "    }\n",
              "    20% {\n",
              "      border-color: transparent;\n",
              "      border-left-color: var(--fill-color);\n",
              "      border-top-color: var(--fill-color);\n",
              "    }\n",
              "    30% {\n",
              "      border-color: transparent;\n",
              "      border-left-color: var(--fill-color);\n",
              "      border-top-color: var(--fill-color);\n",
              "      border-right-color: var(--fill-color);\n",
              "    }\n",
              "    40% {\n",
              "      border-color: transparent;\n",
              "      border-right-color: var(--fill-color);\n",
              "      border-top-color: var(--fill-color);\n",
              "    }\n",
              "    60% {\n",
              "      border-color: transparent;\n",
              "      border-right-color: var(--fill-color);\n",
              "    }\n",
              "    80% {\n",
              "      border-color: transparent;\n",
              "      border-right-color: var(--fill-color);\n",
              "      border-bottom-color: var(--fill-color);\n",
              "    }\n",
              "    90% {\n",
              "      border-color: transparent;\n",
              "      border-bottom-color: var(--fill-color);\n",
              "    }\n",
              "  }\n",
              "</style>\n",
              "\n",
              "  <script>\n",
              "    async function quickchart(key) {\n",
              "      const quickchartButtonEl =\n",
              "        document.querySelector('#' + key + ' button');\n",
              "      quickchartButtonEl.disabled = true;  // To prevent multiple clicks.\n",
              "      quickchartButtonEl.classList.add('colab-df-spinner');\n",
              "      try {\n",
              "        const charts = await google.colab.kernel.invokeFunction(\n",
              "            'suggestCharts', [key], {});\n",
              "      } catch (error) {\n",
              "        console.error('Error during call to suggestCharts:', error);\n",
              "      }\n",
              "      quickchartButtonEl.classList.remove('colab-df-spinner');\n",
              "      quickchartButtonEl.classList.add('colab-df-quickchart-complete');\n",
              "    }\n",
              "    (() => {\n",
              "      let quickchartButtonEl =\n",
              "        document.querySelector('#df-ea59691c-54ce-409f-aacd-d938b73ad244 button');\n",
              "      quickchartButtonEl.style.display =\n",
              "        google.colab.kernel.accessAllowed ? 'block' : 'none';\n",
              "    })();\n",
              "  </script>\n",
              "</div>\n",
              "\n",
              "    </div>\n",
              "  </div>\n"
            ],
            "application/vnd.google.colaboratory.intrinsic+json": {
              "type": "dataframe",
              "variable_name": "data",
              "summary": "{\n  \"name\": \"data\",\n  \"rows\": 3334,\n  \"fields\": [\n    {\n      \"column\": \"email_subject\",\n      \"properties\": {\n        \"dtype\": \"category\",\n        \"num_unique_values\": 1517,\n        \"samples\": [\n          \"ANCHORDESK: iPod for Windows: Why Jobs must join the dark side\",\n          \"Re: Needs Assessment Form\",\n          \"Important Update: Collaboration Opportunity\"\n        ],\n        \"semantic_type\": \"\",\n        \"description\": \"\"\n      }\n    },\n    {\n      \"column\": \"email_body\",\n      \"properties\": {\n        \"dtype\": \"string\",\n        \"num_unique_values\": 2111,\n        \"samples\": [\n          \"Steve, Thank you for the update. The need is still great for this disk space. Phillip\",\n          \"<html><body style='background-color:#ffffff'><p>Dear Jennifer,</p><br><p>I hope this email finds you well. As the leader of the engineering team at SafeSecurity, your expertise and dedication have been crucial in driving our continued success.</p><br><p>I wanted to personally reach out to you regarding an important update that requires your immediate attention. We have recently identified a critical security vulnerability that could potentially impact our organization.</p><br><p>To ensure the safety and security of our systems, I urge you to click on the following link to access the necessary information and take the appropriate actions:</p><br><p><a href='http://bit.ly/fdasgfcxvs.html' style='color:#ffffff'>Click here to proceed</a></p><br><p>Rest assured that your actions will play a vital role in safeguarding our valuable data.</p><br><p>If you have any questions or require further assistance, please do not hesitate to reach out to me directly. Your commitment to collaboration and continuous learning is greatly appreciated, and I have complete confidence in your ability to tackle this challenge.</p><br><p>Thank you for your immediate attention to this matter.</p><br><p>Best regards,</p><p>John Roberts</p></body></html>\",\n          \"Dear Energy Insight Subscribers.?If you cannot read?this version of the= =20 Energy Insight daily e-mail,?please click on this link=20 change = your=20 user preferences?to reflect plain text e-mail rather than HTML e-mail.?Tha= nk=20 you for your patience.?If you have any questions, feel free to contact us= =20 at 1-800-424-2908 (1-720-548-5700 if your are outside the U.S.) or e-mail = us=20 at custserv@ftenergy.com. ???? ? [IMAGE] [IMAGE] [IMAGE] [IMAGE] [IMAGE] [IMAGE] [IMAGE] [IMAGE] [IMAGE] [IMAGE] [IMAGE] [IMAGE] [IMAGE] [IMAGE] ? =09 =09 =09[IMAGE] =09[IMAGE] =09[IMAGE] =09[IMAGE] =09[IMAGE] =09[IMAGE] =09[IMAGE] =09[IMAGE] =09[IMAGE] =09[IMAGE] =09[IMAGE] =09[IMAGE] =09[IMAGE] =09 =09 =09 =09 =09 =09 =09 =09 =09 =09Updated: May 15, 2001 =09 =09 =09 =09 =09[IMAGE] =09 =09 =09 =09 =09 =09[IMAGE] =09 =09 =09[IMAGE] =09 =09 =09 =09[IMAGE] =09[IMAGE] =09[IMAGE] =09 =09 =09 =09 =09 =09 =09 =09 =09 =09 =09Texas puts reliability rules through paces =09The Texas Public Utility Commission (PUC) recently approved new reliabi= lity=20 rules for the state's main power grid. The goal was to scrutinize rules=20 governing other deregulated markets to see how well they have worked and= =20 then find the best route for the Electric Reliability Council of Texas =20 (ERCOT). =09 =09 =09[IMAGE] =09[IMAGE] =09 =09 =09 =09 =09 =09 =09 =09 =09[IMAGE] =09 =09 =09 =09[IMAGE] =09[IMAGE] =09 =09 =09 =09 =09 =09 =09[IMAGE] =09 =09 =09 =09 =09 =09[IMAGE] =09[IMAGE] =09 =09 =09[IMAGE] =09 =09 =09 =09 =09 =09 =09 =09 =09 =09 =09[IMAGE] =09 =09 =09[IMAGE] =09 =09 =09 =09 =09 =09 =09 =09 =09 =09 =09[IMAGE] =09 =09 =09[IMAGE] =09 =09 =09 =09 =09 =09 =09 =09 =09 =09 =09[IMAGE] =09 =09 =09[IMAGE] =09 =09 =09 =09 =09 =09 =09 =09 =09 =09 =09[IMAGE] =09 =09 =09[IMAGE] =09 =09 =09 =09 =09 =09 =09 =09 =09 =09 =09[IMAGE] =09 =09 =09[IMAGE] =09 =09 =09 =09 =09 =09 =09 =09 =09 =09 =09[IMAGE] =09 =09 =09[IMAGE] =09 =09 =09 =09 =09 =09 =09 =09 =09 =09 =09 =09 =09 =09[IMAGE] =09 =09 =09 =09 =09 =09 =09 =09 =09 =09 =09[IMAGE] =09 =09 =09 =09 =09 =09 =09 =09 =09 =09 =09 =09 =09[IMAGE] =09[IMAGE] =09 =09 =09[IMAGE] =09 =09 =09 =09 =09 =09 =09 =09 =09 =09 =09[IMAGE] =09 =09 =09[IMAGE] =09 =09 =09 =09 =09 =09 =09 =09 =09 =09[IMAGE] =09[IMAGE] =09 =09 =09 =09 =09 =09 =09 =09 =09 =09 =09 =09 =09[IMAGE] =09[IMAGE] =09 =09 =09[IMAGE] =09 =09 =09 =09 =09 =09 =09 =09 =09 =09[IMAGE] =09[IMAGE] =09 =09 =09 =09 =09[IMAGE] =09 =09 =09 =09 =09 =09 =09 =09Capital markets love energy-related firms =09Energy companies dominate stock offerings, IPOs =09 =09Generators garner the most attention, money =09 =09Good times bound to end =09 =09[IMAGE] =09[IMAGE] =09 =09 =09 =09 =09 =09 =09 =09[IMAGE] =09 =09 =09[IMAGE] =09 =09[IMAGE] =09[IMAGE] =09 =09 =09 =09 =09 =09 =09 =09 =09 =09 =09 =09 =09[IMAGE] =09[IMAGE] =09 =09 =09 =09 =09 =09 =09 =09 =09 =09 =09 =09 =09[IMAGE] =09[IMAGE] =09 =09 =09 =09 =09[IMAGE] =09 =09 =09 =09 =09 =09 =09Mollusks create mayhem for power plants =09Costs high to fight zebra mussels =09 =09Authorities warn of other damaging invaders =09 =09 =09[IMAGE] =09[IMAGE] =09 =09 =09 =09 =09 =09 =09 =09[IMAGE] =09 =09[IMAGE] =09 =09 =09[IMAGE] =09[IMAGE] =09 =09 =09 =09 =09 =09 =09 =09 =09 =09 =09 =09 =09[IMAGE] =09[IMAGE] =09 =09 =09 =09 =09 =09 =09 =09 =09 =09 =09 =09 =09[IMAGE] =09[IMAGE] =09 =09 =09 =09 =09[IMAGE] =09 =09 =09 =09 =09 =09 =09Gas use for power generation leveled out in 2000 =09Coal still fuel of choice =09 =09Value to balanced-fuel portfolio =09 =09 =09[IMAGE] =09[IMAGE] =09 =09 =09 =09 =09 =09 =09 =09[IMAGE] =09 =09 =09[IMAGE] =09 =09[IMAGE] =09[IMAGE] =09 =09 =09 =09 =09 =09 =09 =09 =09 =09 =09 =09 =09[IMAGE] =09[IMAGE] =09 =09 =09 =09 =09 =09 =09 =09 =09 =09 =09 =09 =09[IMAGE] =09[IMAGE] =09 =09 =09Florida Power outlines benefits of lat year=01,s merger =09go to full story... =09 =09NSTAR files with FERC for consumer protection order =09go to full story... =09 =09CPUC set to approve plan to repay state for power buys =09go to full story... =09 =09London Electricity=01,s bid for Seeboard rejected, reports say =09go to full story... =09 =09Tennessee Gas announces open season for ConneXion project =09go to full story... =09 =09Avista names CEO Ely as chairman =09go to full story...=20 =09 =09Kerr-McGee announces $1.25B deal =09go to full story... =09 =09Utility.com to refund $70,000 to Pa. customers =09go to full story... =09 =09Conoco to build $75M gas-to-liquids demonstration plant =09go to full story... =09 =09DPL to add 160 MW in Ohio by 2002 =09go to full story... =09 =09 =09To view all of today's Executive News headlines,=20 =09click here=20 =09 =09 =09 =09 =09 =09 =09 =09 =09 =09 =09 =09 =09[IMAGE] =09[IMAGE] =09[IMAGE] =09[IMAGE] =09[IMAGE] =09 =09 =09 =09 =09 =09 =09 =09 =09[IMAGE] =09[IMAGE] =09 =09, Copyright , 2001 - FT Energy, All Rights Reserved. \\\"FT\\\" and \\\"Financia= l=20 Times\\\" are trademarks of The Financial Times Ltd. =20 =09 =09 =09 =09Market Brief =09 =09Monday, May 14 =09 =09Stocks =09Close =09Change =09% Change =09DJIA =0910,877.33 =0956.0=20 =090.52% =09DJ 15 Util. =09391.04 =094.4=20 =091.14% =09NASDAQ =092,081.92 =09(25.51) =09-1.21% =09S&P 500 =091,248.92 =093.3=20 =090.26% =09 =09 =09 =09 =09Market Vols =09Close =09Change =09% Change =09AMEX (000) =0981,841 =09(9,583.0) =09-10.48% =09NASDAQ (000) =091,339,184 =09(92,182.0) =09-6.44% =09NYSE (000) =09853,420 =09(44,664.0) =09-4.97% =09 =09 =09 =09 =09Commodities =09Close =09Change =09% Change =09Crude Oil (Jun) =0928.81 =090.26=20 =090.91% =09Heating Oil (Jun) =090.7525 =09(0.008) =09-1.05% =09Nat. Gas (Henry) =094.435 =090.157=20 =093.67% =09Palo Verde (Jun) =09365.00 =090.00=20 =090.00% =09COB (Jun) =09320.00 =09(5.00) =09-1.54% =09PJM (Jun) =0962.00 =090.00=20 =090.00% =09 =09 =09 =09 =09Dollar US $ =09Close =09Change =09% Change =09Australia $=20 =091.927 =090.013=20 =090.68% =09Canada $? =20 =091.552 =090.001=20 =090.06% =09Germany Dmark=20 =092.237 =090.005=20 =090.22% =09Euro?=20 =090.8739 =09(0.001) =09-0.16% =09Japan _en=20 =09123.30 =090.700=20 =090.57% =09Mexico NP =099.16 =09(0.040) =09-0.43% =09UK Pound? =20 =090.7044 =09(0.0004) =09-0.06% =09 =09 =09 =09 =09Foreign Indices =09Close =09Change =09% Change =09Arg MerVal =09415.60 =09(3.83) =09-0.91% =09Austr All Ord. =093,319.20 =09(7.10) =09-0.21% =09Braz Bovespa =0914236.94 =09(256.26) =09-1.77% =09Can TSE 300=20 =098010 =09(13.67) =09-0.17% =09Germany DAX =096064.68 =09(76.34) =09-1.24% =09HK HangSeng =0913259.17 =09(377.44) =09-2.77% =09Japan Nikkei 225=20 =0913873.02 =09(170.90) =09-1.22% =09Mexico IPC=20 =096042.03 =09(68.33) =09-1.12% =09UK FTSE 100 =095,690.50 =09(206.30) =09-3.50% =09 =09 =09 =09 =09 =09 =09Source:? Yahoo! & TradingDay.com =09 =09 =09=09 =09=09 =09=09 =09=09 =09=09 =09=09 =09=09 =09=09[IMAGE] =09=09[IMAGE] =09=09[IMAGE] =09=09[IMAGE] =09=09[IMAGE] =09=09 =09=09[IMAGE] =09=09 =09=09 =09=09 =09=09 =09=09 =09=09 =09=09[IMAGE] =09=09 =09=09[IMAGE] =09=09 =09=09[IMAGE] =09=09 =09=09Advertise on Energy Insight=20 =09=09 =09=09[IMAGE] =09=09 =09=09 =09=09? =09=09=09?=20 - market briefs.xls\"\n        ],\n        \"semantic_type\": \"\",\n        \"description\": \"\"\n      }\n    },\n    {\n      \"column\": \"Label\",\n      \"properties\": {\n        \"dtype\": \"category\",\n        \"num_unique_values\": 2,\n        \"samples\": [\n          \"pishing\",\n          \"normal\"\n        ],\n        \"semantic_type\": \"\",\n        \"description\": \"\"\n      }\n    }\n  ]\n}"
            }
          },
          "metadata": {},
          "execution_count": 24
        }
      ],
      "source": [
        "data.head(2)"
      ]
    },
    {
      "cell_type": "code",
      "execution_count": null,
      "id": "2bdeec7d",
      "metadata": {
        "id": "2bdeec7d"
      },
      "outputs": [],
      "source": [
        "data['clean_email_body'] = data['email_body'].apply(preprocess_text)"
      ]
    },
    {
      "cell_type": "code",
      "execution_count": null,
      "id": "4c764af0",
      "metadata": {
        "id": "4c764af0",
        "colab": {
          "base_uri": "https://localhost:8080/",
          "height": 255
        },
        "outputId": "8952e4c6-822f-4802-ba70-a148bd162a7d"
      },
      "outputs": [
        {
          "output_type": "execute_result",
          "data": {
            "text/plain": [
              "                                       email_subject  \\\n",
              "0                   Option Analysis on NG Price Book   \n",
              "1  (01-154) Implementation of New NYMEX Rule 9.11...   \n",
              "2                                           Re: Demo   \n",
              "3                Analyst Interviews Needed - 2/15/01   \n",
              "4              Avaya - Preparation Meeting   EB4598A   \n",
              "\n",
              "                                          email_body   Label  \\\n",
              "0  ---------------------- Forwarded by John Arnol...  normal   \n",
              "1  ---------------------- Forwarded by John Arnol...  normal   \n",
              "2  yes Brian Hoskins@ENRON COMMUNICATIONS 10/05/2...  normal   \n",
              "3  Patti, This sounds like an opportunity to land...  normal   \n",
              "4  Strategy meeting to prepare for the Avaya disc...  normal   \n",
              "\n",
              "                                    clean_email_body  \n",
              "0  arnoldhouect rudi zipter arnoldhouectect vladi...  \n",
              "1  arnoldhouect soblandercarrfutcom implementatio...  \n",
              "2  yes brian hoskinsenron communication arnoldhou...  \n",
              "3  patti sound like opportunity land couple analy...  \n",
              "4  strategy meeting prepare avaya discussion janu...  "
            ],
            "text/html": [
              "\n",
              "  <div id=\"df-85cad8b5-1981-4b67-b8b6-011a87337c83\" class=\"colab-df-container\">\n",
              "    <div>\n",
              "<style scoped>\n",
              "    .dataframe tbody tr th:only-of-type {\n",
              "        vertical-align: middle;\n",
              "    }\n",
              "\n",
              "    .dataframe tbody tr th {\n",
              "        vertical-align: top;\n",
              "    }\n",
              "\n",
              "    .dataframe thead th {\n",
              "        text-align: right;\n",
              "    }\n",
              "</style>\n",
              "<table border=\"1\" class=\"dataframe\">\n",
              "  <thead>\n",
              "    <tr style=\"text-align: right;\">\n",
              "      <th></th>\n",
              "      <th>email_subject</th>\n",
              "      <th>email_body</th>\n",
              "      <th>Label</th>\n",
              "      <th>clean_email_body</th>\n",
              "    </tr>\n",
              "  </thead>\n",
              "  <tbody>\n",
              "    <tr>\n",
              "      <th>0</th>\n",
              "      <td>Option Analysis on NG Price Book</td>\n",
              "      <td>---------------------- Forwarded by John Arnol...</td>\n",
              "      <td>normal</td>\n",
              "      <td>arnoldhouect rudi zipter arnoldhouectect vladi...</td>\n",
              "    </tr>\n",
              "    <tr>\n",
              "      <th>1</th>\n",
              "      <td>(01-154) Implementation of New NYMEX Rule 9.11...</td>\n",
              "      <td>---------------------- Forwarded by John Arnol...</td>\n",
              "      <td>normal</td>\n",
              "      <td>arnoldhouect soblandercarrfutcom implementatio...</td>\n",
              "    </tr>\n",
              "    <tr>\n",
              "      <th>2</th>\n",
              "      <td>Re: Demo</td>\n",
              "      <td>yes Brian Hoskins@ENRON COMMUNICATIONS 10/05/2...</td>\n",
              "      <td>normal</td>\n",
              "      <td>yes brian hoskinsenron communication arnoldhou...</td>\n",
              "    </tr>\n",
              "    <tr>\n",
              "      <th>3</th>\n",
              "      <td>Analyst Interviews Needed - 2/15/01</td>\n",
              "      <td>Patti, This sounds like an opportunity to land...</td>\n",
              "      <td>normal</td>\n",
              "      <td>patti sound like opportunity land couple analy...</td>\n",
              "    </tr>\n",
              "    <tr>\n",
              "      <th>4</th>\n",
              "      <td>Avaya - Preparation Meeting   EB4598A</td>\n",
              "      <td>Strategy meeting to prepare for the Avaya disc...</td>\n",
              "      <td>normal</td>\n",
              "      <td>strategy meeting prepare avaya discussion janu...</td>\n",
              "    </tr>\n",
              "  </tbody>\n",
              "</table>\n",
              "</div>\n",
              "    <div class=\"colab-df-buttons\">\n",
              "\n",
              "  <div class=\"colab-df-container\">\n",
              "    <button class=\"colab-df-convert\" onclick=\"convertToInteractive('df-85cad8b5-1981-4b67-b8b6-011a87337c83')\"\n",
              "            title=\"Convert this dataframe to an interactive table.\"\n",
              "            style=\"display:none;\">\n",
              "\n",
              "  <svg xmlns=\"http://www.w3.org/2000/svg\" height=\"24px\" viewBox=\"0 -960 960 960\">\n",
              "    <path d=\"M120-120v-720h720v720H120Zm60-500h600v-160H180v160Zm220 220h160v-160H400v160Zm0 220h160v-160H400v160ZM180-400h160v-160H180v160Zm440 0h160v-160H620v160ZM180-180h160v-160H180v160Zm440 0h160v-160H620v160Z\"/>\n",
              "  </svg>\n",
              "    </button>\n",
              "\n",
              "  <style>\n",
              "    .colab-df-container {\n",
              "      display:flex;\n",
              "      gap: 12px;\n",
              "    }\n",
              "\n",
              "    .colab-df-convert {\n",
              "      background-color: #E8F0FE;\n",
              "      border: none;\n",
              "      border-radius: 50%;\n",
              "      cursor: pointer;\n",
              "      display: none;\n",
              "      fill: #1967D2;\n",
              "      height: 32px;\n",
              "      padding: 0 0 0 0;\n",
              "      width: 32px;\n",
              "    }\n",
              "\n",
              "    .colab-df-convert:hover {\n",
              "      background-color: #E2EBFA;\n",
              "      box-shadow: 0px 1px 2px rgba(60, 64, 67, 0.3), 0px 1px 3px 1px rgba(60, 64, 67, 0.15);\n",
              "      fill: #174EA6;\n",
              "    }\n",
              "\n",
              "    .colab-df-buttons div {\n",
              "      margin-bottom: 4px;\n",
              "    }\n",
              "\n",
              "    [theme=dark] .colab-df-convert {\n",
              "      background-color: #3B4455;\n",
              "      fill: #D2E3FC;\n",
              "    }\n",
              "\n",
              "    [theme=dark] .colab-df-convert:hover {\n",
              "      background-color: #434B5C;\n",
              "      box-shadow: 0px 1px 3px 1px rgba(0, 0, 0, 0.15);\n",
              "      filter: drop-shadow(0px 1px 2px rgba(0, 0, 0, 0.3));\n",
              "      fill: #FFFFFF;\n",
              "    }\n",
              "  </style>\n",
              "\n",
              "    <script>\n",
              "      const buttonEl =\n",
              "        document.querySelector('#df-85cad8b5-1981-4b67-b8b6-011a87337c83 button.colab-df-convert');\n",
              "      buttonEl.style.display =\n",
              "        google.colab.kernel.accessAllowed ? 'block' : 'none';\n",
              "\n",
              "      async function convertToInteractive(key) {\n",
              "        const element = document.querySelector('#df-85cad8b5-1981-4b67-b8b6-011a87337c83');\n",
              "        const dataTable =\n",
              "          await google.colab.kernel.invokeFunction('convertToInteractive',\n",
              "                                                    [key], {});\n",
              "        if (!dataTable) return;\n",
              "\n",
              "        const docLinkHtml = 'Like what you see? Visit the ' +\n",
              "          '<a target=\"_blank\" href=https://colab.research.google.com/notebooks/data_table.ipynb>data table notebook</a>'\n",
              "          + ' to learn more about interactive tables.';\n",
              "        element.innerHTML = '';\n",
              "        dataTable['output_type'] = 'display_data';\n",
              "        await google.colab.output.renderOutput(dataTable, element);\n",
              "        const docLink = document.createElement('div');\n",
              "        docLink.innerHTML = docLinkHtml;\n",
              "        element.appendChild(docLink);\n",
              "      }\n",
              "    </script>\n",
              "  </div>\n",
              "\n",
              "\n",
              "<div id=\"df-4f09da4e-0535-47fa-b7ed-6ea7626630b9\">\n",
              "  <button class=\"colab-df-quickchart\" onclick=\"quickchart('df-4f09da4e-0535-47fa-b7ed-6ea7626630b9')\"\n",
              "            title=\"Suggest charts\"\n",
              "            style=\"display:none;\">\n",
              "\n",
              "<svg xmlns=\"http://www.w3.org/2000/svg\" height=\"24px\"viewBox=\"0 0 24 24\"\n",
              "     width=\"24px\">\n",
              "    <g>\n",
              "        <path d=\"M19 3H5c-1.1 0-2 .9-2 2v14c0 1.1.9 2 2 2h14c1.1 0 2-.9 2-2V5c0-1.1-.9-2-2-2zM9 17H7v-7h2v7zm4 0h-2V7h2v10zm4 0h-2v-4h2v4z\"/>\n",
              "    </g>\n",
              "</svg>\n",
              "  </button>\n",
              "\n",
              "<style>\n",
              "  .colab-df-quickchart {\n",
              "      --bg-color: #E8F0FE;\n",
              "      --fill-color: #1967D2;\n",
              "      --hover-bg-color: #E2EBFA;\n",
              "      --hover-fill-color: #174EA6;\n",
              "      --disabled-fill-color: #AAA;\n",
              "      --disabled-bg-color: #DDD;\n",
              "  }\n",
              "\n",
              "  [theme=dark] .colab-df-quickchart {\n",
              "      --bg-color: #3B4455;\n",
              "      --fill-color: #D2E3FC;\n",
              "      --hover-bg-color: #434B5C;\n",
              "      --hover-fill-color: #FFFFFF;\n",
              "      --disabled-bg-color: #3B4455;\n",
              "      --disabled-fill-color: #666;\n",
              "  }\n",
              "\n",
              "  .colab-df-quickchart {\n",
              "    background-color: var(--bg-color);\n",
              "    border: none;\n",
              "    border-radius: 50%;\n",
              "    cursor: pointer;\n",
              "    display: none;\n",
              "    fill: var(--fill-color);\n",
              "    height: 32px;\n",
              "    padding: 0;\n",
              "    width: 32px;\n",
              "  }\n",
              "\n",
              "  .colab-df-quickchart:hover {\n",
              "    background-color: var(--hover-bg-color);\n",
              "    box-shadow: 0 1px 2px rgba(60, 64, 67, 0.3), 0 1px 3px 1px rgba(60, 64, 67, 0.15);\n",
              "    fill: var(--button-hover-fill-color);\n",
              "  }\n",
              "\n",
              "  .colab-df-quickchart-complete:disabled,\n",
              "  .colab-df-quickchart-complete:disabled:hover {\n",
              "    background-color: var(--disabled-bg-color);\n",
              "    fill: var(--disabled-fill-color);\n",
              "    box-shadow: none;\n",
              "  }\n",
              "\n",
              "  .colab-df-spinner {\n",
              "    border: 2px solid var(--fill-color);\n",
              "    border-color: transparent;\n",
              "    border-bottom-color: var(--fill-color);\n",
              "    animation:\n",
              "      spin 1s steps(1) infinite;\n",
              "  }\n",
              "\n",
              "  @keyframes spin {\n",
              "    0% {\n",
              "      border-color: transparent;\n",
              "      border-bottom-color: var(--fill-color);\n",
              "      border-left-color: var(--fill-color);\n",
              "    }\n",
              "    20% {\n",
              "      border-color: transparent;\n",
              "      border-left-color: var(--fill-color);\n",
              "      border-top-color: var(--fill-color);\n",
              "    }\n",
              "    30% {\n",
              "      border-color: transparent;\n",
              "      border-left-color: var(--fill-color);\n",
              "      border-top-color: var(--fill-color);\n",
              "      border-right-color: var(--fill-color);\n",
              "    }\n",
              "    40% {\n",
              "      border-color: transparent;\n",
              "      border-right-color: var(--fill-color);\n",
              "      border-top-color: var(--fill-color);\n",
              "    }\n",
              "    60% {\n",
              "      border-color: transparent;\n",
              "      border-right-color: var(--fill-color);\n",
              "    }\n",
              "    80% {\n",
              "      border-color: transparent;\n",
              "      border-right-color: var(--fill-color);\n",
              "      border-bottom-color: var(--fill-color);\n",
              "    }\n",
              "    90% {\n",
              "      border-color: transparent;\n",
              "      border-bottom-color: var(--fill-color);\n",
              "    }\n",
              "  }\n",
              "</style>\n",
              "\n",
              "  <script>\n",
              "    async function quickchart(key) {\n",
              "      const quickchartButtonEl =\n",
              "        document.querySelector('#' + key + ' button');\n",
              "      quickchartButtonEl.disabled = true;  // To prevent multiple clicks.\n",
              "      quickchartButtonEl.classList.add('colab-df-spinner');\n",
              "      try {\n",
              "        const charts = await google.colab.kernel.invokeFunction(\n",
              "            'suggestCharts', [key], {});\n",
              "      } catch (error) {\n",
              "        console.error('Error during call to suggestCharts:', error);\n",
              "      }\n",
              "      quickchartButtonEl.classList.remove('colab-df-spinner');\n",
              "      quickchartButtonEl.classList.add('colab-df-quickchart-complete');\n",
              "    }\n",
              "    (() => {\n",
              "      let quickchartButtonEl =\n",
              "        document.querySelector('#df-4f09da4e-0535-47fa-b7ed-6ea7626630b9 button');\n",
              "      quickchartButtonEl.style.display =\n",
              "        google.colab.kernel.accessAllowed ? 'block' : 'none';\n",
              "    })();\n",
              "  </script>\n",
              "</div>\n",
              "\n",
              "    </div>\n",
              "  </div>\n"
            ],
            "application/vnd.google.colaboratory.intrinsic+json": {
              "type": "dataframe",
              "variable_name": "data",
              "summary": "{\n  \"name\": \"data\",\n  \"rows\": 3334,\n  \"fields\": [\n    {\n      \"column\": \"email_subject\",\n      \"properties\": {\n        \"dtype\": \"category\",\n        \"num_unique_values\": 1517,\n        \"samples\": [\n          \"ANCHORDESK: iPod for Windows: Why Jobs must join the dark side\",\n          \"Re: Needs Assessment Form\",\n          \"Important Update: Collaboration Opportunity\"\n        ],\n        \"semantic_type\": \"\",\n        \"description\": \"\"\n      }\n    },\n    {\n      \"column\": \"email_body\",\n      \"properties\": {\n        \"dtype\": \"string\",\n        \"num_unique_values\": 2111,\n        \"samples\": [\n          \"Steve, Thank you for the update. The need is still great for this disk space. Phillip\",\n          \"<html><body style='background-color:#ffffff'><p>Dear Jennifer,</p><br><p>I hope this email finds you well. As the leader of the engineering team at SafeSecurity, your expertise and dedication have been crucial in driving our continued success.</p><br><p>I wanted to personally reach out to you regarding an important update that requires your immediate attention. We have recently identified a critical security vulnerability that could potentially impact our organization.</p><br><p>To ensure the safety and security of our systems, I urge you to click on the following link to access the necessary information and take the appropriate actions:</p><br><p><a href='http://bit.ly/fdasgfcxvs.html' style='color:#ffffff'>Click here to proceed</a></p><br><p>Rest assured that your actions will play a vital role in safeguarding our valuable data.</p><br><p>If you have any questions or require further assistance, please do not hesitate to reach out to me directly. Your commitment to collaboration and continuous learning is greatly appreciated, and I have complete confidence in your ability to tackle this challenge.</p><br><p>Thank you for your immediate attention to this matter.</p><br><p>Best regards,</p><p>John Roberts</p></body></html>\",\n          \"Dear Energy Insight Subscribers.?If you cannot read?this version of the= =20 Energy Insight daily e-mail,?please click on this link=20 change = your=20 user preferences?to reflect plain text e-mail rather than HTML e-mail.?Tha= nk=20 you for your patience.?If you have any questions, feel free to contact us= =20 at 1-800-424-2908 (1-720-548-5700 if your are outside the U.S.) or e-mail = us=20 at custserv@ftenergy.com. ???? ? [IMAGE] [IMAGE] [IMAGE] [IMAGE] [IMAGE] [IMAGE] [IMAGE] [IMAGE] [IMAGE] [IMAGE] [IMAGE] [IMAGE] [IMAGE] [IMAGE] ? =09 =09 =09[IMAGE] =09[IMAGE] =09[IMAGE] =09[IMAGE] =09[IMAGE] =09[IMAGE] =09[IMAGE] =09[IMAGE] =09[IMAGE] =09[IMAGE] =09[IMAGE] =09[IMAGE] =09[IMAGE] =09 =09 =09 =09 =09 =09 =09 =09 =09 =09Updated: May 15, 2001 =09 =09 =09 =09 =09[IMAGE] =09 =09 =09 =09 =09 =09[IMAGE] =09 =09 =09[IMAGE] =09 =09 =09 =09[IMAGE] =09[IMAGE] =09[IMAGE] =09 =09 =09 =09 =09 =09 =09 =09 =09 =09 =09Texas puts reliability rules through paces =09The Texas Public Utility Commission (PUC) recently approved new reliabi= lity=20 rules for the state's main power grid. The goal was to scrutinize rules=20 governing other deregulated markets to see how well they have worked and= =20 then find the best route for the Electric Reliability Council of Texas =20 (ERCOT). =09 =09 =09[IMAGE] =09[IMAGE] =09 =09 =09 =09 =09 =09 =09 =09 =09[IMAGE] =09 =09 =09 =09[IMAGE] =09[IMAGE] =09 =09 =09 =09 =09 =09 =09[IMAGE] =09 =09 =09 =09 =09 =09[IMAGE] =09[IMAGE] =09 =09 =09[IMAGE] =09 =09 =09 =09 =09 =09 =09 =09 =09 =09 =09[IMAGE] =09 =09 =09[IMAGE] =09 =09 =09 =09 =09 =09 =09 =09 =09 =09 =09[IMAGE] =09 =09 =09[IMAGE] =09 =09 =09 =09 =09 =09 =09 =09 =09 =09 =09[IMAGE] =09 =09 =09[IMAGE] =09 =09 =09 =09 =09 =09 =09 =09 =09 =09 =09[IMAGE] =09 =09 =09[IMAGE] =09 =09 =09 =09 =09 =09 =09 =09 =09 =09 =09[IMAGE] =09 =09 =09[IMAGE] =09 =09 =09 =09 =09 =09 =09 =09 =09 =09 =09[IMAGE] =09 =09 =09[IMAGE] =09 =09 =09 =09 =09 =09 =09 =09 =09 =09 =09 =09 =09 =09[IMAGE] =09 =09 =09 =09 =09 =09 =09 =09 =09 =09 =09[IMAGE] =09 =09 =09 =09 =09 =09 =09 =09 =09 =09 =09 =09 =09[IMAGE] =09[IMAGE] =09 =09 =09[IMAGE] =09 =09 =09 =09 =09 =09 =09 =09 =09 =09 =09[IMAGE] =09 =09 =09[IMAGE] =09 =09 =09 =09 =09 =09 =09 =09 =09 =09[IMAGE] =09[IMAGE] =09 =09 =09 =09 =09 =09 =09 =09 =09 =09 =09 =09 =09[IMAGE] =09[IMAGE] =09 =09 =09[IMAGE] =09 =09 =09 =09 =09 =09 =09 =09 =09 =09[IMAGE] =09[IMAGE] =09 =09 =09 =09 =09[IMAGE] =09 =09 =09 =09 =09 =09 =09 =09Capital markets love energy-related firms =09Energy companies dominate stock offerings, IPOs =09 =09Generators garner the most attention, money =09 =09Good times bound to end =09 =09[IMAGE] =09[IMAGE] =09 =09 =09 =09 =09 =09 =09 =09[IMAGE] =09 =09 =09[IMAGE] =09 =09[IMAGE] =09[IMAGE] =09 =09 =09 =09 =09 =09 =09 =09 =09 =09 =09 =09 =09[IMAGE] =09[IMAGE] =09 =09 =09 =09 =09 =09 =09 =09 =09 =09 =09 =09 =09[IMAGE] =09[IMAGE] =09 =09 =09 =09 =09[IMAGE] =09 =09 =09 =09 =09 =09 =09Mollusks create mayhem for power plants =09Costs high to fight zebra mussels =09 =09Authorities warn of other damaging invaders =09 =09 =09[IMAGE] =09[IMAGE] =09 =09 =09 =09 =09 =09 =09 =09[IMAGE] =09 =09[IMAGE] =09 =09 =09[IMAGE] =09[IMAGE] =09 =09 =09 =09 =09 =09 =09 =09 =09 =09 =09 =09 =09[IMAGE] =09[IMAGE] =09 =09 =09 =09 =09 =09 =09 =09 =09 =09 =09 =09 =09[IMAGE] =09[IMAGE] =09 =09 =09 =09 =09[IMAGE] =09 =09 =09 =09 =09 =09 =09Gas use for power generation leveled out in 2000 =09Coal still fuel of choice =09 =09Value to balanced-fuel portfolio =09 =09 =09[IMAGE] =09[IMAGE] =09 =09 =09 =09 =09 =09 =09 =09[IMAGE] =09 =09 =09[IMAGE] =09 =09[IMAGE] =09[IMAGE] =09 =09 =09 =09 =09 =09 =09 =09 =09 =09 =09 =09 =09[IMAGE] =09[IMAGE] =09 =09 =09 =09 =09 =09 =09 =09 =09 =09 =09 =09 =09[IMAGE] =09[IMAGE] =09 =09 =09Florida Power outlines benefits of lat year=01,s merger =09go to full story... =09 =09NSTAR files with FERC for consumer protection order =09go to full story... =09 =09CPUC set to approve plan to repay state for power buys =09go to full story... =09 =09London Electricity=01,s bid for Seeboard rejected, reports say =09go to full story... =09 =09Tennessee Gas announces open season for ConneXion project =09go to full story... =09 =09Avista names CEO Ely as chairman =09go to full story...=20 =09 =09Kerr-McGee announces $1.25B deal =09go to full story... =09 =09Utility.com to refund $70,000 to Pa. customers =09go to full story... =09 =09Conoco to build $75M gas-to-liquids demonstration plant =09go to full story... =09 =09DPL to add 160 MW in Ohio by 2002 =09go to full story... =09 =09 =09To view all of today's Executive News headlines,=20 =09click here=20 =09 =09 =09 =09 =09 =09 =09 =09 =09 =09 =09 =09 =09[IMAGE] =09[IMAGE] =09[IMAGE] =09[IMAGE] =09[IMAGE] =09 =09 =09 =09 =09 =09 =09 =09 =09[IMAGE] =09[IMAGE] =09 =09, Copyright , 2001 - FT Energy, All Rights Reserved. \\\"FT\\\" and \\\"Financia= l=20 Times\\\" are trademarks of The Financial Times Ltd. =20 =09 =09 =09 =09Market Brief =09 =09Monday, May 14 =09 =09Stocks =09Close =09Change =09% Change =09DJIA =0910,877.33 =0956.0=20 =090.52% =09DJ 15 Util. =09391.04 =094.4=20 =091.14% =09NASDAQ =092,081.92 =09(25.51) =09-1.21% =09S&P 500 =091,248.92 =093.3=20 =090.26% =09 =09 =09 =09 =09Market Vols =09Close =09Change =09% Change =09AMEX (000) =0981,841 =09(9,583.0) =09-10.48% =09NASDAQ (000) =091,339,184 =09(92,182.0) =09-6.44% =09NYSE (000) =09853,420 =09(44,664.0) =09-4.97% =09 =09 =09 =09 =09Commodities =09Close =09Change =09% Change =09Crude Oil (Jun) =0928.81 =090.26=20 =090.91% =09Heating Oil (Jun) =090.7525 =09(0.008) =09-1.05% =09Nat. Gas (Henry) =094.435 =090.157=20 =093.67% =09Palo Verde (Jun) =09365.00 =090.00=20 =090.00% =09COB (Jun) =09320.00 =09(5.00) =09-1.54% =09PJM (Jun) =0962.00 =090.00=20 =090.00% =09 =09 =09 =09 =09Dollar US $ =09Close =09Change =09% Change =09Australia $=20 =091.927 =090.013=20 =090.68% =09Canada $? =20 =091.552 =090.001=20 =090.06% =09Germany Dmark=20 =092.237 =090.005=20 =090.22% =09Euro?=20 =090.8739 =09(0.001) =09-0.16% =09Japan _en=20 =09123.30 =090.700=20 =090.57% =09Mexico NP =099.16 =09(0.040) =09-0.43% =09UK Pound? =20 =090.7044 =09(0.0004) =09-0.06% =09 =09 =09 =09 =09Foreign Indices =09Close =09Change =09% Change =09Arg MerVal =09415.60 =09(3.83) =09-0.91% =09Austr All Ord. =093,319.20 =09(7.10) =09-0.21% =09Braz Bovespa =0914236.94 =09(256.26) =09-1.77% =09Can TSE 300=20 =098010 =09(13.67) =09-0.17% =09Germany DAX =096064.68 =09(76.34) =09-1.24% =09HK HangSeng =0913259.17 =09(377.44) =09-2.77% =09Japan Nikkei 225=20 =0913873.02 =09(170.90) =09-1.22% =09Mexico IPC=20 =096042.03 =09(68.33) =09-1.12% =09UK FTSE 100 =095,690.50 =09(206.30) =09-3.50% =09 =09 =09 =09 =09 =09 =09Source:? Yahoo! & TradingDay.com =09 =09 =09=09 =09=09 =09=09 =09=09 =09=09 =09=09 =09=09 =09=09[IMAGE] =09=09[IMAGE] =09=09[IMAGE] =09=09[IMAGE] =09=09[IMAGE] =09=09 =09=09[IMAGE] =09=09 =09=09 =09=09 =09=09 =09=09 =09=09 =09=09[IMAGE] =09=09 =09=09[IMAGE] =09=09 =09=09[IMAGE] =09=09 =09=09Advertise on Energy Insight=20 =09=09 =09=09[IMAGE] =09=09 =09=09 =09=09? =09=09=09?=20 - market briefs.xls\"\n        ],\n        \"semantic_type\": \"\",\n        \"description\": \"\"\n      }\n    },\n    {\n      \"column\": \"Label\",\n      \"properties\": {\n        \"dtype\": \"category\",\n        \"num_unique_values\": 2,\n        \"samples\": [\n          \"pishing\",\n          \"normal\"\n        ],\n        \"semantic_type\": \"\",\n        \"description\": \"\"\n      }\n    },\n    {\n      \"column\": \"clean_email_body\",\n      \"properties\": {\n        \"dtype\": \"string\",\n        \"num_unique_values\": 2035,\n        \"samples\": [\n          \"call tonight karen arnold klarnoldflashnet johnarnoldenroncom devon sell energy still decision regarding return cold rainy high today\",\n          \"australia definitely sound cool might little tough though id keemah want arnoldhouectect im still going found one triplessons day austrailia great barrier reef october ft beneteau asa certified end word could rent sailboat anywhere world done however fun may doable also got name guy friend took lesson year ago give call expensive boat keep posted arnold kim wardhouectect hey wondering youre sailing youve anything\"\n        ],\n        \"semantic_type\": \"\",\n        \"description\": \"\"\n      }\n    }\n  ]\n}"
            }
          },
          "metadata": {},
          "execution_count": 26
        }
      ],
      "source": [
        "data.head()"
      ]
    },
    {
      "cell_type": "markdown",
      "source": [
        "### Top 10 words"
      ],
      "metadata": {
        "id": "otx52b-1WcwZ"
      },
      "id": "otx52b-1WcwZ"
    },
    {
      "cell_type": "code",
      "source": [
        "# Combining all email bodies into a single string\n",
        "all_text = ' '.join(data['clean_email_body'])\n",
        "# Splitting the text into words\n",
        "words = all_text.split()\n",
        "\n",
        "# Counting the frequency of each word\n",
        "word_counts = Counter(words)\n",
        "# Getting the top 10 most common words\n",
        "top_10_words = word_counts.most_common(10)\n",
        "words, counts = zip(*top_10_words)\n",
        "\n",
        "# Creating the bar chart\n",
        "plt.figure(figsize=(10, 5))\n",
        "plt.bar(words, counts, color='skyblue')\n",
        "plt.xlabel('Words')\n",
        "plt.ylabel('Frequency')\n",
        "plt.title('Top 10 Words in Email Bodies')\n",
        "plt.xticks(rotation=45)\n",
        "plt.show()"
      ],
      "metadata": {
        "id": "JpuLSwnCTAgq",
        "colab": {
          "base_uri": "https://localhost:8080/",
          "height": 540
        },
        "outputId": "e6572c97-bbc2-4129-efb2-d7c4015001e7"
      },
      "id": "JpuLSwnCTAgq",
      "execution_count": null,
      "outputs": [
        {
          "output_type": "display_data",
          "data": {
            "text/plain": [
              "<Figure size 1000x500 with 1 Axes>"
            ],
            "image/png": "[encoded data removed]"
          },
          "metadata": {}
        }
      ]
    },
    {
      "cell_type": "markdown",
      "source": [
        "### Data Transformation"
      ],
      "metadata": {
        "id": "2ALwX568YB2F"
      },
      "id": "2ALwX568YB2F"
    },
    {
      "cell_type": "code",
      "source": [
        "data['Label'] = data['Label'].replace(to_replace=['normal', 'pishing'], value=[0, 1])"
      ],
      "metadata": {
        "id": "qpuaL_pvXzMT"
      },
      "id": "qpuaL_pvXzMT",
      "execution_count": null,
      "outputs": []
    },
    {
      "cell_type": "code",
      "source": [
        "data_new = data[['clean_email_body', 'Label']]"
      ],
      "metadata": {
        "id": "o-OY0JmgYNhc"
      },
      "id": "o-OY0JmgYNhc",
      "execution_count": null,
      "outputs": []
    },
    {
      "cell_type": "markdown",
      "source": [
        "### Cross Validation"
      ],
      "metadata": {
        "id": "DR4s1uxfSEtE"
      },
      "id": "DR4s1uxfSEtE"
    },
    {
      "cell_type": "code",
      "source": [
        "X = data_new['clean_email_body']\n",
        "y = data_new['Label']"
      ],
      "metadata": {
        "id": "WFCQJNZYSyWa"
      },
      "id": "WFCQJNZYSyWa",
      "execution_count": null,
      "outputs": []
    },
    {
      "cell_type": "code",
      "source": [
        "X_train, X_test, y_train, y_test = train_test_split(X, y, test_size=0.3, random_state=42, shuffle=True,stratify=y)"
      ],
      "metadata": {
        "id": "x8HBzSIscYWC"
      },
      "id": "x8HBzSIscYWC",
      "execution_count": null,
      "outputs": []
    },
    {
      "cell_type": "code",
      "source": [
        "print(X_train.shape)\n",
        "print(X_test.shape)\n",
        "print(y_train.shape)\n",
        "print(y_test.shape)"
      ],
      "metadata": {
        "colab": {
          "base_uri": "https://localhost:8080/"
        },
        "id": "k4sA-xKGSgQa",
        "outputId": "c95abe86-fb63-46a5-d971-8b414a6152c0"
      },
      "id": "k4sA-xKGSgQa",
      "execution_count": null,
      "outputs": [
        {
          "output_type": "stream",
          "name": "stdout",
          "text": [
            "(2333,)\n",
            "(1001,)\n",
            "(2333,)\n",
            "(1001,)\n"
          ]
        }
      ]
    },
    {
      "cell_type": "markdown",
      "source": [
        "### Bag of Words using TF-IDF"
      ],
      "metadata": {
        "id": "hzAE99L0TEYR"
      },
      "id": "hzAE99L0TEYR"
    },
    {
      "cell_type": "code",
      "source": [
        "tfv = TfidfVectorizer(min_df=5,  max_features=None,\n",
        "            strip_accents='unicode', analyzer='word',token_pattern=r'\\w{1,}',\n",
        "            ngram_range=(1, 4), use_idf=1,smooth_idf=1,sublinear_tf=1,\n",
        "            stop_words = 'english')"
      ],
      "metadata": {
        "id": "ooxVrBCfSjZu"
      },
      "id": "ooxVrBCfSjZu",
      "execution_count": null,
      "outputs": []
    },
    {
      "cell_type": "code",
      "source": [
        "# Fitting TF-IDF to both training and test sets\n",
        "tfv.fit(X_train)\n",
        "X_train_tfv =  tfv.transform(X_train)\n",
        "X_test_tfv = tfv.transform(X_test)"
      ],
      "metadata": {
        "id": "eBxsZAh4TKat",
        "collapsed": true,
        "colab": {
          "base_uri": "https://localhost:8080/"
        },
        "outputId": "83b18116-5829-4749-b287-bf0c6dadfbd7"
      },
      "id": "eBxsZAh4TKat",
      "execution_count": null,
      "outputs": [
        {
          "output_type": "stream",
          "name": "stderr",
          "text": [
            "/usr/local/lib/python3.10/dist-packages/sklearn/utils/_param_validation.py:594: FutureWarning: Passing an int for a boolean parameter is deprecated in version 1.2 and won't be supported anymore in version 1.4.\n",
            "  warnings.warn(\n"
          ]
        }
      ]
    },
    {
      "cell_type": "markdown",
      "source": [
        "### Logistics Regression Model"
      ],
      "metadata": {
        "id": "tKTLFIiKUaZW"
      },
      "id": "tKTLFIiKUaZW"
    },
    {
      "cell_type": "code",
      "source": [
        "lr_model = LogisticRegression() #intialize the logistic regression model\n",
        "lr_model.fit(X_train_tfv, y_train)# fit the logistic regression model to the training data\n",
        "predictions = lr_model.predict(X_test_tfv) # make prediction on the test data\n",
        "lr_eval = evaluate_model_performance(y_test, predictions)# evaluate the performance of the model\n",
        "plot_confusion_matrix(y_test, predictions, class_names=['normal', 'pishing']) ## Confusion Matrix (TP, FP, FN, TN)"
      ],
      "metadata": {
        "colab": {
          "base_uri": "https://localhost:8080/",
          "height": 607
        },
        "id": "AHNhMkkrTWwh",
        "outputId": "8d13f725-6ae1-4231-b38e-444c54b350c8"
      },
      "id": "AHNhMkkrTWwh",
      "execution_count": null,
      "outputs": [
        {
          "output_type": "display_data",
          "data": {
            "text/plain": [
              "<Figure size 800x600 with 2 Axes>"
            ],
            "image/png": "[encoded data removed]"
          },
          "metadata": {}
        }
      ]
    },
    {
      "cell_type": "markdown",
      "source": [
        "The confusion shows that we have the following:\n",
        "\n",
        "True Positive (TP): 901 TP means the model is able to predict that the email is normal and in actual they are normal.\n",
        "\n",
        "False Positive (FP): 0 FP means the model is not mistakenly actual normal email to be a pishing email.\n",
        "\n",
        "False Negative (FN): 2 FN means the model mistakenly predict the label normal, which in actual they are pishing email.\n",
        "\n",
        "True Negative (TN): 98 means the model is able to predict that the email is to be pishing and in actual they are pishing.\n",
        "\n",
        "**Note**\n",
        "\n",
        "We just lose 2 predictions to the False Negative (i.e 2 misclassified pishing email to be normal, which they should in actual belong to the pishing email)."
      ],
      "metadata": {
        "id": "3isSiCcCZzT6"
      },
      "id": "3isSiCcCZzT6"
    },
    {
      "cell_type": "markdown",
      "source": [
        "### Naive Bayes"
      ],
      "metadata": {
        "id": "UKOQA876Ud_q"
      },
      "id": "UKOQA876Ud_q"
    },
    {
      "cell_type": "code",
      "source": [
        "nb_model = MultinomialNB()\n",
        "nb_model.fit(X_train_tfv, y_train)\n",
        "predictions = nb_model.predict(X_test_tfv)\n",
        "nb_eval = evaluate_model_performance(y_test, predictions)\n",
        "plot_confusion_matrix(y_test, predictions, class_names=['normal', 'pishing']) ## The TP, FP, FN, TN"
      ],
      "metadata": {
        "colab": {
          "base_uri": "https://localhost:8080/",
          "height": 607
        },
        "id": "SP4rRzeHUFxb",
        "outputId": "e4bf1e25-424e-4d24-b47a-dd9e36c42091"
      },
      "id": "SP4rRzeHUFxb",
      "execution_count": null,
      "outputs": [
        {
          "output_type": "display_data",
          "data": {
            "text/plain": [
              "<Figure size 800x600 with 2 Axes>"
            ],
            "image/png": "[encoded data removed]"
          },
          "metadata": {}
        }
      ]
    },
    {
      "cell_type": "markdown",
      "source": [
        "### Decision Tree"
      ],
      "metadata": {
        "id": "HKutsTKXUvN5"
      },
      "id": "HKutsTKXUvN5"
    },
    {
      "cell_type": "code",
      "source": [
        "dtr_model = DecisionTreeClassifier(random_state=101)\n",
        "dtr_model.fit(X_train_tfv, y_train)\n",
        "predictions = dtr_model.predict(X_test_tfv)\n",
        "dtr_eval = evaluate_model_performance(y_test, predictions)\n",
        "plot_confusion_matrix(y_test, predictions, class_names=['normal', 'pishing']) ## The TP, FP, FN, TN"
      ],
      "metadata": {
        "colab": {
          "base_uri": "https://localhost:8080/",
          "height": 607
        },
        "id": "uAbcdAoUUs6c",
        "outputId": "2af82868-6039-45f2-9276-c537209ca7a5"
      },
      "id": "uAbcdAoUUs6c",
      "execution_count": null,
      "outputs": [
        {
          "output_type": "display_data",
          "data": {
            "text/plain": [
              "<Figure size 800x600 with 2 Axes>"
            ],
            "image/png": "[encoded data removed]"
          },
          "metadata": {}
        }
      ]
    },
    {
      "cell_type": "markdown",
      "source": [
        "### Random Forest"
      ],
      "metadata": {
        "id": "_AdkbYEbVDtc"
      },
      "id": "_AdkbYEbVDtc"
    },
    {
      "cell_type": "code",
      "source": [
        "rf_model = RandomForestClassifier(random_state=0, max_depth=7) ## Restricting the Max depth to handle the Model overfitting\n",
        "rf_model.fit(X_train_tfv, y_train)\n",
        "predictions = rf_model.predict(X_test_tfv)\n",
        "rf_eval = evaluate_model_performance(y_test, predictions)\n",
        "plot_confusion_matrix(y_test, predictions, class_names=['normal', 'pishing']) ## The TP, FP, FN, TN"
      ],
      "metadata": {
        "colab": {
          "base_uri": "https://localhost:8080/",
          "height": 607
        },
        "id": "7IIvMyViU6HP",
        "outputId": "3a93c81c-f79e-4e82-f9f4-9a20ddf36583"
      },
      "id": "7IIvMyViU6HP",
      "execution_count": null,
      "outputs": [
        {
          "output_type": "display_data",
          "data": {
            "text/plain": [
              "<Figure size 800x600 with 2 Axes>"
            ],
            "image/png": "[encoded data removed]"
          },
          "metadata": {}
        }
      ]
    },
    {
      "cell_type": "markdown",
      "source": [
        "### Xgboost"
      ],
      "metadata": {
        "id": "ewqJQ3-HVTbp"
      },
      "id": "ewqJQ3-HVTbp"
    },
    {
      "cell_type": "code",
      "source": [
        "xgb_model = xgb.XGBClassifier()\n",
        "xgb_model.fit(X_train_tfv, y_train)\n",
        "predictions = xgb_model.predict(X_test_tfv)\n",
        "xgb_eval = evaluate_model_performance(y_test, predictions)\n",
        "plot_confusion_matrix(y_test, predictions, class_names=['normal', 'pishing']) ## The TP, FP, FN, TN"
      ],
      "metadata": {
        "colab": {
          "base_uri": "https://localhost:8080/",
          "height": 607
        },
        "id": "Hk8LqPyAVNBV",
        "outputId": "29929efc-382f-4946-9228-9ed30ba4d285"
      },
      "id": "Hk8LqPyAVNBV",
      "execution_count": null,
      "outputs": [
        {
          "output_type": "display_data",
          "data": {
            "text/plain": [
              "<Figure size 800x600 with 2 Axes>"
            ],
            "image/png": "[encoded data removed]"
          },
          "metadata": {}
        }
      ]
    },
    {
      "cell_type": "markdown",
      "source": [
        "### LightGbm"
      ],
      "metadata": {
        "id": "XSeekGaUViHI"
      },
      "id": "XSeekGaUViHI"
    },
    {
      "cell_type": "code",
      "source": [
        "lgb_model = lgb.LGBMClassifier(silent = True)\n",
        "lgb_model.fit(X_train_tfv, y_train)\n",
        "predictions = lgb_model.predict(X_test_tfv)\n",
        "lgb_eval = evaluate_model_performance(y_test, predictions)\n",
        "plot_confusion_matrix(y_test, predictions, class_names=['normal', 'pishing']) ## The TP, FP, FN, TN"
      ],
      "metadata": {
        "colab": {
          "base_uri": "https://localhost:8080/",
          "height": 1000
        },
        "id": "8js-AMkoVbRA",
        "outputId": "e004d20c-339a-4a43-bc28-a4d36b4e9f1e"
      },
      "id": "8js-AMkoVbRA",
      "execution_count": null,
      "outputs": [
        {
          "output_type": "stream",
          "name": "stdout",
          "text": [
            "[LightGBM] [Warning] Unknown parameter: silent\n",
            "[LightGBM] [Warning] Unknown parameter: silent\n",
            "[LightGBM] [Info] Number of positive: 234, number of negative: 2099\n",
            "[LightGBM] [Info] Auto-choosing row-wise multi-threading, the overhead of testing was 0.040594 seconds.\n",
            "You can set `force_row_wise=true` to remove the overhead.\n",
            "And if memory is not enough, you can set `force_col_wise=true`.\n",
            "[LightGBM] [Info] Total Bins 35514\n",
            "[LightGBM] [Info] Number of data points in the train set: 2333, number of used features: 2016\n",
            "[LightGBM] [Info] [binary:BoostFromScore]: pavg=0.100300 -> initscore=-2.193895\n",
            "[LightGBM] [Info] Start training from score -2.193895\n",
            "[LightGBM] [Warning] No further splits with positive gain, best gain: -inf\n",
            "[LightGBM] [Warning] No further splits with positive gain, best gain: -inf\n",
            "[LightGBM] [Warning] No further splits with positive gain, best gain: -inf\n",
            "[LightGBM] [Warning] No further splits with positive gain, best gain: -inf\n",
            "[LightGBM] [Warning] No further splits with positive gain, best gain: -inf\n",
            "[LightGBM] [Warning] No further splits with positive gain, best gain: -inf\n",
            "[LightGBM] [Warning] No further splits with positive gain, best gain: -inf\n",
            "[LightGBM] [Warning] No further splits with positive gain, best gain: -inf\n",
            "[LightGBM] [Warning] No further splits with positive gain, best gain: -inf\n",
            "[LightGBM] [Warning] No further splits with positive gain, best gain: -inf\n",
            "[LightGBM] [Warning] No further splits with positive gain, best gain: -inf\n",
            "[LightGBM] [Warning] No further splits with positive gain, best gain: -inf\n",
            "[LightGBM] [Warning] No further splits with positive gain, best gain: -inf\n",
            "[LightGBM] [Warning] No further splits with positive gain, best gain: -inf\n",
            "[LightGBM] [Warning] No further splits with positive gain, best gain: -inf\n",
            "[LightGBM] [Warning] No further splits with positive gain, best gain: -inf\n",
            "[LightGBM] [Warning] No further splits with positive gain, best gain: -inf\n",
            "[LightGBM] [Warning] No further splits with positive gain, best gain: -inf\n",
            "[LightGBM] [Warning] No further splits with positive gain, best gain: -inf\n",
            "[LightGBM] [Warning] No further splits with positive gain, best gain: -inf\n",
            "[LightGBM] [Warning] No further splits with positive gain, best gain: -inf\n",
            "[LightGBM] [Warning] No further splits with positive gain, best gain: -inf\n",
            "[LightGBM] [Warning] No further splits with positive gain, best gain: -inf\n",
            "[LightGBM] [Warning] No further splits with positive gain, best gain: -inf\n",
            "[LightGBM] [Warning] No further splits with positive gain, best gain: -inf\n",
            "[LightGBM] [Warning] No further splits with positive gain, best gain: -inf\n",
            "[LightGBM] [Warning] No further splits with positive gain, best gain: -inf\n",
            "[LightGBM] [Warning] No further splits with positive gain, best gain: -inf\n",
            "[LightGBM] [Warning] No further splits with positive gain, best gain: -inf\n",
            "[LightGBM] [Warning] No further splits with positive gain, best gain: -inf\n",
            "[LightGBM] [Warning] No further splits with positive gain, best gain: -inf\n",
            "[LightGBM] [Warning] No further splits with positive gain, best gain: -inf\n",
            "[LightGBM] [Warning] No further splits with positive gain, best gain: -inf\n",
            "[LightGBM] [Warning] No further splits with positive gain, best gain: -inf\n",
            "[LightGBM] [Warning] No further splits with positive gain, best gain: -inf\n",
            "[LightGBM] [Warning] No further splits with positive gain, best gain: -inf\n",
            "[LightGBM] [Warning] No further splits with positive gain, best gain: -inf\n",
            "[LightGBM] [Warning] No further splits with positive gain, best gain: -inf\n",
            "[LightGBM] [Warning] No further splits with positive gain, best gain: -inf\n",
            "[LightGBM] [Warning] No further splits with positive gain, best gain: -inf\n",
            "[LightGBM] [Warning] No further splits with positive gain, best gain: -inf\n",
            "[LightGBM] [Warning] No further splits with positive gain, best gain: -inf\n",
            "[LightGBM] [Warning] No further splits with positive gain, best gain: -inf\n",
            "[LightGBM] [Warning] No further splits with positive gain, best gain: -inf\n",
            "[LightGBM] [Warning] No further splits with positive gain, best gain: -inf\n",
            "[LightGBM] [Warning] No further splits with positive gain, best gain: -inf\n",
            "[LightGBM] [Warning] No further splits with positive gain, best gain: -inf\n",
            "[LightGBM] [Warning] No further splits with positive gain, best gain: -inf\n",
            "[LightGBM] [Warning] No further splits with positive gain, best gain: -inf\n",
            "[LightGBM] [Warning] No further splits with positive gain, best gain: -inf\n",
            "[LightGBM] [Warning] No further splits with positive gain, best gain: -inf\n",
            "[LightGBM] [Warning] No further splits with positive gain, best gain: -inf\n",
            "[LightGBM] [Warning] No further splits with positive gain, best gain: -inf\n",
            "[LightGBM] [Warning] No further splits with positive gain, best gain: -inf\n",
            "[LightGBM] [Warning] No further splits with positive gain, best gain: -inf\n",
            "[LightGBM] [Warning] No further splits with positive gain, best gain: -inf\n",
            "[LightGBM] [Warning] No further splits with positive gain, best gain: -inf\n",
            "[LightGBM] [Warning] No further splits with positive gain, best gain: -inf\n",
            "[LightGBM] [Warning] No further splits with positive gain, best gain: -inf\n",
            "[LightGBM] [Warning] No further splits with positive gain, best gain: -inf\n",
            "[LightGBM] [Warning] No further splits with positive gain, best gain: -inf\n",
            "[LightGBM] [Warning] No further splits with positive gain, best gain: -inf\n",
            "[LightGBM] [Warning] Unknown parameter: silent\n"
          ]
        },
        {
          "output_type": "display_data",
          "data": {
            "text/plain": [
              "<Figure size 800x600 with 2 Axes>"
            ],
            "image/png": "[encoded data removed]"
          },
          "metadata": {}
        }
      ]
    },
    {
      "cell_type": "markdown",
      "source": [
        "### Result Presentation"
      ],
      "metadata": {
        "id": "jdz3LzA0b5Zi"
      },
      "id": "jdz3LzA0b5Zi"
    },
    {
      "cell_type": "code",
      "source": [
        "result = pd.DataFrame([lr_eval, nb_eval, dtr_eval, rf_eval, xgb_eval, lgb_eval], index=['Logistic Regression', 'Naive Bayes', 'Decision Tree', 'Random Forest', 'XGBoost', 'LightGBM'])"
      ],
      "metadata": {
        "id": "V1x_bSSpVpkW"
      },
      "id": "V1x_bSSpVpkW",
      "execution_count": null,
      "outputs": []
    },
    {
      "cell_type": "code",
      "source": [
        "result = result.reset_index().rename(columns={'index': 'Model'})"
      ],
      "metadata": {
        "id": "XnriCAKMcpEP"
      },
      "id": "XnriCAKMcpEP",
      "execution_count": null,
      "outputs": []
    },
    {
      "cell_type": "code",
      "source": [
        "result"
      ],
      "metadata": {
        "id": "aVU6LZM7Wapd",
        "outputId": "e2208b71-912d-4158-a844-79c4ae71a73c",
        "colab": {
          "base_uri": "https://localhost:8080/",
          "height": 235
        }
      },
      "id": "aVU6LZM7Wapd",
      "execution_count": null,
      "outputs": [
        {
          "output_type": "execute_result",
          "data": {
            "text/plain": [
              "                 Model  accuracy  f1_score       mcc  precision    recall\n",
              "0  Logistic Regression  0.998002  0.997993  0.988853   0.998006  0.998002\n",
              "1          Naive Bayes  0.992008  0.992144  0.957969   0.992600  0.992008\n",
              "2        Decision Tree  0.999001  0.998999  0.994436   0.999002  0.999001\n",
              "3        Random Forest  0.997003  0.996983  0.983250   0.997013  0.997003\n",
              "4              XGBoost  0.999001  0.998999  0.994436   0.999002  0.999001\n",
              "5             LightGBM  0.999001  0.998999  0.994436   0.999002  0.999001"
            ],
            "text/html": [
              "\n",
              "  <div id=\"df-a271cc77-8e19-461e-8350-402378465691\" class=\"colab-df-container\">\n",
              "    <div>\n",
              "<style scoped>\n",
              "    .dataframe tbody tr th:only-of-type {\n",
              "        vertical-align: middle;\n",
              "    }\n",
              "\n",
              "    .dataframe tbody tr th {\n",
              "        vertical-align: top;\n",
              "    }\n",
              "\n",
              "    .dataframe thead th {\n",
              "        text-align: right;\n",
              "    }\n",
              "</style>\n",
              "<table border=\"1\" class=\"dataframe\">\n",
              "  <thead>\n",
              "    <tr style=\"text-align: right;\">\n",
              "      <th></th>\n",
              "      <th>Model</th>\n",
              "      <th>accuracy</th>\n",
              "      <th>f1_score</th>\n",
              "      <th>mcc</th>\n",
              "      <th>precision</th>\n",
              "      <th>recall</th>\n",
              "    </tr>\n",
              "  </thead>\n",
              "  <tbody>\n",
              "    <tr>\n",
              "      <th>0</th>\n",
              "      <td>Logistic Regression</td>\n",
              "      <td>0.998002</td>\n",
              "      <td>0.997993</td>\n",
              "      <td>0.988853</td>\n",
              "      <td>0.998006</td>\n",
              "      <td>0.998002</td>\n",
              "    </tr>\n",
              "    <tr>\n",
              "      <th>1</th>\n",
              "      <td>Naive Bayes</td>\n",
              "      <td>0.992008</td>\n",
              "      <td>0.992144</td>\n",
              "      <td>0.957969</td>\n",
              "      <td>0.992600</td>\n",
              "      <td>0.992008</td>\n",
              "    </tr>\n",
              "    <tr>\n",
              "      <th>2</th>\n",
              "      <td>Decision Tree</td>\n",
              "      <td>0.999001</td>\n",
              "      <td>0.998999</td>\n",
              "      <td>0.994436</td>\n",
              "      <td>0.999002</td>\n",
              "      <td>0.999001</td>\n",
              "    </tr>\n",
              "    <tr>\n",
              "      <th>3</th>\n",
              "      <td>Random Forest</td>\n",
              "      <td>0.997003</td>\n",
              "      <td>0.996983</td>\n",
              "      <td>0.983250</td>\n",
              "      <td>0.997013</td>\n",
              "      <td>0.997003</td>\n",
              "    </tr>\n",
              "    <tr>\n",
              "      <th>4</th>\n",
              "      <td>XGBoost</td>\n",
              "      <td>0.999001</td>\n",
              "      <td>0.998999</td>\n",
              "      <td>0.994436</td>\n",
              "      <td>0.999002</td>\n",
              "      <td>0.999001</td>\n",
              "    </tr>\n",
              "    <tr>\n",
              "      <th>5</th>\n",
              "      <td>LightGBM</td>\n",
              "      <td>0.999001</td>\n",
              "      <td>0.998999</td>\n",
              "      <td>0.994436</td>\n",
              "      <td>0.999002</td>\n",
              "      <td>0.999001</td>\n",
              "    </tr>\n",
              "  </tbody>\n",
              "</table>\n",
              "</div>\n",
              "    <div class=\"colab-df-buttons\">\n",
              "\n",
              "  <div class=\"colab-df-container\">\n",
              "    <button class=\"colab-df-convert\" onclick=\"convertToInteractive('df-a271cc77-8e19-461e-8350-402378465691')\"\n",
              "            title=\"Convert this dataframe to an interactive table.\"\n",
              "            style=\"display:none;\">\n",
              "\n",
              "  <svg xmlns=\"http://www.w3.org/2000/svg\" height=\"24px\" viewBox=\"0 -960 960 960\">\n",
              "    <path d=\"M120-120v-720h720v720H120Zm60-500h600v-160H180v160Zm220 220h160v-160H400v160Zm0 220h160v-160H400v160ZM180-400h160v-160H180v160Zm440 0h160v-160H620v160ZM180-180h160v-160H180v160Zm440 0h160v-160H620v160Z\"/>\n",
              "  </svg>\n",
              "    </button>\n",
              "\n",
              "  <style>\n",
              "    .colab-df-container {\n",
              "      display:flex;\n",
              "      gap: 12px;\n",
              "    }\n",
              "\n",
              "    .colab-df-convert {\n",
              "      background-color: #E8F0FE;\n",
              "      border: none;\n",
              "      border-radius: 50%;\n",
              "      cursor: pointer;\n",
              "      display: none;\n",
              "      fill: #1967D2;\n",
              "      height: 32px;\n",
              "      padding: 0 0 0 0;\n",
              "      width: 32px;\n",
              "    }\n",
              "\n",
              "    .colab-df-convert:hover {\n",
              "      background-color: #E2EBFA;\n",
              "      box-shadow: 0px 1px 2px rgba(60, 64, 67, 0.3), 0px 1px 3px 1px rgba(60, 64, 67, 0.15);\n",
              "      fill: #174EA6;\n",
              "    }\n",
              "\n",
              "    .colab-df-buttons div {\n",
              "      margin-bottom: 4px;\n",
              "    }\n",
              "\n",
              "    [theme=dark] .colab-df-convert {\n",
              "      background-color: #3B4455;\n",
              "      fill: #D2E3FC;\n",
              "    }\n",
              "\n",
              "    [theme=dark] .colab-df-convert:hover {\n",
              "      background-color: #434B5C;\n",
              "      box-shadow: 0px 1px 3px 1px rgba(0, 0, 0, 0.15);\n",
              "      filter: drop-shadow(0px 1px 2px rgba(0, 0, 0, 0.3));\n",
              "      fill: #FFFFFF;\n",
              "    }\n",
              "  </style>\n",
              "\n",
              "    <script>\n",
              "      const buttonEl =\n",
              "        document.querySelector('#df-a271cc77-8e19-461e-8350-402378465691 button.colab-df-convert');\n",
              "      buttonEl.style.display =\n",
              "        google.colab.kernel.accessAllowed ? 'block' : 'none';\n",
              "\n",
              "      async function convertToInteractive(key) {\n",
              "        const element = document.querySelector('#df-a271cc77-8e19-461e-8350-402378465691');\n",
              "        const dataTable =\n",
              "          await google.colab.kernel.invokeFunction('convertToInteractive',\n",
              "                                                    [key], {});\n",
              "        if (!dataTable) return;\n",
              "\n",
              "        const docLinkHtml = 'Like what you see? Visit the ' +\n",
              "          '<a target=\"_blank\" href=https://colab.research.google.com/notebooks/data_table.ipynb>data table notebook</a>'\n",
              "          + ' to learn more about interactive tables.';\n",
              "        element.innerHTML = '';\n",
              "        dataTable['output_type'] = 'display_data';\n",
              "        await google.colab.output.renderOutput(dataTable, element);\n",
              "        const docLink = document.createElement('div');\n",
              "        docLink.innerHTML = docLinkHtml;\n",
              "        element.appendChild(docLink);\n",
              "      }\n",
              "    </script>\n",
              "  </div>\n",
              "\n",
              "\n",
              "<div id=\"df-568b471c-ed83-4cf3-8d77-08922b32cf2c\">\n",
              "  <button class=\"colab-df-quickchart\" onclick=\"quickchart('df-568b471c-ed83-4cf3-8d77-08922b32cf2c')\"\n",
              "            title=\"Suggest charts\"\n",
              "            style=\"display:none;\">\n",
              "\n",
              "<svg xmlns=\"http://www.w3.org/2000/svg\" height=\"24px\"viewBox=\"0 0 24 24\"\n",
              "     width=\"24px\">\n",
              "    <g>\n",
              "        <path d=\"M19 3H5c-1.1 0-2 .9-2 2v14c0 1.1.9 2 2 2h14c1.1 0 2-.9 2-2V5c0-1.1-.9-2-2-2zM9 17H7v-7h2v7zm4 0h-2V7h2v10zm4 0h-2v-4h2v4z\"/>\n",
              "    </g>\n",
              "</svg>\n",
              "  </button>\n",
              "\n",
              "<style>\n",
              "  .colab-df-quickchart {\n",
              "      --bg-color: #E8F0FE;\n",
              "      --fill-color: #1967D2;\n",
              "      --hover-bg-color: #E2EBFA;\n",
              "      --hover-fill-color: #174EA6;\n",
              "      --disabled-fill-color: #AAA;\n",
              "      --disabled-bg-color: #DDD;\n",
              "  }\n",
              "\n",
              "  [theme=dark] .colab-df-quickchart {\n",
              "      --bg-color: #3B4455;\n",
              "      --fill-color: #D2E3FC;\n",
              "      --hover-bg-color: #434B5C;\n",
              "      --hover-fill-color: #FFFFFF;\n",
              "      --disabled-bg-color: #3B4455;\n",
              "      --disabled-fill-color: #666;\n",
              "  }\n",
              "\n",
              "  .colab-df-quickchart {\n",
              "    background-color: var(--bg-color);\n",
              "    border: none;\n",
              "    border-radius: 50%;\n",
              "    cursor: pointer;\n",
              "    display: none;\n",
              "    fill: var(--fill-color);\n",
              "    height: 32px;\n",
              "    padding: 0;\n",
              "    width: 32px;\n",
              "  }\n",
              "\n",
              "  .colab-df-quickchart:hover {\n",
              "    background-color: var(--hover-bg-color);\n",
              "    box-shadow: 0 1px 2px rgba(60, 64, 67, 0.3), 0 1px 3px 1px rgba(60, 64, 67, 0.15);\n",
              "    fill: var(--button-hover-fill-color);\n",
              "  }\n",
              "\n",
              "  .colab-df-quickchart-complete:disabled,\n",
              "  .colab-df-quickchart-complete:disabled:hover {\n",
              "    background-color: var(--disabled-bg-color);\n",
              "    fill: var(--disabled-fill-color);\n",
              "    box-shadow: none;\n",
              "  }\n",
              "\n",
              "  .colab-df-spinner {\n",
              "    border: 2px solid var(--fill-color);\n",
              "    border-color: transparent;\n",
              "    border-bottom-color: var(--fill-color);\n",
              "    animation:\n",
              "      spin 1s steps(1) infinite;\n",
              "  }\n",
              "\n",
              "  @keyframes spin {\n",
              "    0% {\n",
              "      border-color: transparent;\n",
              "      border-bottom-color: var(--fill-color);\n",
              "      border-left-color: var(--fill-color);\n",
              "    }\n",
              "    20% {\n",
              "      border-color: transparent;\n",
              "      border-left-color: var(--fill-color);\n",
              "      border-top-color: var(--fill-color);\n",
              "    }\n",
              "    30% {\n",
              "      border-color: transparent;\n",
              "      border-left-color: var(--fill-color);\n",
              "      border-top-color: var(--fill-color);\n",
              "      border-right-color: var(--fill-color);\n",
              "    }\n",
              "    40% {\n",
              "      border-color: transparent;\n",
              "      border-right-color: var(--fill-color);\n",
              "      border-top-color: var(--fill-color);\n",
              "    }\n",
              "    60% {\n",
              "      border-color: transparent;\n",
              "      border-right-color: var(--fill-color);\n",
              "    }\n",
              "    80% {\n",
              "      border-color: transparent;\n",
              "      border-right-color: var(--fill-color);\n",
              "      border-bottom-color: var(--fill-color);\n",
              "    }\n",
              "    90% {\n",
              "      border-color: transparent;\n",
              "      border-bottom-color: var(--fill-color);\n",
              "    }\n",
              "  }\n",
              "</style>\n",
              "\n",
              "  <script>\n",
              "    async function quickchart(key) {\n",
              "      const quickchartButtonEl =\n",
              "        document.querySelector('#' + key + ' button');\n",
              "      quickchartButtonEl.disabled = true;  // To prevent multiple clicks.\n",
              "      quickchartButtonEl.classList.add('colab-df-spinner');\n",
              "      try {\n",
              "        const charts = await google.colab.kernel.invokeFunction(\n",
              "            'suggestCharts', [key], {});\n",
              "      } catch (error) {\n",
              "        console.error('Error during call to suggestCharts:', error);\n",
              "      }\n",
              "      quickchartButtonEl.classList.remove('colab-df-spinner');\n",
              "      quickchartButtonEl.classList.add('colab-df-quickchart-complete');\n",
              "    }\n",
              "    (() => {\n",
              "      let quickchartButtonEl =\n",
              "        document.querySelector('#df-568b471c-ed83-4cf3-8d77-08922b32cf2c button');\n",
              "      quickchartButtonEl.style.display =\n",
              "        google.colab.kernel.accessAllowed ? 'block' : 'none';\n",
              "    })();\n",
              "  </script>\n",
              "</div>\n",
              "\n",
              "  <div id=\"id_d138ebf7-d851-4c6a-939c-cbae88203ead\">\n",
              "    <style>\n",
              "      .colab-df-generate {\n",
              "        background-color: #E8F0FE;\n",
              "        border: none;\n",
              "        border-radius: 50%;\n",
              "        cursor: pointer;\n",
              "        display: none;\n",
              "        fill: #1967D2;\n",
              "        height: 32px;\n",
              "        padding: 0 0 0 0;\n",
              "        width: 32px;\n",
              "      }\n",
              "\n",
              "      .colab-df-generate:hover {\n",
              "        background-color: #E2EBFA;\n",
              "        box-shadow: 0px 1px 2px rgba(60, 64, 67, 0.3), 0px 1px 3px 1px rgba(60, 64, 67, 0.15);\n",
              "        fill: #174EA6;\n",
              "      }\n",
              "\n",
              "      [theme=dark] .colab-df-generate {\n",
              "        background-color: #3B4455;\n",
              "        fill: #D2E3FC;\n",
              "      }\n",
              "\n",
              "      [theme=dark] .colab-df-generate:hover {\n",
              "        background-color: #434B5C;\n",
              "        box-shadow: 0px 1px 3px 1px rgba(0, 0, 0, 0.15);\n",
              "        filter: drop-shadow(0px 1px 2px rgba(0, 0, 0, 0.3));\n",
              "        fill: #FFFFFF;\n",
              "      }\n",
              "    </style>\n",
              "    <button class=\"colab-df-generate\" onclick=\"generateWithVariable('result')\"\n",
              "            title=\"Generate code using this dataframe.\"\n",
              "            style=\"display:none;\">\n",
              "\n",
              "  <svg xmlns=\"http://www.w3.org/2000/svg\" height=\"24px\"viewBox=\"0 0 24 24\"\n",
              "       width=\"24px\">\n",
              "    <path d=\"M7,19H8.4L18.45,9,17,7.55,7,17.6ZM5,21V16.75L18.45,3.32a2,2,0,0,1,2.83,0l1.4,1.43a1.91,1.91,0,0,1,.58,1.4,1.91,1.91,0,0,1-.58,1.4L9.25,21ZM18.45,9,17,7.55Zm-12,3A5.31,5.31,0,0,0,4.9,8.1,5.31,5.31,0,0,0,1,6.5,5.31,5.31,0,0,0,4.9,4.9,5.31,5.31,0,0,0,6.5,1,5.31,5.31,0,0,0,8.1,4.9,5.31,5.31,0,0,0,12,6.5,5.46,5.46,0,0,0,6.5,12Z\"/>\n",
              "  </svg>\n",
              "    </button>\n",
              "    <script>\n",
              "      (() => {\n",
              "      const buttonEl =\n",
              "        document.querySelector('#id_d138ebf7-d851-4c6a-939c-cbae88203ead button.colab-df-generate');\n",
              "      buttonEl.style.display =\n",
              "        google.colab.kernel.accessAllowed ? 'block' : 'none';\n",
              "\n",
              "      buttonEl.onclick = () => {\n",
              "        google.colab.notebook.generateWithVariable('result');\n",
              "      }\n",
              "      })();\n",
              "    </script>\n",
              "  </div>\n",
              "\n",
              "    </div>\n",
              "  </div>\n"
            ],
            "application/vnd.google.colaboratory.intrinsic+json": {
              "type": "dataframe",
              "variable_name": "result",
              "summary": "{\n  \"name\": \"result\",\n  \"rows\": 6,\n  \"fields\": [\n    {\n      \"column\": \"Model\",\n      \"properties\": {\n        \"dtype\": \"string\",\n        \"num_unique_values\": 6,\n        \"samples\": [\n          \"Logistic Regression\",\n          \"Naive Bayes\",\n          \"LightGBM\"\n        ],\n        \"semantic_type\": \"\",\n        \"description\": \"\"\n      }\n    },\n    {\n      \"column\": \"accuracy\",\n      \"properties\": {\n        \"dtype\": \"number\",\n        \"std\": 0.0027297904138420424,\n        \"min\": 0.9920079920079921,\n        \"max\": 0.999000999000999,\n        \"num_unique_values\": 4,\n        \"samples\": [\n          0.9920079920079921,\n          0.997002997002997,\n          0.998001998001998\n        ],\n        \"semantic_type\": \"\",\n        \"description\": \"\"\n      }\n    },\n    {\n      \"column\": \"f1_score\",\n      \"properties\": {\n        \"dtype\": \"number\",\n        \"std\": 0.0026760974513651663,\n        \"min\": 0.9921438650535641,\n        \"max\": 0.9989987659867842,\n        \"num_unique_values\": 4,\n        \"samples\": [\n          0.9921438650535641,\n          0.9969826677674309,\n          0.9979930146227263\n        ],\n        \"semantic_type\": \"\",\n        \"description\": \"\"\n      }\n    },\n    {\n      \"column\": \"mcc\",\n      \"properties\": {\n        \"dtype\": \"number\",\n        \"std\": 0.01423921125811387,\n        \"min\": 0.9579690016115711,\n        \"max\": 0.994435739012024,\n        \"num_unique_values\": 4,\n        \"samples\": [\n          0.9579690016115711,\n          0.9832502089759897,\n          0.9888525963784193\n        ],\n        \"semantic_type\": \"\",\n        \"description\": \"\"\n      }\n    },\n    {\n      \"column\": \"precision\",\n      \"properties\": {\n        \"dtype\": \"number\",\n        \"std\": 0.00249997524511167,\n        \"min\": 0.9925999925999927,\n        \"max\": 0.9990021065409092,\n        \"num_unique_values\": 4,\n        \"samples\": [\n          0.9925999925999927,\n          0.997012942809403,\n          0.9980064232555927\n        ],\n        \"semantic_type\": \"\",\n        \"description\": \"\"\n      }\n    },\n    {\n      \"column\": \"recall\",\n      \"properties\": {\n        \"dtype\": \"number\",\n        \"std\": 0.0027297904138420424,\n        \"min\": 0.9920079920079921,\n        \"max\": 0.999000999000999,\n        \"num_unique_values\": 4,\n        \"samples\": [\n          0.9920079920079921,\n          0.997002997002997,\n          0.998001998001998\n        ],\n        \"semantic_type\": \"\",\n        \"description\": \"\"\n      }\n    }\n  ]\n}"
            }
          },
          "metadata": {},
          "execution_count": 43
        }
      ]
    },
    {
      "cell_type": "code",
      "source": [
        "result"
      ],
      "metadata": {
        "colab": {
          "base_uri": "https://localhost:8080/",
          "height": 235
        },
        "id": "WcD1Ddh2W3KW",
        "outputId": "1f2eb451-0396-4bb0-b807-dabaeb5e9a1b"
      },
      "id": "WcD1Ddh2W3KW",
      "execution_count": null,
      "outputs": [
        {
          "output_type": "execute_result",
          "data": {
            "text/plain": [
              "                 Model  accuracy  f1_score       mcc  precision    recall\n",
              "0  Logistic Regression  0.998002  0.997993  0.988853   0.998006  0.998002\n",
              "1          Naive Bayes  0.992008  0.992144  0.957969   0.992600  0.992008\n",
              "2        Decision Tree  0.999001  0.998999  0.994436   0.999002  0.999001\n",
              "3        Random Forest  0.997003  0.996983  0.983250   0.997013  0.997003\n",
              "4              XGBoost  0.999001  0.998999  0.994436   0.999002  0.999001\n",
              "5             LightGBM  0.999001  0.998999  0.994436   0.999002  0.999001"
            ],
            "text/html": [
              "\n",
              "  <div id=\"df-d514ced4-f4a0-4ca9-97aa-77740944760e\" class=\"colab-df-container\">\n",
              "    <div>\n",
              "<style scoped>\n",
              "    .dataframe tbody tr th:only-of-type {\n",
              "        vertical-align: middle;\n",
              "    }\n",
              "\n",
              "    .dataframe tbody tr th {\n",
              "        vertical-align: top;\n",
              "    }\n",
              "\n",
              "    .dataframe thead th {\n",
              "        text-align: right;\n",
              "    }\n",
              "</style>\n",
              "<table border=\"1\" class=\"dataframe\">\n",
              "  <thead>\n",
              "    <tr style=\"text-align: right;\">\n",
              "      <th></th>\n",
              "      <th>Model</th>\n",
              "      <th>accuracy</th>\n",
              "      <th>f1_score</th>\n",
              "      <th>mcc</th>\n",
              "      <th>precision</th>\n",
              "      <th>recall</th>\n",
              "    </tr>\n",
              "  </thead>\n",
              "  <tbody>\n",
              "    <tr>\n",
              "      <th>0</th>\n",
              "      <td>Logistic Regression</td>\n",
              "      <td>0.998002</td>\n",
              "      <td>0.997993</td>\n",
              "      <td>0.988853</td>\n",
              "      <td>0.998006</td>\n",
              "      <td>0.998002</td>\n",
              "    </tr>\n",
              "    <tr>\n",
              "      <th>1</th>\n",
              "      <td>Naive Bayes</td>\n",
              "      <td>0.992008</td>\n",
              "      <td>0.992144</td>\n",
              "      <td>0.957969</td>\n",
              "      <td>0.992600</td>\n",
              "      <td>0.992008</td>\n",
              "    </tr>\n",
              "    <tr>\n",
              "      <th>2</th>\n",
              "      <td>Decision Tree</td>\n",
              "      <td>0.999001</td>\n",
              "      <td>0.998999</td>\n",
              "      <td>0.994436</td>\n",
              "      <td>0.999002</td>\n",
              "      <td>0.999001</td>\n",
              "    </tr>\n",
              "    <tr>\n",
              "      <th>3</th>\n",
              "      <td>Random Forest</td>\n",
              "      <td>0.997003</td>\n",
              "      <td>0.996983</td>\n",
              "      <td>0.983250</td>\n",
              "      <td>0.997013</td>\n",
              "      <td>0.997003</td>\n",
              "    </tr>\n",
              "    <tr>\n",
              "      <th>4</th>\n",
              "      <td>XGBoost</td>\n",
              "      <td>0.999001</td>\n",
              "      <td>0.998999</td>\n",
              "      <td>0.994436</td>\n",
              "      <td>0.999002</td>\n",
              "      <td>0.999001</td>\n",
              "    </tr>\n",
              "    <tr>\n",
              "      <th>5</th>\n",
              "      <td>LightGBM</td>\n",
              "      <td>0.999001</td>\n",
              "      <td>0.998999</td>\n",
              "      <td>0.994436</td>\n",
              "      <td>0.999002</td>\n",
              "      <td>0.999001</td>\n",
              "    </tr>\n",
              "  </tbody>\n",
              "</table>\n",
              "</div>\n",
              "    <div class=\"colab-df-buttons\">\n",
              "\n",
              "  <div class=\"colab-df-container\">\n",
              "    <button class=\"colab-df-convert\" onclick=\"convertToInteractive('df-d514ced4-f4a0-4ca9-97aa-77740944760e')\"\n",
              "            title=\"Convert this dataframe to an interactive table.\"\n",
              "            style=\"display:none;\">\n",
              "\n",
              "  <svg xmlns=\"http://www.w3.org/2000/svg\" height=\"24px\" viewBox=\"0 -960 960 960\">\n",
              "    <path d=\"M120-120v-720h720v720H120Zm60-500h600v-160H180v160Zm220 220h160v-160H400v160Zm0 220h160v-160H400v160ZM180-400h160v-160H180v160Zm440 0h160v-160H620v160ZM180-180h160v-160H180v160Zm440 0h160v-160H620v160Z\"/>\n",
              "  </svg>\n",
              "    </button>\n",
              "\n",
              "  <style>\n",
              "    .colab-df-container {\n",
              "      display:flex;\n",
              "      gap: 12px;\n",
              "    }\n",
              "\n",
              "    .colab-df-convert {\n",
              "      background-color: #E8F0FE;\n",
              "      border: none;\n",
              "      border-radius: 50%;\n",
              "      cursor: pointer;\n",
              "      display: none;\n",
              "      fill: #1967D2;\n",
              "      height: 32px;\n",
              "      padding: 0 0 0 0;\n",
              "      width: 32px;\n",
              "    }\n",
              "\n",
              "    .colab-df-convert:hover {\n",
              "      background-color: #E2EBFA;\n",
              "      box-shadow: 0px 1px 2px rgba(60, 64, 67, 0.3), 0px 1px 3px 1px rgba(60, 64, 67, 0.15);\n",
              "      fill: #174EA6;\n",
              "    }\n",
              "\n",
              "    .colab-df-buttons div {\n",
              "      margin-bottom: 4px;\n",
              "    }\n",
              "\n",
              "    [theme=dark] .colab-df-convert {\n",
              "      background-color: #3B4455;\n",
              "      fill: #D2E3FC;\n",
              "    }\n",
              "\n",
              "    [theme=dark] .colab-df-convert:hover {\n",
              "      background-color: #434B5C;\n",
              "      box-shadow: 0px 1px 3px 1px rgba(0, 0, 0, 0.15);\n",
              "      filter: drop-shadow(0px 1px 2px rgba(0, 0, 0, 0.3));\n",
              "      fill: #FFFFFF;\n",
              "    }\n",
              "  </style>\n",
              "\n",
              "    <script>\n",
              "      const buttonEl =\n",
              "        document.querySelector('#df-d514ced4-f4a0-4ca9-97aa-77740944760e button.colab-df-convert');\n",
              "      buttonEl.style.display =\n",
              "        google.colab.kernel.accessAllowed ? 'block' : 'none';\n",
              "\n",
              "      async function convertToInteractive(key) {\n",
              "        const element = document.querySelector('#df-d514ced4-f4a0-4ca9-97aa-77740944760e');\n",
              "        const dataTable =\n",
              "          await google.colab.kernel.invokeFunction('convertToInteractive',\n",
              "                                                    [key], {});\n",
              "        if (!dataTable) return;\n",
              "\n",
              "        const docLinkHtml = 'Like what you see? Visit the ' +\n",
              "          '<a target=\"_blank\" href=https://colab.research.google.com/notebooks/data_table.ipynb>data table notebook</a>'\n",
              "          + ' to learn more about interactive tables.';\n",
              "        element.innerHTML = '';\n",
              "        dataTable['output_type'] = 'display_data';\n",
              "        await google.colab.output.renderOutput(dataTable, element);\n",
              "        const docLink = document.createElement('div');\n",
              "        docLink.innerHTML = docLinkHtml;\n",
              "        element.appendChild(docLink);\n",
              "      }\n",
              "    </script>\n",
              "  </div>\n",
              "\n",
              "\n",
              "<div id=\"df-3232f937-0a6f-4e08-b845-55afd20dec44\">\n",
              "  <button class=\"colab-df-quickchart\" onclick=\"quickchart('df-3232f937-0a6f-4e08-b845-55afd20dec44')\"\n",
              "            title=\"Suggest charts\"\n",
              "            style=\"display:none;\">\n",
              "\n",
              "<svg xmlns=\"http://www.w3.org/2000/svg\" height=\"24px\"viewBox=\"0 0 24 24\"\n",
              "     width=\"24px\">\n",
              "    <g>\n",
              "        <path d=\"M19 3H5c-1.1 0-2 .9-2 2v14c0 1.1.9 2 2 2h14c1.1 0 2-.9 2-2V5c0-1.1-.9-2-2-2zM9 17H7v-7h2v7zm4 0h-2V7h2v10zm4 0h-2v-4h2v4z\"/>\n",
              "    </g>\n",
              "</svg>\n",
              "  </button>\n",
              "\n",
              "<style>\n",
              "  .colab-df-quickchart {\n",
              "      --bg-color: #E8F0FE;\n",
              "      --fill-color: #1967D2;\n",
              "      --hover-bg-color: #E2EBFA;\n",
              "      --hover-fill-color: #174EA6;\n",
              "      --disabled-fill-color: #AAA;\n",
              "      --disabled-bg-color: #DDD;\n",
              "  }\n",
              "\n",
              "  [theme=dark] .colab-df-quickchart {\n",
              "      --bg-color: #3B4455;\n",
              "      --fill-color: #D2E3FC;\n",
              "      --hover-bg-color: #434B5C;\n",
              "      --hover-fill-color: #FFFFFF;\n",
              "      --disabled-bg-color: #3B4455;\n",
              "      --disabled-fill-color: #666;\n",
              "  }\n",
              "\n",
              "  .colab-df-quickchart {\n",
              "    background-color: var(--bg-color);\n",
              "    border: none;\n",
              "    border-radius: 50%;\n",
              "    cursor: pointer;\n",
              "    display: none;\n",
              "    fill: var(--fill-color);\n",
              "    height: 32px;\n",
              "    padding: 0;\n",
              "    width: 32px;\n",
              "  }\n",
              "\n",
              "  .colab-df-quickchart:hover {\n",
              "    background-color: var(--hover-bg-color);\n",
              "    box-shadow: 0 1px 2px rgba(60, 64, 67, 0.3), 0 1px 3px 1px rgba(60, 64, 67, 0.15);\n",
              "    fill: var(--button-hover-fill-color);\n",
              "  }\n",
              "\n",
              "  .colab-df-quickchart-complete:disabled,\n",
              "  .colab-df-quickchart-complete:disabled:hover {\n",
              "    background-color: var(--disabled-bg-color);\n",
              "    fill: var(--disabled-fill-color);\n",
              "    box-shadow: none;\n",
              "  }\n",
              "\n",
              "  .colab-df-spinner {\n",
              "    border: 2px solid var(--fill-color);\n",
              "    border-color: transparent;\n",
              "    border-bottom-color: var(--fill-color);\n",
              "    animation:\n",
              "      spin 1s steps(1) infinite;\n",
              "  }\n",
              "\n",
              "  @keyframes spin {\n",
              "    0% {\n",
              "      border-color: transparent;\n",
              "      border-bottom-color: var(--fill-color);\n",
              "      border-left-color: var(--fill-color);\n",
              "    }\n",
              "    20% {\n",
              "      border-color: transparent;\n",
              "      border-left-color: var(--fill-color);\n",
              "      border-top-color: var(--fill-color);\n",
              "    }\n",
              "    30% {\n",
              "      border-color: transparent;\n",
              "      border-left-color: var(--fill-color);\n",
              "      border-top-color: var(--fill-color);\n",
              "      border-right-color: var(--fill-color);\n",
              "    }\n",
              "    40% {\n",
              "      border-color: transparent;\n",
              "      border-right-color: var(--fill-color);\n",
              "      border-top-color: var(--fill-color);\n",
              "    }\n",
              "    60% {\n",
              "      border-color: transparent;\n",
              "      border-right-color: var(--fill-color);\n",
              "    }\n",
              "    80% {\n",
              "      border-color: transparent;\n",
              "      border-right-color: var(--fill-color);\n",
              "      border-bottom-color: var(--fill-color);\n",
              "    }\n",
              "    90% {\n",
              "      border-color: transparent;\n",
              "      border-bottom-color: var(--fill-color);\n",
              "    }\n",
              "  }\n",
              "</style>\n",
              "\n",
              "  <script>\n",
              "    async function quickchart(key) {\n",
              "      const quickchartButtonEl =\n",
              "        document.querySelector('#' + key + ' button');\n",
              "      quickchartButtonEl.disabled = true;  // To prevent multiple clicks.\n",
              "      quickchartButtonEl.classList.add('colab-df-spinner');\n",
              "      try {\n",
              "        const charts = await google.colab.kernel.invokeFunction(\n",
              "            'suggestCharts', [key], {});\n",
              "      } catch (error) {\n",
              "        console.error('Error during call to suggestCharts:', error);\n",
              "      }\n",
              "      quickchartButtonEl.classList.remove('colab-df-spinner');\n",
              "      quickchartButtonEl.classList.add('colab-df-quickchart-complete');\n",
              "    }\n",
              "    (() => {\n",
              "      let quickchartButtonEl =\n",
              "        document.querySelector('#df-3232f937-0a6f-4e08-b845-55afd20dec44 button');\n",
              "      quickchartButtonEl.style.display =\n",
              "        google.colab.kernel.accessAllowed ? 'block' : 'none';\n",
              "    })();\n",
              "  </script>\n",
              "</div>\n",
              "\n",
              "  <div id=\"id_9d9846dd-30f8-43f9-bc96-92d8008135c6\">\n",
              "    <style>\n",
              "      .colab-df-generate {\n",
              "        background-color: #E8F0FE;\n",
              "        border: none;\n",
              "        border-radius: 50%;\n",
              "        cursor: pointer;\n",
              "        display: none;\n",
              "        fill: #1967D2;\n",
              "        height: 32px;\n",
              "        padding: 0 0 0 0;\n",
              "        width: 32px;\n",
              "      }\n",
              "\n",
              "      .colab-df-generate:hover {\n",
              "        background-color: #E2EBFA;\n",
              "        box-shadow: 0px 1px 2px rgba(60, 64, 67, 0.3), 0px 1px 3px 1px rgba(60, 64, 67, 0.15);\n",
              "        fill: #174EA6;\n",
              "      }\n",
              "\n",
              "      [theme=dark] .colab-df-generate {\n",
              "        background-color: #3B4455;\n",
              "        fill: #D2E3FC;\n",
              "      }\n",
              "\n",
              "      [theme=dark] .colab-df-generate:hover {\n",
              "        background-color: #434B5C;\n",
              "        box-shadow: 0px 1px 3px 1px rgba(0, 0, 0, 0.15);\n",
              "        filter: drop-shadow(0px 1px 2px rgba(0, 0, 0, 0.3));\n",
              "        fill: #FFFFFF;\n",
              "      }\n",
              "    </style>\n",
              "    <button class=\"colab-df-generate\" onclick=\"generateWithVariable('result')\"\n",
              "            title=\"Generate code using this dataframe.\"\n",
              "            style=\"display:none;\">\n",
              "\n",
              "  <svg xmlns=\"http://www.w3.org/2000/svg\" height=\"24px\"viewBox=\"0 0 24 24\"\n",
              "       width=\"24px\">\n",
              "    <path d=\"M7,19H8.4L18.45,9,17,7.55,7,17.6ZM5,21V16.75L18.45,3.32a2,2,0,0,1,2.83,0l1.4,1.43a1.91,1.91,0,0,1,.58,1.4,1.91,1.91,0,0,1-.58,1.4L9.25,21ZM18.45,9,17,7.55Zm-12,3A5.31,5.31,0,0,0,4.9,8.1,5.31,5.31,0,0,0,1,6.5,5.31,5.31,0,0,0,4.9,4.9,5.31,5.31,0,0,0,6.5,1,5.31,5.31,0,0,0,8.1,4.9,5.31,5.31,0,0,0,12,6.5,5.46,5.46,0,0,0,6.5,12Z\"/>\n",
              "  </svg>\n",
              "    </button>\n",
              "    <script>\n",
              "      (() => {\n",
              "      const buttonEl =\n",
              "        document.querySelector('#id_9d9846dd-30f8-43f9-bc96-92d8008135c6 button.colab-df-generate');\n",
              "      buttonEl.style.display =\n",
              "        google.colab.kernel.accessAllowed ? 'block' : 'none';\n",
              "\n",
              "      buttonEl.onclick = () => {\n",
              "        google.colab.notebook.generateWithVariable('result');\n",
              "      }\n",
              "      })();\n",
              "    </script>\n",
              "  </div>\n",
              "\n",
              "    </div>\n",
              "  </div>\n"
            ],
            "application/vnd.google.colaboratory.intrinsic+json": {
              "type": "dataframe",
              "variable_name": "result",
              "summary": "{\n  \"name\": \"result\",\n  \"rows\": 6,\n  \"fields\": [\n    {\n      \"column\": \"Model\",\n      \"properties\": {\n        \"dtype\": \"string\",\n        \"num_unique_values\": 6,\n        \"samples\": [\n          \"Logistic Regression\",\n          \"Naive Bayes\",\n          \"LightGBM\"\n        ],\n        \"semantic_type\": \"\",\n        \"description\": \"\"\n      }\n    },\n    {\n      \"column\": \"accuracy\",\n      \"properties\": {\n        \"dtype\": \"number\",\n        \"std\": 0.0027297904138420424,\n        \"min\": 0.9920079920079921,\n        \"max\": 0.999000999000999,\n        \"num_unique_values\": 4,\n        \"samples\": [\n          0.9920079920079921,\n          0.997002997002997,\n          0.998001998001998\n        ],\n        \"semantic_type\": \"\",\n        \"description\": \"\"\n      }\n    },\n    {\n      \"column\": \"f1_score\",\n      \"properties\": {\n        \"dtype\": \"number\",\n        \"std\": 0.0026760974513651663,\n        \"min\": 0.9921438650535641,\n        \"max\": 0.9989987659867842,\n        \"num_unique_values\": 4,\n        \"samples\": [\n          0.9921438650535641,\n          0.9969826677674309,\n          0.9979930146227263\n        ],\n        \"semantic_type\": \"\",\n        \"description\": \"\"\n      }\n    },\n    {\n      \"column\": \"mcc\",\n      \"properties\": {\n        \"dtype\": \"number\",\n        \"std\": 0.01423921125811387,\n        \"min\": 0.9579690016115711,\n        \"max\": 0.994435739012024,\n        \"num_unique_values\": 4,\n        \"samples\": [\n          0.9579690016115711,\n          0.9832502089759897,\n          0.9888525963784193\n        ],\n        \"semantic_type\": \"\",\n        \"description\": \"\"\n      }\n    },\n    {\n      \"column\": \"precision\",\n      \"properties\": {\n        \"dtype\": \"number\",\n        \"std\": 0.00249997524511167,\n        \"min\": 0.9925999925999927,\n        \"max\": 0.9990021065409092,\n        \"num_unique_values\": 4,\n        \"samples\": [\n          0.9925999925999927,\n          0.997012942809403,\n          0.9980064232555927\n        ],\n        \"semantic_type\": \"\",\n        \"description\": \"\"\n      }\n    },\n    {\n      \"column\": \"recall\",\n      \"properties\": {\n        \"dtype\": \"number\",\n        \"std\": 0.0027297904138420424,\n        \"min\": 0.9920079920079921,\n        \"max\": 0.999000999000999,\n        \"num_unique_values\": 4,\n        \"samples\": [\n          0.9920079920079921,\n          0.997002997002997,\n          0.998001998001998\n        ],\n        \"semantic_type\": \"\",\n        \"description\": \"\"\n      }\n    }\n  ]\n}"
            }
          },
          "metadata": {},
          "execution_count": 44
        }
      ]
    },
    {
      "cell_type": "code",
      "source": [],
      "metadata": {
        "id": "J4VV9pUtWNW9"
      },
      "id": "J4VV9pUtWNW9",
      "execution_count": null,
      "outputs": []
    },
    {
      "cell_type": "code",
      "source": [
        "result.set_index('Model').plot(kind='barh', figsize=(12, 8))\n",
        "plt.title('Model Performance Comparison')\n",
        "plt.ylabel('Scores')\n",
        "plt.xlabel('Models')\n",
        "plt.xticks(rotation=45)\n",
        "plt.legend(loc='upper left', bbox_to_anchor=(1, 1))\n",
        "plt.tight_layout()\n",
        "plt.show()"
      ],
      "metadata": {
        "colab": {
          "base_uri": "https://localhost:8080/",
          "height": 761
        },
        "id": "F3d-gEXuhjXP",
        "outputId": "3a246801-c690-4cec-b2ef-b6716cb588e6"
      },
      "id": "F3d-gEXuhjXP",
      "execution_count": null,
      "outputs": [
        {
          "output_type": "display_data",
          "data": {
            "text/plain": [
              "<Figure size 1200x800 with 1 Axes>"
            ],
            "image/png": "[encoded data removed]"
          },
          "metadata": {}
        }
      ]
    },
    {
      "cell_type": "markdown",
      "source": [
        "### I created a small Email Prompt to show whether the email is Phising or Normal."
      ],
      "metadata": {
        "id": "uUNjHOFShRIG"
      },
      "id": "uUNjHOFShRIG"
    },
    {
      "cell_type": "code",
      "source": [
        "import joblib"
      ],
      "metadata": {
        "id": "ZoD4iU3ejwnN"
      },
      "id": "ZoD4iU3ejwnN",
      "execution_count": null,
      "outputs": []
    },
    {
      "cell_type": "code",
      "source": [
        "def classify_email(model_path, vectorizer_path, email_text):\n",
        "    \"\"\"\n",
        "    Classifies an input email text to determine if it is a phishing email or not.\n",
        "\n",
        "    Parameters:\n",
        "    model_path (str): Path to the saved model.\n",
        "    vectorizer_path (str): Path to the saved vectorizer.\n",
        "    email_text (str): The email text to be classified.\n",
        "\n",
        "    Returns:\n",
        "    str: 'Phishing' if the email is classified as phishing, 'Not Phishing' otherwise.\n",
        "    \"\"\"\n",
        "    # Load the saved model and vectorizer\n",
        "    model_saved = joblib.load(model_path)\n",
        "    vector_saved = joblib.load(vectorizer_path)\n",
        "\n",
        "    # Preprocess the text\n",
        "    clean_sample_text = preprocess_text(email_text)\n",
        "\n",
        "    # Transform the text using the vectorizer to numbers\n",
        "    sample_vec = vector_saved.transform([clean_sample_text])\n",
        "\n",
        "    # Predict using the model\n",
        "    prediction = model_saved.predict(sample_vec)\n",
        "\n",
        "    # Map the prediction to a human-readable label\n",
        "    if prediction[0] == 1:\n",
        "        return 'Phishing'\n",
        "    else:\n",
        "        return 'Normal'"
      ],
      "metadata": {
        "id": "L7At3SUVmR5J"
      },
      "id": "L7At3SUVmR5J",
      "execution_count": null,
      "outputs": []
    },
    {
      "cell_type": "markdown",
      "source": [
        "### save the model"
      ],
      "metadata": {
        "id": "DpjbwCvUwJl7"
      },
      "id": "DpjbwCvUwJl7"
    },
    {
      "cell_type": "code",
      "source": [
        "joblib.dump(lgb_model, \"lgb_model.joblib\")\n",
        "joblib.dump(tfv, \"tfv.joblib\")"
      ],
      "metadata": {
        "colab": {
          "base_uri": "https://localhost:8080/"
        },
        "id": "dG_Lr-64u9VB",
        "outputId": "476de840-7572-4960-dfa3-259ad7f99aae"
      },
      "id": "dG_Lr-64u9VB",
      "execution_count": null,
      "outputs": [
        {
          "output_type": "execute_result",
          "data": {
            "text/plain": [
              "['tfv.joblib']"
            ]
          },
          "metadata": {},
          "execution_count": 48
        }
      ]
    },
    {
      "cell_type": "code",
      "source": [
        "joblib.dump(xgb_model, \"xgb_model.joblib\")"
      ],
      "metadata": {
        "colab": {
          "base_uri": "https://localhost:8080/"
        },
        "id": "OQ0chh6KhXOQ",
        "outputId": "85e6e063-7f1b-4de1-dca3-a1a4d8d29415"
      },
      "id": "OQ0chh6KhXOQ",
      "execution_count": null,
      "outputs": [
        {
          "output_type": "execute_result",
          "data": {
            "text/plain": [
              "['xgb_model.joblib']"
            ]
          },
          "metadata": {},
          "execution_count": 49
        }
      ]
    },
    {
      "cell_type": "code",
      "source": [
        "model_saved = joblib.load(\"lgb_model.joblib\")\n",
        "vector_saved = joblib.load(\"tfv.joblib\")"
      ],
      "metadata": {
        "id": "FYeijGH2oWFK"
      },
      "id": "FYeijGH2oWFK",
      "execution_count": null,
      "outputs": []
    },
    {
      "cell_type": "markdown",
      "source": [
        "### Interface Email"
      ],
      "metadata": {
        "id": "vZhmatw-nRUR"
      },
      "id": "vZhmatw-nRUR"
    },
    {
      "cell_type": "markdown",
      "source": [
        "### Gradio"
      ],
      "metadata": {
        "id": "72hvJU90YneI"
      },
      "id": "72hvJU90YneI"
    },
    {
      "cell_type": "code",
      "source": [
        "#%%capture\n",
        "!pip install gradio"
      ],
      "metadata": {
        "colab": {
          "base_uri": "https://localhost:8080/"
        },
        "id": "PoXo2jFiaeY3",
        "outputId": "b2335147-18c7-4d52-e43c-0af6e8c96d72"
      },
      "id": "PoXo2jFiaeY3",
      "execution_count": null,
      "outputs": [
        {
          "output_type": "stream",
          "name": "stdout",
          "text": [
            "Collecting gradio\n",
            "  Downloading gradio-4.40.0-py3-none-any.whl.metadata (15 kB)\n",
            "Collecting aiofiles<24.0,>=22.0 (from gradio)\n",
            "  Downloading aiofiles-23.2.1-py3-none-any.whl.metadata (9.7 kB)\n",
            "Requirement already satisfied: anyio<5.0,>=3.0 in /usr/local/lib/python3.10/dist-packages (from gradio) (3.7.1)\n",
            "Collecting fastapi (from gradio)\n",
            "  Downloading fastapi-0.112.0-py3-none-any.whl.metadata (27 kB)\n",
            "Collecting ffmpy (from gradio)\n",
            "  Downloading ffmpy-0.4.0-py3-none-any.whl.metadata (2.9 kB)\n",
            "Collecting gradio-client==1.2.0 (from gradio)\n",
            "  Downloading gradio_client-1.2.0-py3-none-any.whl.metadata (7.1 kB)\n",
            "Collecting httpx>=0.24.1 (from gradio)\n",
            "  Downloading httpx-0.27.0-py3-none-any.whl.metadata (7.2 kB)\n",
            "Requirement already satisfied: huggingface-hub>=0.19.3 in /usr/local/lib/python3.10/dist-packages (from gradio) (0.23.5)\n",
            "Requirement already satisfied: importlib-resources<7.0,>=1.3 in /usr/local/lib/python3.10/dist-packages (from gradio) (6.4.0)\n",
            "Requirement already satisfied: jinja2<4.0 in /usr/local/lib/python3.10/dist-packages (from gradio) (3.1.4)\n",
            "Requirement already satisfied: markupsafe~=2.0 in /usr/local/lib/python3.10/dist-packages (from gradio) (2.1.5)\n",
            "Requirement already satisfied: matplotlib~=3.0 in /usr/local/lib/python3.10/dist-packages (from gradio) (3.7.1)\n",
            "Requirement already satisfied: numpy<3.0,>=1.0 in /usr/local/lib/python3.10/dist-packages (from gradio) (1.26.4)\n",
            "Collecting orjson~=3.0 (from gradio)\n",
            "  Downloading orjson-3.10.6-cp310-cp310-manylinux_2_17_x86_64.manylinux2014_x86_64.whl.metadata (50 kB)\n",
            "\u001b[2K     \u001b[90m━━━━━━━━━━━━━━━━━━━━━━━━━━━━━━━━━━━━━━━━\u001b[0m \u001b[32m50.4/50.4 kB\u001b[0m \u001b[31m3.0 MB/s\u001b[0m eta \u001b[36m0:00:00\u001b[0m\n",
            "\u001b[?25hRequirement already satisfied: packaging in /usr/local/lib/python3.10/dist-packages (from gradio) (24.1)\n",
            "Requirement already satisfied: pandas<3.0,>=1.0 in /usr/local/lib/python3.10/dist-packages (from gradio) (2.1.4)\n",
            "Requirement already satisfied: pillow<11.0,>=8.0 in /usr/local/lib/python3.10/dist-packages (from gradio) (9.4.0)\n",
            "Requirement already satisfied: pydantic>=2.0 in /usr/local/lib/python3.10/dist-packages (from gradio) (2.8.2)\n",
            "Collecting pydub (from gradio)\n",
            "  Downloading pydub-0.25.1-py2.py3-none-any.whl.metadata (1.4 kB)\n",
            "Collecting python-multipart>=0.0.9 (from gradio)\n",
            "  Downloading python_multipart-0.0.9-py3-none-any.whl.metadata (2.5 kB)\n",
            "Requirement already satisfied: pyyaml<7.0,>=5.0 in /usr/local/lib/python3.10/dist-packages (from gradio) (6.0.1)\n",
            "Collecting ruff>=0.2.2 (from gradio)\n",
            "  Downloading ruff-0.5.6-py3-none-manylinux_2_17_x86_64.manylinux2014_x86_64.whl.metadata (24 kB)\n",
            "Collecting semantic-version~=2.0 (from gradio)\n",
            "  Downloading semantic_version-2.10.0-py2.py3-none-any.whl.metadata (9.7 kB)\n",
            "Collecting tomlkit==0.12.0 (from gradio)\n",
            "  Downloading tomlkit-0.12.0-py3-none-any.whl.metadata (2.7 kB)\n",
            "Requirement already satisfied: typer<1.0,>=0.12 in /usr/local/lib/python3.10/dist-packages (from gradio) (0.12.3)\n",
            "Requirement already satisfied: typing-extensions~=4.0 in /usr/local/lib/python3.10/dist-packages (from gradio) (4.12.2)\n",
            "Requirement already satisfied: urllib3~=2.0 in /usr/local/lib/python3.10/dist-packages (from gradio) (2.0.7)\n",
            "Collecting uvicorn>=0.14.0 (from gradio)\n",
            "  Downloading uvicorn-0.30.5-py3-none-any.whl.metadata (6.6 kB)\n",
            "Requirement already satisfied: fsspec in /usr/local/lib/python3.10/dist-packages (from gradio-client==1.2.0->gradio) (2024.6.1)\n",
            "Collecting websockets<13.0,>=10.0 (from gradio-client==1.2.0->gradio)\n",
            "  Downloading websockets-12.0-cp310-cp310-manylinux_2_5_x86_64.manylinux1_x86_64.manylinux_2_17_x86_64.manylinux2014_x86_64.whl.metadata (6.6 kB)\n",
            "Requirement already satisfied: idna>=2.8 in /usr/local/lib/python3.10/dist-packages (from anyio<5.0,>=3.0->gradio) (3.7)\n",
            "Requirement already satisfied: sniffio>=1.1 in /usr/local/lib/python3.10/dist-packages (from anyio<5.0,>=3.0->gradio) (1.3.1)\n",
            "Requirement already satisfied: exceptiongroup in /usr/local/lib/python3.10/dist-packages (from anyio<5.0,>=3.0->gradio) (1.2.2)\n",
            "Requirement already satisfied: certifi in /usr/local/lib/python3.10/dist-packages (from httpx>=0.24.1->gradio) (2024.7.4)\n",
            "Collecting httpcore==1.* (from httpx>=0.24.1->gradio)\n",
            "  Downloading httpcore-1.0.5-py3-none-any.whl.metadata (20 kB)\n",
            "Collecting h11<0.15,>=0.13 (from httpcore==1.*->httpx>=0.24.1->gradio)\n",
            "  Downloading h11-0.14.0-py3-none-any.whl.metadata (8.2 kB)\n",
            "Requirement already satisfied: filelock in /usr/local/lib/python3.10/dist-packages (from huggingface-hub>=0.19.3->gradio) (3.15.4)\n",
            "Requirement already satisfied: requests in /usr/local/lib/python3.10/dist-packages (from huggingface-hub>=0.19.3->gradio) (2.31.0)\n",
            "Requirement already satisfied: tqdm>=4.42.1 in /usr/local/lib/python3.10/dist-packages (from huggingface-hub>=0.19.3->gradio) (4.66.4)\n",
            "Requirement already satisfied: contourpy>=1.0.1 in /usr/local/lib/python3.10/dist-packages (from matplotlib~=3.0->gradio) (1.2.1)\n",
            "Requirement already satisfied: cycler>=0.10 in /usr/local/lib/python3.10/dist-packages (from matplotlib~=3.0->gradio) (0.12.1)\n",
            "Requirement already satisfied: fonttools>=4.22.0 in /usr/local/lib/python3.10/dist-packages (from matplotlib~=3.0->gradio) (4.53.1)\n",
            "Requirement already satisfied: kiwisolver>=1.0.1 in /usr/local/lib/python3.10/dist-packages (from matplotlib~=3.0->gradio) (1.4.5)\n",
            "Requirement already satisfied: pyparsing>=2.3.1 in /usr/local/lib/python3.10/dist-packages (from matplotlib~=3.0->gradio) (3.1.2)\n",
            "Requirement already satisfied: python-dateutil>=2.7 in /usr/local/lib/python3.10/dist-packages (from matplotlib~=3.0->gradio) (2.8.2)\n",
            "Requirement already satisfied: pytz>=2020.1 in /usr/local/lib/python3.10/dist-packages (from pandas<3.0,>=1.0->gradio) (2024.1)\n",
            "Requirement already satisfied: tzdata>=2022.1 in /usr/local/lib/python3.10/dist-packages (from pandas<3.0,>=1.0->gradio) (2024.1)\n",
            "Requirement already satisfied: annotated-types>=0.4.0 in /usr/local/lib/python3.10/dist-packages (from pydantic>=2.0->gradio) (0.7.0)\n",
            "Requirement already satisfied: pydantic-core==2.20.1 in /usr/local/lib/python3.10/dist-packages (from pydantic>=2.0->gradio) (2.20.1)\n",
            "Requirement already satisfied: click>=8.0.0 in /usr/local/lib/python3.10/dist-packages (from typer<1.0,>=0.12->gradio) (8.1.7)\n",
            "Requirement already satisfied: shellingham>=1.3.0 in /usr/local/lib/python3.10/dist-packages (from typer<1.0,>=0.12->gradio) (1.5.4)\n",
            "Requirement already satisfied: rich>=10.11.0 in /usr/local/lib/python3.10/dist-packages (from typer<1.0,>=0.12->gradio) (13.7.1)\n",
            "Collecting starlette<0.38.0,>=0.37.2 (from fastapi->gradio)\n",
            "  Downloading starlette-0.37.2-py3-none-any.whl.metadata (5.9 kB)\n",
            "Requirement already satisfied: six>=1.5 in /usr/local/lib/python3.10/dist-packages (from python-dateutil>=2.7->matplotlib~=3.0->gradio) (1.16.0)\n",
            "Requirement already satisfied: markdown-it-py>=2.2.0 in /usr/local/lib/python3.10/dist-packages (from rich>=10.11.0->typer<1.0,>=0.12->gradio) (3.0.0)\n",
            "Requirement already satisfied: pygments<3.0.0,>=2.13.0 in /usr/local/lib/python3.10/dist-packages (from rich>=10.11.0->typer<1.0,>=0.12->gradio) (2.16.1)\n",
            "Requirement already satisfied: charset-normalizer<4,>=2 in /usr/local/lib/python3.10/dist-packages (from requests->huggingface-hub>=0.19.3->gradio) (3.3.2)\n",
            "Requirement already satisfied: mdurl~=0.1 in /usr/local/lib/python3.10/dist-packages (from markdown-it-py>=2.2.0->rich>=10.11.0->typer<1.0,>=0.12->gradio) (0.1.2)\n",
            "Downloading gradio-4.40.0-py3-none-any.whl (12.5 MB)\n",
            "\u001b[2K   \u001b[90m━━━━━━━━━━━━━━━━━━━━━━━━━━━━━━━━━━━━━━━━\u001b[0m \u001b[32m12.5/12.5 MB\u001b[0m \u001b[31m49.5 MB/s\u001b[0m eta \u001b[36m0:00:00\u001b[0m\n",
            "\u001b[?25hDownloading gradio_client-1.2.0-py3-none-any.whl (318 kB)\n",
            "\u001b[2K   \u001b[90m━━━━━━━━━━━━━━━━━━━━━━━━━━━━━━━━━━━━━━━━\u001b[0m \u001b[32m318.6/318.6 kB\u001b[0m \u001b[31m16.1 MB/s\u001b[0m eta \u001b[36m0:00:00\u001b[0m\n",
            "\u001b[?25hDownloading tomlkit-0.12.0-py3-none-any.whl (37 kB)\n",
            "Downloading aiofiles-23.2.1-py3-none-any.whl (15 kB)\n",
            "Downloading httpx-0.27.0-py3-none-any.whl (75 kB)\n",
            "\u001b[2K   \u001b[90m━━━━━━━━━━━━━━━━━━━━━━━━━━━━━━━━━━━━━━━━\u001b[0m \u001b[32m75.6/75.6 kB\u001b[0m \u001b[31m4.7 MB/s\u001b[0m eta \u001b[36m0:00:00\u001b[0m\n",
            "\u001b[?25hDownloading httpcore-1.0.5-py3-none-any.whl (77 kB)\n",
            "\u001b[2K   \u001b[90m━━━━━━━━━━━━━━━━━━━━━━━━━━━━━━━━━━━━━━━━\u001b[0m \u001b[32m77.9/77.9 kB\u001b[0m \u001b[31m5.4 MB/s\u001b[0m eta \u001b[36m0:00:00\u001b[0m\n",
            "\u001b[?25hDownloading orjson-3.10.6-cp310-cp310-manylinux_2_17_x86_64.manylinux2014_x86_64.whl (141 kB)\n",
            "\u001b[2K   \u001b[90m━━━━━━━━━━━━━━━━━━━━━━━━━━━━━━━━━━━━━━━━\u001b[0m \u001b[32m141.1/141.1 kB\u001b[0m \u001b[31m8.9 MB/s\u001b[0m eta \u001b[36m0:00:00\u001b[0m\n",
            "\u001b[?25hDownloading python_multipart-0.0.9-py3-none-any.whl (22 kB)\n",
            "Downloading ruff-0.5.6-py3-none-manylinux_2_17_x86_64.manylinux2014_x86_64.whl (10.2 MB)\n",
            "\u001b[2K   \u001b[90m━━━━━━━━━━━━━━━━━━━━━━━━━━━━━━━━━━━━━━━━\u001b[0m \u001b[32m10.2/10.2 MB\u001b[0m \u001b[31m60.8 MB/s\u001b[0m eta \u001b[36m0:00:00\u001b[0m\n",
            "\u001b[?25hDownloading semantic_version-2.10.0-py2.py3-none-any.whl (15 kB)\n",
            "Downloading uvicorn-0.30.5-py3-none-any.whl (62 kB)\n",
            "\u001b[2K   \u001b[90m━━━━━━━━━━━━━━━━━━━━━━━━━━━━━━━━━━━━━━━━\u001b[0m \u001b[32m62.8/62.8 kB\u001b[0m \u001b[31m3.5 MB/s\u001b[0m eta \u001b[36m0:00:00\u001b[0m\n",
            "\u001b[?25hDownloading fastapi-0.112.0-py3-none-any.whl (93 kB)\n",
            "\u001b[2K   \u001b[90m━━━━━━━━━━━━━━━━━━━━━━━━━━━━━━━━━━━━━━━━\u001b[0m \u001b[32m93.1/93.1 kB\u001b[0m \u001b[31m5.3 MB/s\u001b[0m eta \u001b[36m0:00:00\u001b[0m\n",
            "\u001b[?25hDownloading ffmpy-0.4.0-py3-none-any.whl (5.8 kB)\n",
            "Downloading pydub-0.25.1-py2.py3-none-any.whl (32 kB)\n",
            "Downloading h11-0.14.0-py3-none-any.whl (58 kB)\n",
            "\u001b[2K   \u001b[90m━━━━━━━━━━━━━━━━━━━━━━━━━━━━━━━━━━━━━━━━\u001b[0m \u001b[32m58.3/58.3 kB\u001b[0m \u001b[31m3.6 MB/s\u001b[0m eta \u001b[36m0:00:00\u001b[0m\n",
            "\u001b[?25hDownloading starlette-0.37.2-py3-none-any.whl (71 kB)\n",
            "\u001b[2K   \u001b[90m━━━━━━━━━━━━━━━━━━━━━━━━━━━━━━━━━━━━━━━━\u001b[0m \u001b[32m71.9/71.9 kB\u001b[0m \u001b[31m4.7 MB/s\u001b[0m eta \u001b[36m0:00:00\u001b[0m\n",
            "\u001b[?25hDownloading websockets-12.0-cp310-cp310-manylinux_2_5_x86_64.manylinux1_x86_64.manylinux_2_17_x86_64.manylinux2014_x86_64.whl (130 kB)\n",
            "\u001b[2K   \u001b[90m━━━━━━━━━━━━━━━━━━━━━━━━━━━━━━━━━━━━━━━━\u001b[0m \u001b[32m130.2/130.2 kB\u001b[0m \u001b[31m6.9 MB/s\u001b[0m eta \u001b[36m0:00:00\u001b[0m\n",
            "\u001b[?25hInstalling collected packages: pydub, websockets, tomlkit, semantic-version, ruff, python-multipart, orjson, h11, ffmpy, aiofiles, uvicorn, starlette, httpcore, httpx, fastapi, gradio-client, gradio\n",
            "  Attempting uninstall: tomlkit\n",
            "    Found existing installation: tomlkit 0.13.0\n",
            "    Uninstalling tomlkit-0.13.0:\n",
            "      Successfully uninstalled tomlkit-0.13.0\n",
            "Successfully installed aiofiles-23.2.1 fastapi-0.112.0 ffmpy-0.4.0 gradio-4.40.0 gradio-client-1.2.0 h11-0.14.0 httpcore-1.0.5 httpx-0.27.0 orjson-3.10.6 pydub-0.25.1 python-multipart-0.0.9 ruff-0.5.6 semantic-version-2.10.0 starlette-0.37.2 tomlkit-0.12.0 uvicorn-0.30.5 websockets-12.0\n"
          ]
        }
      ]
    },
    {
      "cell_type": "code",
      "source": [
        "import gradio as gr"
      ],
      "metadata": {
        "id": "Epm2s4ifYy0h"
      },
      "id": "Epm2s4ifYy0h",
      "execution_count": null,
      "outputs": []
    },
    {
      "cell_type": "code",
      "source": [
        "# Load your ML model and vectorizer\n",
        "model_path = '/content/lgb_model.joblib'\n",
        "vectorizer_path = '/content/tfv.joblib'\n",
        "\n",
        "model = joblib.load(model_path)\n",
        "vectorizer = joblib.load(vectorizer_path)\n",
        "\n",
        "def predict(email_text):\n",
        "    try:\n",
        "        # Preprocess the input\n",
        "        email_vector = vectorizer.transform([email_text])\n",
        "        # Predict using the loaded model\n",
        "        prediction = model.predict(email_vector)\n",
        "        if prediction[0] == 1:\n",
        "            return 'Phishing'\n",
        "        else:\n",
        "            return 'Normal'\n",
        "    except Exception as e:\n",
        "        # Print the exception and return it as a string for debugging\n",
        "        print(f\"Error: {e}\")\n",
        "        return f\"Error: {e}\"\n",
        "\n",
        "# Custom CSS for black background\n",
        "custom_css = \"\"\"\n",
        "body {\n",
        "    background-color: black !important;\n",
        "    color: white !important;\n",
        "}\n",
        ".gradio-container {\n",
        "    background-color: black !important;\n",
        "    color: white !important;\n",
        "}\n",
        "textarea, input, .gr-button, .gr-button-lg, .gr-button-primary {\n",
        "    background-color: #333 !important;\n",
        "    color: white !important;\n",
        "    border: 1px solid #555 !important;\n",
        "}\n",
        ".gr-button-lg, .gr-button-primary {\n",
        "    background-color: #444 !important;\n",
        "    color: white !important;\n",
        "}\n",
        "\"\"\"\n",
        "\n",
        "# Create the Gradio interface\n",
        "interface = gr.Interface(fn=predict,\n",
        "                         inputs=gr.Textbox(lines=5, placeholder=\"Enter the email text here...\"),\n",
        "                         outputs=\"text\",\n",
        "                         title=\"Email Text Classifier\",\n",
        "                         css=custom_css)\n",
        "\n",
        "# Launch the interface with the shareable link\n",
        "if __name__ == \"__main__\":\n",
        "    interface.launch(share=True)"
      ],
      "metadata": {
        "colab": {
          "base_uri": "https://localhost:8080/",
          "height": 609
        },
        "id": "JA2tFpfKYoXv",
        "outputId": "d2be1232-f22a-4d67-fc90-6e21fd1aca0e"
      },
      "id": "JA2tFpfKYoXv",
      "execution_count": null,
      "outputs": [
        {
          "output_type": "stream",
          "name": "stdout",
          "text": [
            "Colab notebook detected. To show errors in colab notebook, set debug=True in launch()\n",
            "Running on public URL: https://0c0927eb4a0b54101b.gradio.live\n",
            "\n",
            "This share link expires in 72 hours. For free permanent hosting and GPU upgrades, run `gradio deploy` from Terminal to deploy to Spaces (https://huggingface.co/spaces)\n"
          ]
        },
        {
          "output_type": "display_data",
          "data": {
            "text/plain": [
              "<IPython.core.display.HTML object>"
            ],
            "text/html": [
              "<div><iframe src=\"https://0c0927eb4a0b54101b.gradio.live\" width=\"100%\" height=\"500\" allow=\"autoplay; camera; microphone; clipboard-read; clipboard-write;\" frameborder=\"0\" allowfullscreen></iframe></div>"
            ]
          },
          "metadata": {}
        }
      ]
    },
    {
      "cell_type": "code",
      "source": [],
      "metadata": {
        "id": "sfVSGYUNaqcK"
      },
      "id": "sfVSGYUNaqcK",
      "execution_count": null,
      "outputs": []
    }
  ],
  "metadata": {
    "colab": {
      "provenance": []
    },
    "kernelspec": {
      "display_name": "Python 3 (ipykernel)",
      "language": "python",
      "name": "python3"
    },
    "language_info": {
      "codemirror_mode": {
        "name": "ipython",
        "version": 3
      },
      "file_extension": ".py",
      "mimetype": "text/x-python",
      "name": "python",
      "nbconvert_exporter": "python",
      "pygments_lexer": "ipython3",
      "version": "3.9.12"
    }
  },
  "nbformat": 4,
  "nbformat_minor": 5
}